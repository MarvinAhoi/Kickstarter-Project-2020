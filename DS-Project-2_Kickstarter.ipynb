{
 "cells": [
  {
   "cell_type": "markdown",
   "metadata": {},
   "source": [
    "# DS Project 2: Kickstarter data set  \n",
    "by Sandra Schwegmann & Marvin Lorenzen"
   ]
  },
  {
   "cell_type": "markdown",
   "metadata": {},
   "source": [
    "## Project Goal"
   ]
  },
  {
   "cell_type": "code",
   "execution_count": null,
   "metadata": {},
   "outputs": [],
   "source": []
  },
  {
   "cell_type": "markdown",
   "metadata": {},
   "source": [
    "## Data Describtion"
   ]
  },
  {
   "cell_type": "markdown",
   "metadata": {},
   "source": [
    "        backers_count:              number of supporters \n",
    "        blurb                       teaser sentence\n",
    "        category                    dictonary\n",
    "        converted_pledged_amount:   ?\n",
    "        country                     209222 non-null object\n",
    "        created_at                  209222 non-null int64\n",
    "        creator                     209222 non-null object\n",
    "        currency                    209222 non-null object\n",
    "        currency_symbol             209222 non-null object\n",
    "        currency_trailing_code      209222 non-null bool\n",
    "        current_currency            209222 non-null object\n",
    "        deadline                    209222 non-null int64\n",
    "        disable_communication       209222 non-null bool\n",
    "        friends                     300 non-null object\n",
    "        fx_rate                     209222 non-null float64\n",
    "        goal                        target sum\n",
    "        id                          209222 non-null int64\n",
    "        is_backing                  300 non-null object\n",
    "        is_starrable                ?\n",
    "        is_starred                  300 non-null object\n",
    "        launched_at                 209222 non-null int64\n",
    "        location                    208996 non-null object\n",
    "        name                        209222 non-null object\n",
    "        permissions                 300 non-null object\n",
    "        photo                       209222 non-null object\n",
    "        pledged                     promised money\n",
    "        profile                     209222 non-null object\n",
    "        slug                        ?\n",
    "        source_url                  209222 non-null object\n",
    "        spotlight                   use the spotlight-function, which is an integrated homepage\n",
    "        staff_pick                  tool to connect creators and backers\n",
    "        state                       status of the project\n",
    "        state_changed_at            209222 non-null int64\n",
    "        static_usd_rate             factor for conversion in USD\n",
    "        urls                        209222 non-null object\n",
    "        usd_pledged                 promised money in usd\n",
    "        usd_type                    208742 non-null object"
   ]
  },
  {
   "cell_type": "markdown",
   "metadata": {},
   "source": [
    "# Data Mining"
   ]
  },
  {
   "cell_type": "code",
   "execution_count": 843,
   "metadata": {},
   "outputs": [],
   "source": [
    "import pandas as pd\n",
    "import glob\n",
    "import numpy as np\n",
    "import operator\n",
    "import seaborn as sns\n",
    "import matplotlib.pyplot as plt\n",
    "from numpy import median\n",
    "from sklearn.model_selection import train_test_split\n",
    "from sklearn.pipeline import Pipeline\n",
    "from sklearn.compose import ColumnTransformer\n",
    "from sklearn.preprocessing import OneHotEncoder, StandardScaler\n",
    "from sklearn.impute import SimpleImputer\n",
    "from sklearn.linear_model import LogisticRegression\n",
    "from sklearn.model_selection import cross_val_predict, cross_val_score, cross_validate\n",
    "from sklearn.metrics import roc_curve, confusion_matrix, accuracy_score, recall_score, precision_score\n",
    "from sklearn.metrics import classification_report, confusion_matrix\n",
    "from sklearn.ensemble import RandomForestClassifier\n",
    "from sklearn.ensemble import AdaBoostClassifier\n",
    "from sklearn.model_selection import GridSearchCV\n",
    "from sklearn.metrics import make_scorer\n",
    "from sklearn.tree import DecisionTreeClassifier\n",
    "from sklearn.svm import SVC\n",
    "import matplotlib.patches as mpatches\n",
    "\n",
    "%matplotlib inline \n",
    "sns.set(style=\"darkgrid\")\n",
    "sns.color_palette=(\"husl\")\n",
    "\n",
    "Rseed = 42"
   ]
  },
  {
   "cell_type": "code",
   "execution_count": 691,
   "metadata": {},
   "outputs": [],
   "source": [
    "# Read in data: loop over all files\n",
    "path = '/Users/ahoi/nf-may2020/hh-2020-ds1-Project2-Kickstarter/data'\n",
    "filenames = glob.glob(path + \"/*.csv\")\n",
    "comlete_csv =[]\n",
    "\n",
    "for i in filenames:\n",
    "    comlete_csv.append(pd.read_csv(i))\n",
    "    \n",
    "df = pd.concat(comlete_csv, ignore_index = True)\n"
   ]
  },
  {
   "cell_type": "code",
   "execution_count": 692,
   "metadata": {},
   "outputs": [
    {
     "name": "stdout",
     "output_type": "stream",
     "text": [
      "<class 'pandas.core.frame.DataFrame'>\n",
      "RangeIndex: 209222 entries, 0 to 209221\n",
      "Data columns (total 37 columns):\n",
      "backers_count               209222 non-null int64\n",
      "blurb                       209214 non-null object\n",
      "category                    209222 non-null object\n",
      "converted_pledged_amount    209222 non-null int64\n",
      "country                     209222 non-null object\n",
      "created_at                  209222 non-null int64\n",
      "creator                     209222 non-null object\n",
      "currency                    209222 non-null object\n",
      "currency_symbol             209222 non-null object\n",
      "currency_trailing_code      209222 non-null bool\n",
      "current_currency            209222 non-null object\n",
      "deadline                    209222 non-null int64\n",
      "disable_communication       209222 non-null bool\n",
      "friends                     300 non-null object\n",
      "fx_rate                     209222 non-null float64\n",
      "goal                        209222 non-null float64\n",
      "id                          209222 non-null int64\n",
      "is_backing                  300 non-null object\n",
      "is_starrable                209222 non-null bool\n",
      "is_starred                  300 non-null object\n",
      "launched_at                 209222 non-null int64\n",
      "location                    208996 non-null object\n",
      "name                        209222 non-null object\n",
      "permissions                 300 non-null object\n",
      "photo                       209222 non-null object\n",
      "pledged                     209222 non-null float64\n",
      "profile                     209222 non-null object\n",
      "slug                        209222 non-null object\n",
      "source_url                  209222 non-null object\n",
      "spotlight                   209222 non-null bool\n",
      "staff_pick                  209222 non-null bool\n",
      "state                       209222 non-null object\n",
      "state_changed_at            209222 non-null int64\n",
      "static_usd_rate             209222 non-null float64\n",
      "urls                        209222 non-null object\n",
      "usd_pledged                 209222 non-null float64\n",
      "usd_type                    208742 non-null object\n",
      "dtypes: bool(5), float64(5), int64(7), object(20)\n",
      "memory usage: 52.1+ MB\n"
     ]
    }
   ],
   "source": [
    "df.info()"
   ]
  },
  {
   "cell_type": "code",
   "execution_count": 693,
   "metadata": {},
   "outputs": [
    {
     "data": {
      "text/html": [
       "<div>\n",
       "<style scoped>\n",
       "    .dataframe tbody tr th:only-of-type {\n",
       "        vertical-align: middle;\n",
       "    }\n",
       "\n",
       "    .dataframe tbody tr th {\n",
       "        vertical-align: top;\n",
       "    }\n",
       "\n",
       "    .dataframe thead th {\n",
       "        text-align: right;\n",
       "    }\n",
       "</style>\n",
       "<table border=\"1\" class=\"dataframe\">\n",
       "  <thead>\n",
       "    <tr style=\"text-align: right;\">\n",
       "      <th></th>\n",
       "      <th>backers_count</th>\n",
       "      <th>blurb</th>\n",
       "      <th>category</th>\n",
       "      <th>converted_pledged_amount</th>\n",
       "      <th>country</th>\n",
       "      <th>created_at</th>\n",
       "      <th>creator</th>\n",
       "      <th>currency</th>\n",
       "      <th>currency_symbol</th>\n",
       "      <th>currency_trailing_code</th>\n",
       "      <th>...</th>\n",
       "      <th>slug</th>\n",
       "      <th>source_url</th>\n",
       "      <th>spotlight</th>\n",
       "      <th>staff_pick</th>\n",
       "      <th>state</th>\n",
       "      <th>state_changed_at</th>\n",
       "      <th>static_usd_rate</th>\n",
       "      <th>urls</th>\n",
       "      <th>usd_pledged</th>\n",
       "      <th>usd_type</th>\n",
       "    </tr>\n",
       "  </thead>\n",
       "  <tbody>\n",
       "    <tr>\n",
       "      <th>0</th>\n",
       "      <td>315</td>\n",
       "      <td>Babalus Shoes</td>\n",
       "      <td>{\"id\":266,\"name\":\"Footwear\",\"slug\":\"fashion/fo...</td>\n",
       "      <td>28645</td>\n",
       "      <td>US</td>\n",
       "      <td>1541459205</td>\n",
       "      <td>{\"id\":2094277840,\"name\":\"Lucy Conroy\",\"slug\":\"...</td>\n",
       "      <td>USD</td>\n",
       "      <td>$</td>\n",
       "      <td>True</td>\n",
       "      <td>...</td>\n",
       "      <td>babalus-childrens-shoes</td>\n",
       "      <td>https://www.kickstarter.com/discover/categorie...</td>\n",
       "      <td>False</td>\n",
       "      <td>False</td>\n",
       "      <td>live</td>\n",
       "      <td>1548223375</td>\n",
       "      <td>1.0</td>\n",
       "      <td>{\"web\":{\"project\":\"https://www.kickstarter.com...</td>\n",
       "      <td>28645.0</td>\n",
       "      <td>international</td>\n",
       "    </tr>\n",
       "    <tr>\n",
       "      <th>1</th>\n",
       "      <td>47</td>\n",
       "      <td>A colorful Dia de los Muertos themed oracle de...</td>\n",
       "      <td>{\"id\":273,\"name\":\"Playing Cards\",\"slug\":\"games...</td>\n",
       "      <td>1950</td>\n",
       "      <td>US</td>\n",
       "      <td>1501684093</td>\n",
       "      <td>{\"id\":723886115,\"name\":\"Lisa Vollrath\",\"slug\":...</td>\n",
       "      <td>USD</td>\n",
       "      <td>$</td>\n",
       "      <td>True</td>\n",
       "      <td>...</td>\n",
       "      <td>the-ofrenda-oracle-deck</td>\n",
       "      <td>https://www.kickstarter.com/discover/categorie...</td>\n",
       "      <td>True</td>\n",
       "      <td>False</td>\n",
       "      <td>successful</td>\n",
       "      <td>1504976459</td>\n",
       "      <td>1.0</td>\n",
       "      <td>{\"web\":{\"project\":\"https://www.kickstarter.com...</td>\n",
       "      <td>1950.0</td>\n",
       "      <td>domestic</td>\n",
       "    </tr>\n",
       "  </tbody>\n",
       "</table>\n",
       "<p>2 rows × 37 columns</p>\n",
       "</div>"
      ],
      "text/plain": [
       "   backers_count                                              blurb  \\\n",
       "0            315                                      Babalus Shoes   \n",
       "1             47  A colorful Dia de los Muertos themed oracle de...   \n",
       "\n",
       "                                            category  \\\n",
       "0  {\"id\":266,\"name\":\"Footwear\",\"slug\":\"fashion/fo...   \n",
       "1  {\"id\":273,\"name\":\"Playing Cards\",\"slug\":\"games...   \n",
       "\n",
       "   converted_pledged_amount country  created_at  \\\n",
       "0                     28645      US  1541459205   \n",
       "1                      1950      US  1501684093   \n",
       "\n",
       "                                             creator currency currency_symbol  \\\n",
       "0  {\"id\":2094277840,\"name\":\"Lucy Conroy\",\"slug\":\"...      USD               $   \n",
       "1  {\"id\":723886115,\"name\":\"Lisa Vollrath\",\"slug\":...      USD               $   \n",
       "\n",
       "   currency_trailing_code  ...                     slug  \\\n",
       "0                    True  ...  babalus-childrens-shoes   \n",
       "1                    True  ...  the-ofrenda-oracle-deck   \n",
       "\n",
       "                                          source_url  spotlight staff_pick  \\\n",
       "0  https://www.kickstarter.com/discover/categorie...      False      False   \n",
       "1  https://www.kickstarter.com/discover/categorie...       True      False   \n",
       "\n",
       "        state  state_changed_at  static_usd_rate  \\\n",
       "0        live        1548223375              1.0   \n",
       "1  successful        1504976459              1.0   \n",
       "\n",
       "                                                urls  usd_pledged  \\\n",
       "0  {\"web\":{\"project\":\"https://www.kickstarter.com...      28645.0   \n",
       "1  {\"web\":{\"project\":\"https://www.kickstarter.com...       1950.0   \n",
       "\n",
       "        usd_type  \n",
       "0  international  \n",
       "1       domestic  \n",
       "\n",
       "[2 rows x 37 columns]"
      ]
     },
     "execution_count": 693,
     "metadata": {},
     "output_type": "execute_result"
    }
   ],
   "source": [
    "df.head(2)"
   ]
  },
  {
   "cell_type": "markdown",
   "metadata": {},
   "source": [
    "* data like dictonaries: \n",
    "    * category\n",
    "    * creator\n",
    "    * location\n",
    "    * photo\n",
    "    * profile\n",
    "* photo will be dropped, other stay at the moment\n",
    "* other object variables:\n",
    "    * friends    - nothing in friends - dropped\n",
    "    * is_backing - False\n",
    "    * is_starred - False\n",
    "    * permission - nothing in friends - dropped\n",
    "* also drop source_url and urls"
   ]
  },
  {
   "cell_type": "code",
   "execution_count": 694,
   "metadata": {},
   "outputs": [],
   "source": [
    "# df.nunique()"
   ]
  },
  {
   "cell_type": "code",
   "execution_count": 695,
   "metadata": {},
   "outputs": [],
   "source": [
    "#df.location[df.location.isnull()!=False] = {}"
   ]
  },
  {
   "cell_type": "code",
   "execution_count": 696,
   "metadata": {},
   "outputs": [],
   "source": [
    "# clean data from empty spaces, line breaks, etc.\n",
    "dict_list1 = ['location','profile','creator']\n",
    "for names in dict_list1:\n",
    "    df[names] = df[names].str.replace(':null,',':None,')\n",
    "    df[names] = df[names].str.replace(':false,',':False,')\n",
    "    df[names] = df[names].str.replace(':true',':True')\n",
    "    df[names] = df[names].str.replace('\\n', '')\n",
    "    df[names] = df[names].str.replace('\\t', '')"
   ]
  },
  {
   "cell_type": "code",
   "execution_count": 697,
   "metadata": {},
   "outputs": [],
   "source": [
    "# get fom creator ids -> remaining parts are ignored\n",
    "# First separate creator elements\n",
    "new2 = df[\"creator\"].str.replace(\", \", \"_\").str.split(\",\", n = 8, expand = True)\n",
    "# now pick first column in new2 and split at :\n",
    "test = new2[0].str.split(\":\")\n",
    "# pick 2. column in test (where ids are written in)\n",
    "test2 = list(map(operator.itemgetter(1), test))\n",
    "# and make a new column in df with ids\n",
    "df[\"creator_id\"]=pd.Series(test2)\n",
    "# convert ids to numeric values\n",
    "df[\"creator_id\"] = pd.to_numeric(df[\"creator_id\"])"
   ]
  },
  {
   "cell_type": "code",
   "execution_count": 698,
   "metadata": {},
   "outputs": [
    {
     "data": {
      "text/plain": [
       "'{\"id\":3508024,\"project_id\":3508024,\"state\":\"inactive\",\"state_changed_at\":1541459205,\"name\":None,\"blurb\":None,\"background_color\":None,\"text_color\":None,\"link_background_color\":None,\"link_text_color\":None,\"link_text\":None,\"link_url\":None,\"show_feature_image\":False,\"background_image_opacity\":0.8,\"should_show_feature_image_section\":True,\"feature_image_attributes\":{\"image_urls\":{\"default\":\"https://ksr-ugc.imgix.net/assets/023/667/205/a565fde5382d6b53276597bcbf505af7_original.jpg?ixlib=rb-1.1.0&crop=faces&w=1552&h=873&fit=crop&v=1546238810&auto=format&frame=1&q=92&s=4faccb2ba6fae37a2d990e8471669753\",\"baseball_card\":\"https://ksr-ugc.imgix.net/assets/023/667/205/a565fde5382d6b53276597bcbf505af7_original.jpg?ixlib=rb-1.1.0&crop=faces&w=560&h=315&fit=crop&v=1546238810&auto=format&frame=1&q=92&s=53798a47ff4e37129dfd4d11827fa5c4\"}}}'"
      ]
     },
     "execution_count": 698,
     "metadata": {},
     "output_type": "execute_result"
    }
   ],
   "source": [
    "df[\"profile\"][0]"
   ]
  },
  {
   "cell_type": "code",
   "execution_count": 699,
   "metadata": {},
   "outputs": [],
   "source": [
    "# prepare profile data\n",
    "# First separate creator elements\n",
    "new  = df[\"profile\"].str.replace(',\" ', '_\" ')\n",
    "new  = df[\"profile\"].str.replace(',\"', ';;\"')\n",
    "new2 = new.str.split(\";;\", n = 16, expand = True)\n",
    "# now drop column 4:\n",
    "#new3 = new2.drop(4, axis =1)\n",
    "# change blurb to has or has no blurb\n",
    "new2[5][new2[5]!='\"blurb\":\"none\"'] = '\"blurb\":\"1\"' #0 if new3[5]== \"none\" else 1\n",
    "new2[5][new2[5]=='\"blurb\":\"none\"'] = '\"blurb\":\"0\"' #0 if new3[5]== \"none\" else 1\n",
    "# change link_text to has or has not\n",
    "#new3[10][new3[10]!='\"link_text\":\"none\"'] = '\"link_text\":\"1\"' #0 if new3[5]== \"none\" else 1\n",
    "#new3[10][new3[10]=='\"link_text\":\"none\"'] = '\"link_text\":\"0\"' #0 if new3[5]== \"none\" else 1\n",
    "\n",
    "new2[17]='\"dummy\":\"dummy\"}'\n",
    "# pick columns of interest: \n",
    "new2[\"profile\"]= new2[[0,1,2,3,5,17]].apply(lambda x: ','.join(x), axis=1)\n",
    "# write data in df\n",
    "df[\"profile_test\"] =new2[\"profile\"]"
   ]
  },
  {
   "cell_type": "code",
   "execution_count": 700,
   "metadata": {},
   "outputs": [
    {
     "data": {
      "text/plain": [
       "'{\"id\":3508024,\"project_id\":3508024,\"state\":\"inactive\",\"state_changed_at\":1541459205,\"blurb\":\"1\",\"dummy\":\"dummy\"}'"
      ]
     },
     "execution_count": 700,
     "metadata": {},
     "output_type": "execute_result"
    }
   ],
   "source": [
    "df[\"profile_test\"][0]"
   ]
  },
  {
   "cell_type": "code",
   "execution_count": 701,
   "metadata": {},
   "outputs": [
    {
     "data": {
      "text/plain": [
       "'{\"id\":3281282,\"project_id\":3281282,\"state\":\"active\",\"state_changed_at\":1523592275,\"name\":\"Secret 2.0: The World\\'s FIRST, REAL NO-SHOW SOCK by Sheec.\",\"blurb\":\"With over 1,000 backers on Kickstarter & Indiegogo, the SoleHugger Secret 2.0 is now fully available on Sheecs.com!\",\"background_color\":\"\",\"text_color\":\"\",\"link_background_color\":\"\",\"link_text_color\":\"\",\"link_text\":\"BUY NOW !\",\"link_url\":\"http://bit.ly/2y73R8J\",\"show_feature_image\":True,\"background_image_opacity\":0.8,\"feature_image_attributes\":{\"id\":21593580,\"image_urls\":{\"default\":\"https://ksr-ugc.imgix.net/assets/021/593/580/3794f72b493f964edfde4b8620011789_original.jpg?ixlib=rb-1.1.0&w=700&fit=max&v=1529077865&auto=format&frame=1&q=92&s=bb3a91cf05e42ff63f7c72ee59731821\",\"baseball_card\":\"https://ksr-ugc.imgix.net/assets/021/593/580/3794f72b493f964edfde4b8620011789_original.jpg?ixlib=rb-1.1.0&crop=faces%2Cedges&w=560&h=315&fit=crop&v=1529077865&auto=format&frame=1&q=92&s=a0e8b1ef7ab78689a909cc6eac86cb50\"}},\"should_show_feature_image_section\":True}'"
      ]
     },
     "execution_count": 701,
     "metadata": {},
     "output_type": "execute_result"
    }
   ],
   "source": [
    "#new3[new3[6].str.contains(\"Kickstarter & Indiegogo_the SoleHugger Secret 2.0\")]\n",
    "df.profile[119063]"
   ]
  },
  {
   "cell_type": "code",
   "execution_count": 702,
   "metadata": {},
   "outputs": [
    {
     "data": {
      "text/plain": [
       "0    {\"id\":3508024,\"project_id\":3508024,\"state\":\"in...\n",
       "1    {\"id\":3094785,\"project_id\":3094785,\"state\":\"ac...\n",
       "2    {\"id\":359847,\"project_id\":359847,\"state\":\"inac...\n",
       "3    {\"id\":2825329,\"project_id\":2825329,\"state\":\"in...\n",
       "4    {\"id\":417385,\"project_id\":417385,\"state\":\"inac...\n",
       "Name: profile, dtype: object"
      ]
     },
     "execution_count": 702,
     "metadata": {},
     "output_type": "execute_result"
    }
   ],
   "source": [
    "df.profile.head()"
   ]
  },
  {
   "cell_type": "code",
   "execution_count": 703,
   "metadata": {},
   "outputs": [
    {
     "name": "stderr",
     "output_type": "stream",
     "text": [
      "/opt/anaconda3/envs/nf/lib/python3.6/site-packages/ipykernel_launcher.py:6: SettingWithCopyWarning: \n",
      "A value is trying to be set on a copy of a slice from a DataFrame\n",
      "\n",
      "See the caveats in the documentation: http://pandas.pydata.org/pandas-docs/stable/indexing.html#indexing-view-versus-copy\n",
      "  \n"
     ]
    }
   ],
   "source": [
    "# prepare location data\n",
    "# dummy for NaN entries\n",
    "location_dummy= '{\"id\":\"\",\"name\":\"\",\"slug\":\"\",\"short_name\":\"\",\"displayable_name\":\"\",\"localized_name\":\"\",\\\n",
    "                \"country\":\"\",\"state\":\"\",\"type\":\"\",\"is_root\":None,\"urls\":{}}'\n",
    "#replace NaNs with dummy\n",
    "df.location[df.location.isnull()] = location_dummy"
   ]
  },
  {
   "cell_type": "code",
   "execution_count": 704,
   "metadata": {},
   "outputs": [
    {
     "name": "stdout",
     "output_type": "stream",
     "text": [
      "profile_test\n",
      "category\n",
      "location\n"
     ]
    }
   ],
   "source": [
    "# extraction of data dictonaries in 'category','location'\n",
    "dict_list = ['profile_test', 'category','location'] #, null false true\n",
    "\n",
    "for names in dict_list:\n",
    "    print(names)\n",
    "    new_name     = names+'new'\n",
    "    suffix       = names+'_'\n",
    "    df[new_name] = df[names].apply(eval)\n",
    "    test         = df[new_name].apply(pd.Series)\n",
    "    test         = test.add_prefix(suffix)\n",
    "    df           = pd.concat([df,test],axis=1)  \n",
    "    \n",
    "#df['categoryNew']= df.category.apply(eval)\n",
    "#test = df[\"categoryNew\"].apply(pd.Series)\n",
    "#test = test.add_prefix('category_')\n",
    "#df = pd.concat([df,test],axis=1)   "
   ]
  },
  {
   "cell_type": "code",
   "execution_count": 705,
   "metadata": {},
   "outputs": [
    {
     "data": {
      "text/html": [
       "<div>\n",
       "<style scoped>\n",
       "    .dataframe tbody tr th:only-of-type {\n",
       "        vertical-align: middle;\n",
       "    }\n",
       "\n",
       "    .dataframe tbody tr th {\n",
       "        vertical-align: top;\n",
       "    }\n",
       "\n",
       "    .dataframe thead th {\n",
       "        text-align: right;\n",
       "    }\n",
       "</style>\n",
       "<table border=\"1\" class=\"dataframe\">\n",
       "  <thead>\n",
       "    <tr style=\"text-align: right;\">\n",
       "      <th></th>\n",
       "      <th>backers_count</th>\n",
       "      <th>blurb</th>\n",
       "      <th>category</th>\n",
       "      <th>converted_pledged_amount</th>\n",
       "      <th>country</th>\n",
       "      <th>created_at</th>\n",
       "      <th>creator</th>\n",
       "      <th>currency</th>\n",
       "      <th>currency_symbol</th>\n",
       "      <th>currency_trailing_code</th>\n",
       "      <th>...</th>\n",
       "      <th>location_name</th>\n",
       "      <th>location_slug</th>\n",
       "      <th>location_short_name</th>\n",
       "      <th>location_displayable_name</th>\n",
       "      <th>location_localized_name</th>\n",
       "      <th>location_country</th>\n",
       "      <th>location_state</th>\n",
       "      <th>location_type</th>\n",
       "      <th>location_is_root</th>\n",
       "      <th>location_urls</th>\n",
       "    </tr>\n",
       "  </thead>\n",
       "  <tbody>\n",
       "    <tr>\n",
       "      <th>0</th>\n",
       "      <td>315</td>\n",
       "      <td>Babalus Shoes</td>\n",
       "      <td>{\"id\":266,\"name\":\"Footwear\",\"slug\":\"fashion/fo...</td>\n",
       "      <td>28645</td>\n",
       "      <td>US</td>\n",
       "      <td>1541459205</td>\n",
       "      <td>{\"id\":2094277840,\"name\":\"Lucy Conroy\",\"slug\":\"...</td>\n",
       "      <td>USD</td>\n",
       "      <td>$</td>\n",
       "      <td>True</td>\n",
       "      <td>...</td>\n",
       "      <td>Novato</td>\n",
       "      <td>novato-ca</td>\n",
       "      <td>Novato, CA</td>\n",
       "      <td>Novato, CA</td>\n",
       "      <td>Novato</td>\n",
       "      <td>US</td>\n",
       "      <td>CA</td>\n",
       "      <td>Town</td>\n",
       "      <td>False</td>\n",
       "      <td>{'web': {'discover': 'https://www.kickstarter....</td>\n",
       "    </tr>\n",
       "    <tr>\n",
       "      <th>1</th>\n",
       "      <td>47</td>\n",
       "      <td>A colorful Dia de los Muertos themed oracle de...</td>\n",
       "      <td>{\"id\":273,\"name\":\"Playing Cards\",\"slug\":\"games...</td>\n",
       "      <td>1950</td>\n",
       "      <td>US</td>\n",
       "      <td>1501684093</td>\n",
       "      <td>{\"id\":723886115,\"name\":\"Lisa Vollrath\",\"slug\":...</td>\n",
       "      <td>USD</td>\n",
       "      <td>$</td>\n",
       "      <td>True</td>\n",
       "      <td>...</td>\n",
       "      <td>Euless</td>\n",
       "      <td>euless-tx</td>\n",
       "      <td>Euless, TX</td>\n",
       "      <td>Euless, TX</td>\n",
       "      <td>Euless</td>\n",
       "      <td>US</td>\n",
       "      <td>TX</td>\n",
       "      <td>Town</td>\n",
       "      <td>False</td>\n",
       "      <td>{'web': {'discover': 'https://www.kickstarter....</td>\n",
       "    </tr>\n",
       "    <tr>\n",
       "      <th>2</th>\n",
       "      <td>271</td>\n",
       "      <td>Electra's long awaited, eclectic Debut Pop/Roc...</td>\n",
       "      <td>{\"id\":43,\"name\":\"Rock\",\"slug\":\"music/rock\",\"po...</td>\n",
       "      <td>22404</td>\n",
       "      <td>US</td>\n",
       "      <td>1348987533</td>\n",
       "      <td>{\"id\":323849677,\"name\":\"Electra\",\"is_registere...</td>\n",
       "      <td>USD</td>\n",
       "      <td>$</td>\n",
       "      <td>True</td>\n",
       "      <td>...</td>\n",
       "      <td>Hollywood</td>\n",
       "      <td>hollywood-los-angeles-ca</td>\n",
       "      <td>Hollywood, CA</td>\n",
       "      <td>Hollywood, Los Angeles, CA</td>\n",
       "      <td>Hollywood</td>\n",
       "      <td>US</td>\n",
       "      <td>CA</td>\n",
       "      <td>Suburb</td>\n",
       "      <td>False</td>\n",
       "      <td>{'web': {'discover': 'https://www.kickstarter....</td>\n",
       "    </tr>\n",
       "    <tr>\n",
       "      <th>3</th>\n",
       "      <td>3</td>\n",
       "      <td>The Mist of Tribunal is a turn-based card game...</td>\n",
       "      <td>{\"id\":273,\"name\":\"Playing Cards\",\"slug\":\"games...</td>\n",
       "      <td>165</td>\n",
       "      <td>GB</td>\n",
       "      <td>1483780271</td>\n",
       "      <td>{\"id\":196281496,\"name\":\"Artur Ordijanc (delete...</td>\n",
       "      <td>GBP</td>\n",
       "      <td>£</td>\n",
       "      <td>False</td>\n",
       "      <td>...</td>\n",
       "      <td>Kaunas</td>\n",
       "      <td>kaunas-kaunas-lt</td>\n",
       "      <td>Kaunas, Lithuania</td>\n",
       "      <td>Kaunas, Lithuania</td>\n",
       "      <td>Kaunas</td>\n",
       "      <td>LT</td>\n",
       "      <td>Kaunas County</td>\n",
       "      <td>Town</td>\n",
       "      <td>False</td>\n",
       "      <td>{'web': {'discover': 'https://www.kickstarter....</td>\n",
       "    </tr>\n",
       "    <tr>\n",
       "      <th>4</th>\n",
       "      <td>3</td>\n",
       "      <td>Livng with a brain impairment, what its like t...</td>\n",
       "      <td>{\"id\":48,\"name\":\"Nonfiction\",\"slug\":\"publishin...</td>\n",
       "      <td>2820</td>\n",
       "      <td>US</td>\n",
       "      <td>1354817071</td>\n",
       "      <td>{\"id\":1178460181,\"name\":\"Dawn Johnston\",\"is_re...</td>\n",
       "      <td>USD</td>\n",
       "      <td>$</td>\n",
       "      <td>True</td>\n",
       "      <td>...</td>\n",
       "      <td>Traverse City</td>\n",
       "      <td>traverse-city-mi</td>\n",
       "      <td>Traverse City, MI</td>\n",
       "      <td>Traverse City, MI</td>\n",
       "      <td>Traverse City</td>\n",
       "      <td>US</td>\n",
       "      <td>MI</td>\n",
       "      <td>Town</td>\n",
       "      <td>False</td>\n",
       "      <td>{'web': {'discover': 'https://www.kickstarter....</td>\n",
       "    </tr>\n",
       "  </tbody>\n",
       "</table>\n",
       "<p>5 rows × 66 columns</p>\n",
       "</div>"
      ],
      "text/plain": [
       "   backers_count                                              blurb  \\\n",
       "0            315                                      Babalus Shoes   \n",
       "1             47  A colorful Dia de los Muertos themed oracle de...   \n",
       "2            271  Electra's long awaited, eclectic Debut Pop/Roc...   \n",
       "3              3  The Mist of Tribunal is a turn-based card game...   \n",
       "4              3  Livng with a brain impairment, what its like t...   \n",
       "\n",
       "                                            category  \\\n",
       "0  {\"id\":266,\"name\":\"Footwear\",\"slug\":\"fashion/fo...   \n",
       "1  {\"id\":273,\"name\":\"Playing Cards\",\"slug\":\"games...   \n",
       "2  {\"id\":43,\"name\":\"Rock\",\"slug\":\"music/rock\",\"po...   \n",
       "3  {\"id\":273,\"name\":\"Playing Cards\",\"slug\":\"games...   \n",
       "4  {\"id\":48,\"name\":\"Nonfiction\",\"slug\":\"publishin...   \n",
       "\n",
       "   converted_pledged_amount country  created_at  \\\n",
       "0                     28645      US  1541459205   \n",
       "1                      1950      US  1501684093   \n",
       "2                     22404      US  1348987533   \n",
       "3                       165      GB  1483780271   \n",
       "4                      2820      US  1354817071   \n",
       "\n",
       "                                             creator currency currency_symbol  \\\n",
       "0  {\"id\":2094277840,\"name\":\"Lucy Conroy\",\"slug\":\"...      USD               $   \n",
       "1  {\"id\":723886115,\"name\":\"Lisa Vollrath\",\"slug\":...      USD               $   \n",
       "2  {\"id\":323849677,\"name\":\"Electra\",\"is_registere...      USD               $   \n",
       "3  {\"id\":196281496,\"name\":\"Artur Ordijanc (delete...      GBP               £   \n",
       "4  {\"id\":1178460181,\"name\":\"Dawn Johnston\",\"is_re...      USD               $   \n",
       "\n",
       "   currency_trailing_code  ...  location_name             location_slug  \\\n",
       "0                    True  ...         Novato                 novato-ca   \n",
       "1                    True  ...         Euless                 euless-tx   \n",
       "2                    True  ...      Hollywood  hollywood-los-angeles-ca   \n",
       "3                   False  ...         Kaunas          kaunas-kaunas-lt   \n",
       "4                    True  ...  Traverse City          traverse-city-mi   \n",
       "\n",
       "   location_short_name   location_displayable_name  location_localized_name  \\\n",
       "0           Novato, CA                  Novato, CA                   Novato   \n",
       "1           Euless, TX                  Euless, TX                   Euless   \n",
       "2        Hollywood, CA  Hollywood, Los Angeles, CA                Hollywood   \n",
       "3    Kaunas, Lithuania           Kaunas, Lithuania                   Kaunas   \n",
       "4    Traverse City, MI           Traverse City, MI            Traverse City   \n",
       "\n",
       "   location_country  location_state location_type  location_is_root  \\\n",
       "0                US              CA          Town             False   \n",
       "1                US              TX          Town             False   \n",
       "2                US              CA        Suburb             False   \n",
       "3                LT   Kaunas County          Town             False   \n",
       "4                US              MI          Town             False   \n",
       "\n",
       "                                       location_urls  \n",
       "0  {'web': {'discover': 'https://www.kickstarter....  \n",
       "1  {'web': {'discover': 'https://www.kickstarter....  \n",
       "2  {'web': {'discover': 'https://www.kickstarter....  \n",
       "3  {'web': {'discover': 'https://www.kickstarter....  \n",
       "4  {'web': {'discover': 'https://www.kickstarter....  \n",
       "\n",
       "[5 rows x 66 columns]"
      ]
     },
     "execution_count": 705,
     "metadata": {},
     "output_type": "execute_result"
    }
   ],
   "source": [
    "df.head()"
   ]
  },
  {
   "cell_type": "markdown",
   "metadata": {},
   "source": [
    "## General Overview"
   ]
  },
  {
   "cell_type": "code",
   "execution_count": 706,
   "metadata": {},
   "outputs": [],
   "source": [
    "df2 = pd.DataFrame.copy(df)"
   ]
  },
  {
   "cell_type": "code",
   "execution_count": 707,
   "metadata": {},
   "outputs": [
    {
     "name": "stdout",
     "output_type": "stream",
     "text": [
      "<class 'pandas.core.frame.DataFrame'>\n",
      "RangeIndex: 209222 entries, 0 to 209221\n",
      "Data columns (total 66 columns):\n",
      "backers_count                    209222 non-null int64\n",
      "blurb                            209214 non-null object\n",
      "category                         209222 non-null object\n",
      "converted_pledged_amount         209222 non-null int64\n",
      "country                          209222 non-null object\n",
      "created_at                       209222 non-null int64\n",
      "creator                          209222 non-null object\n",
      "currency                         209222 non-null object\n",
      "currency_symbol                  209222 non-null object\n",
      "currency_trailing_code           209222 non-null bool\n",
      "current_currency                 209222 non-null object\n",
      "deadline                         209222 non-null int64\n",
      "disable_communication            209222 non-null bool\n",
      "friends                          300 non-null object\n",
      "fx_rate                          209222 non-null float64\n",
      "goal                             209222 non-null float64\n",
      "id                               209222 non-null int64\n",
      "is_backing                       300 non-null object\n",
      "is_starrable                     209222 non-null bool\n",
      "is_starred                       300 non-null object\n",
      "launched_at                      209222 non-null int64\n",
      "location                         209222 non-null object\n",
      "name                             209222 non-null object\n",
      "permissions                      300 non-null object\n",
      "photo                            209222 non-null object\n",
      "pledged                          209222 non-null float64\n",
      "profile                          209222 non-null object\n",
      "slug                             209222 non-null object\n",
      "source_url                       209222 non-null object\n",
      "spotlight                        209222 non-null bool\n",
      "staff_pick                       209222 non-null bool\n",
      "state                            209222 non-null object\n",
      "state_changed_at                 209222 non-null int64\n",
      "static_usd_rate                  209222 non-null float64\n",
      "urls                             209222 non-null object\n",
      "usd_pledged                      209222 non-null float64\n",
      "usd_type                         208742 non-null object\n",
      "creator_id                       209222 non-null int64\n",
      "profile_test                     209222 non-null object\n",
      "profile_testnew                  209222 non-null object\n",
      "profile_test_id                  209222 non-null int64\n",
      "profile_test_project_id          209222 non-null int64\n",
      "profile_test_state               209222 non-null object\n",
      "profile_test_state_changed_at    209222 non-null int64\n",
      "profile_test_blurb               209222 non-null object\n",
      "profile_test_dummy               209222 non-null object\n",
      "categorynew                      209222 non-null object\n",
      "category_id                      209222 non-null int64\n",
      "category_name                    209222 non-null object\n",
      "category_slug                    209222 non-null object\n",
      "category_position                209222 non-null int64\n",
      "category_parent_id               200181 non-null float64\n",
      "category_color                   209222 non-null int64\n",
      "category_urls                    209222 non-null object\n",
      "locationnew                      209222 non-null object\n",
      "location_id                      209222 non-null object\n",
      "location_name                    209222 non-null object\n",
      "location_slug                    208725 non-null object\n",
      "location_short_name              209222 non-null object\n",
      "location_displayable_name        209222 non-null object\n",
      "location_localized_name          209222 non-null object\n",
      "location_country                 209222 non-null object\n",
      "location_state                   209159 non-null object\n",
      "location_type                    209222 non-null object\n",
      "location_is_root                 208996 non-null object\n",
      "location_urls                    209222 non-null object\n",
      "dtypes: bool(5), float64(6), int64(14), object(41)\n",
      "memory usage: 98.4+ MB\n"
     ]
    }
   ],
   "source": [
    "df2.info()"
   ]
  },
  {
   "cell_type": "code",
   "execution_count": 708,
   "metadata": {},
   "outputs": [
    {
     "data": {
      "text/plain": [
       "0    {'web': {'discover': 'https://www.kickstarter....\n",
       "1    {'web': {'discover': 'https://www.kickstarter....\n",
       "2    {'web': {'discover': 'https://www.kickstarter....\n",
       "3    {'web': {'discover': 'https://www.kickstarter....\n",
       "4    {'web': {'discover': 'https://www.kickstarter....\n",
       "Name: location_urls, dtype: object"
      ]
     },
     "execution_count": 708,
     "metadata": {},
     "output_type": "execute_result"
    }
   ],
   "source": [
    "df2[\"location_urls\"].head()"
   ]
  },
  {
   "cell_type": "markdown",
   "metadata": {},
   "source": [
    "### drop unimportant columns"
   ]
  },
  {
   "cell_type": "code",
   "execution_count": 709,
   "metadata": {
    "code_folding": [],
    "scrolled": true
   },
   "outputs": [],
   "source": [
    "#drop first columns, which have no explanatory content at the forst view\n",
    "df2.drop([\"category\", \"creator\", \"location\", \"profile\", \"slug\", \"profile_test\",\n",
    "         \"profile_testnew\", \"profile_test_state_changed_at\", \"profile_test_blurb\", \n",
    "         \"profile_test_dummy\", \"categorynew\", \"category_id\", \"category_urls\", \n",
    "         \"locationnew\", \"location_id\", \"location_slug\", \"location_short_name\", \"location_displayable_name\",\n",
    "         \"location_state\", \"location_is_root\", \"location_urls\", 'photo','friends',\n",
    "         'permissions','currency_symbol', 'source_url', \"urls\"\n",
    "         ],axis=1, inplace=True)"
   ]
  },
  {
   "cell_type": "code",
   "execution_count": 710,
   "metadata": {},
   "outputs": [
    {
     "data": {
      "text/plain": [
       "Index(['backers_count', 'blurb', 'converted_pledged_amount', 'country',\n",
       "       'created_at', 'currency', 'currency_trailing_code', 'current_currency',\n",
       "       'deadline', 'disable_communication', 'fx_rate', 'goal', 'id',\n",
       "       'is_backing', 'is_starrable', 'is_starred', 'launched_at', 'name',\n",
       "       'pledged', 'spotlight', 'staff_pick', 'state', 'state_changed_at',\n",
       "       'static_usd_rate', 'usd_pledged', 'usd_type', 'creator_id',\n",
       "       'profile_test_id', 'profile_test_project_id', 'profile_test_state',\n",
       "       'category_name', 'category_slug', 'category_position',\n",
       "       'category_parent_id', 'category_color', 'location_name',\n",
       "       'location_localized_name', 'location_country', 'location_type'],\n",
       "      dtype='object')"
      ]
     },
     "execution_count": 710,
     "metadata": {},
     "output_type": "execute_result"
    }
   ],
   "source": [
    "df2.columns"
   ]
  },
  {
   "cell_type": "markdown",
   "metadata": {},
   "source": [
    "# Data Cleaning"
   ]
  },
  {
   "cell_type": "markdown",
   "metadata": {},
   "source": [
    "## Missing data"
   ]
  },
  {
   "cell_type": "code",
   "execution_count": 711,
   "metadata": {
    "scrolled": false
   },
   "outputs": [
    {
     "data": {
      "text/html": [
       "<div>\n",
       "<style scoped>\n",
       "    .dataframe tbody tr th:only-of-type {\n",
       "        vertical-align: middle;\n",
       "    }\n",
       "\n",
       "    .dataframe tbody tr th {\n",
       "        vertical-align: top;\n",
       "    }\n",
       "\n",
       "    .dataframe thead th {\n",
       "        text-align: right;\n",
       "    }\n",
       "</style>\n",
       "<table border=\"1\" class=\"dataframe\">\n",
       "  <thead>\n",
       "    <tr style=\"text-align: right;\">\n",
       "      <th></th>\n",
       "      <th>Number</th>\n",
       "    </tr>\n",
       "  </thead>\n",
       "  <tbody>\n",
       "    <tr>\n",
       "      <th>blurb</th>\n",
       "      <td>8</td>\n",
       "    </tr>\n",
       "    <tr>\n",
       "      <th>is_backing</th>\n",
       "      <td>208922</td>\n",
       "    </tr>\n",
       "    <tr>\n",
       "      <th>is_starred</th>\n",
       "      <td>208922</td>\n",
       "    </tr>\n",
       "    <tr>\n",
       "      <th>usd_type</th>\n",
       "      <td>480</td>\n",
       "    </tr>\n",
       "    <tr>\n",
       "      <th>category_parent_id</th>\n",
       "      <td>9041</td>\n",
       "    </tr>\n",
       "  </tbody>\n",
       "</table>\n",
       "</div>"
      ],
      "text/plain": [
       "                    Number\n",
       "blurb                    8\n",
       "is_backing          208922\n",
       "is_starred          208922\n",
       "usd_type               480\n",
       "category_parent_id    9041"
      ]
     },
     "execution_count": 711,
     "metadata": {},
     "output_type": "execute_result"
    }
   ],
   "source": [
    "missing = pd.DataFrame(df2.isnull().sum(),columns=['Number'])\n",
    "missing[missing.Number!=0]"
   ]
  },
  {
   "cell_type": "markdown",
   "metadata": {},
   "source": [
    "- what are wo doing with \"blurb\"? There are only 8 NaN but we can not make a average since \"blurb\" is an object\n",
    "- drop \"is_backing\" and \"is_starred\" because there to much missing values\n",
    "    - in \"is_backing\" there are 300 False entries \n",
    "    - in \"is_starred\" there are 298 False entries and 2 True entries \n",
    "- don´t drop the mssing maybe we finde an indicator wether the data is international or domestic"
   ]
  },
  {
   "cell_type": "code",
   "execution_count": 712,
   "metadata": {},
   "outputs": [
    {
     "data": {
      "text/plain": [
       "False    298\n",
       "True       2\n",
       "Name: is_starred, dtype: int64"
      ]
     },
     "execution_count": 712,
     "metadata": {},
     "output_type": "execute_result"
    }
   ],
   "source": [
    "df2[\"is_starred\"].value_counts()"
   ]
  },
  {
   "cell_type": "code",
   "execution_count": 713,
   "metadata": {},
   "outputs": [
    {
     "data": {
      "text/plain": [
       "international    104508\n",
       "domestic         104234\n",
       "Name: usd_type, dtype: int64"
      ]
     },
     "execution_count": 713,
     "metadata": {},
     "output_type": "execute_result"
    }
   ],
   "source": [
    "df2[\"usd_type\"].value_counts()"
   ]
  },
  {
   "cell_type": "code",
   "execution_count": 714,
   "metadata": {},
   "outputs": [
    {
     "data": {
      "text/plain": [
       "11.0    27402\n",
       "14.0    26529\n",
       "16.0    20772\n",
       "18.0    19899\n",
       "1.0     19628\n",
       "10.0    15676\n",
       "12.0    13940\n",
       "9.0     11870\n",
       "7.0      8636\n",
       "3.0      8430\n",
       "15.0     7475\n",
       "17.0     6299\n",
       "26.0     5962\n",
       "13.0     5098\n",
       "6.0      2565\n",
       "Name: category_parent_id, dtype: int64"
      ]
     },
     "execution_count": 714,
     "metadata": {},
     "output_type": "execute_result"
    }
   ],
   "source": [
    "df2[\"category_parent_id\"].value_counts()"
   ]
  },
  {
   "cell_type": "code",
   "execution_count": 715,
   "metadata": {},
   "outputs": [],
   "source": [
    "df2.drop([\"is_starred\", \"is_backing\"], axis= 1, inplace=True)"
   ]
  },
  {
   "cell_type": "markdown",
   "metadata": {},
   "source": [
    "## prepare data"
   ]
  },
  {
   "cell_type": "markdown",
   "metadata": {},
   "source": [
    "### \"state\" our variabel we want to predict"
   ]
  },
  {
   "cell_type": "code",
   "execution_count": 716,
   "metadata": {},
   "outputs": [
    {
     "data": {
      "text/plain": [
       "(192664, 37)"
      ]
     },
     "execution_count": 716,
     "metadata": {},
     "output_type": "execute_result"
    }
   ],
   "source": [
    "# delete the 7311 projects that have not yet been completed(state = live)\n",
    "df2 = df2[df2.state!='canceled']\n",
    "df2 = df2[df2.state!='live']\n",
    "df2 = df2[df2.state!='suspended']\n",
    "df2.shape"
   ]
  },
  {
   "cell_type": "code",
   "execution_count": 717,
   "metadata": {
    "scrolled": true
   },
   "outputs": [
    {
     "data": {
      "text/plain": [
       "successful    117465\n",
       "failed         75199\n",
       "Name: state, dtype: int64"
      ]
     },
     "execution_count": 717,
     "metadata": {},
     "output_type": "execute_result"
    }
   ],
   "source": [
    "df2[\"state\"].value_counts()"
   ]
  },
  {
   "cell_type": "markdown",
   "metadata": {},
   "source": [
    "### \"blurb\" count lenght of the string?"
   ]
  },
  {
   "cell_type": "code",
   "execution_count": 718,
   "metadata": {},
   "outputs": [
    {
     "name": "stderr",
     "output_type": "stream",
     "text": [
      "/opt/anaconda3/envs/nf/lib/python3.6/site-packages/ipykernel_launcher.py:2: UserWarning: Boolean Series key will be reindexed to match DataFrame index.\n",
      "  \n"
     ]
    },
    {
     "data": {
      "text/html": [
       "<div>\n",
       "<style scoped>\n",
       "    .dataframe tbody tr th:only-of-type {\n",
       "        vertical-align: middle;\n",
       "    }\n",
       "\n",
       "    .dataframe tbody tr th {\n",
       "        vertical-align: top;\n",
       "    }\n",
       "\n",
       "    .dataframe thead th {\n",
       "        text-align: right;\n",
       "    }\n",
       "</style>\n",
       "<table border=\"1\" class=\"dataframe\">\n",
       "  <thead>\n",
       "    <tr style=\"text-align: right;\">\n",
       "      <th></th>\n",
       "      <th>backers_count</th>\n",
       "      <th>blurb</th>\n",
       "      <th>converted_pledged_amount</th>\n",
       "      <th>country</th>\n",
       "      <th>created_at</th>\n",
       "      <th>currency</th>\n",
       "      <th>currency_trailing_code</th>\n",
       "      <th>current_currency</th>\n",
       "      <th>deadline</th>\n",
       "      <th>disable_communication</th>\n",
       "      <th>...</th>\n",
       "      <th>profile_test_state</th>\n",
       "      <th>category_name</th>\n",
       "      <th>category_slug</th>\n",
       "      <th>category_position</th>\n",
       "      <th>category_parent_id</th>\n",
       "      <th>category_color</th>\n",
       "      <th>location_name</th>\n",
       "      <th>location_localized_name</th>\n",
       "      <th>location_country</th>\n",
       "      <th>location_type</th>\n",
       "    </tr>\n",
       "  </thead>\n",
       "  <tbody>\n",
       "    <tr>\n",
       "      <th>65168</th>\n",
       "      <td>39</td>\n",
       "      <td>NaN</td>\n",
       "      <td>8675</td>\n",
       "      <td>DE</td>\n",
       "      <td>1504364375</td>\n",
       "      <td>EUR</td>\n",
       "      <td>False</td>\n",
       "      <td>USD</td>\n",
       "      <td>1507625188</td>\n",
       "      <td>False</td>\n",
       "      <td>...</td>\n",
       "      <td>inactive</td>\n",
       "      <td>Ready-to-wear</td>\n",
       "      <td>fashion/ready-to-wear</td>\n",
       "      <td>8</td>\n",
       "      <td>9.0</td>\n",
       "      <td>16752598</td>\n",
       "      <td>Munich</td>\n",
       "      <td>Munich</td>\n",
       "      <td>DE</td>\n",
       "      <td>Town</td>\n",
       "    </tr>\n",
       "    <tr>\n",
       "      <th>108662</th>\n",
       "      <td>0</td>\n",
       "      <td>NaN</td>\n",
       "      <td>0</td>\n",
       "      <td>US</td>\n",
       "      <td>1509679461</td>\n",
       "      <td>USD</td>\n",
       "      <td>True</td>\n",
       "      <td>USD</td>\n",
       "      <td>1515800048</td>\n",
       "      <td>False</td>\n",
       "      <td>...</td>\n",
       "      <td>inactive</td>\n",
       "      <td>Digital Art</td>\n",
       "      <td>art/digital art</td>\n",
       "      <td>3</td>\n",
       "      <td>1.0</td>\n",
       "      <td>16760235</td>\n",
       "      <td>Los Angeles</td>\n",
       "      <td>Los Angeles</td>\n",
       "      <td>US</td>\n",
       "      <td>Town</td>\n",
       "    </tr>\n",
       "  </tbody>\n",
       "</table>\n",
       "<p>2 rows × 37 columns</p>\n",
       "</div>"
      ],
      "text/plain": [
       "        backers_count blurb  converted_pledged_amount country  created_at  \\\n",
       "65168              39   NaN                      8675      DE  1504364375   \n",
       "108662              0   NaN                         0      US  1509679461   \n",
       "\n",
       "       currency  currency_trailing_code current_currency    deadline  \\\n",
       "65168       EUR                   False              USD  1507625188   \n",
       "108662      USD                    True              USD  1515800048   \n",
       "\n",
       "        disable_communication  ...  profile_test_state  category_name  \\\n",
       "65168                   False  ...            inactive  Ready-to-wear   \n",
       "108662                  False  ...            inactive    Digital Art   \n",
       "\n",
       "                category_slug  category_position  category_parent_id  \\\n",
       "65168   fashion/ready-to-wear                  8                 9.0   \n",
       "108662        art/digital art                  3                 1.0   \n",
       "\n",
       "       category_color  location_name  location_localized_name  \\\n",
       "65168        16752598         Munich                   Munich   \n",
       "108662       16760235    Los Angeles              Los Angeles   \n",
       "\n",
       "        location_country location_type  \n",
       "65168                 DE          Town  \n",
       "108662                US          Town  \n",
       "\n",
       "[2 rows x 37 columns]"
      ]
     },
     "execution_count": 718,
     "metadata": {},
     "output_type": "execute_result"
    }
   ],
   "source": [
    "# What we are doing with \"blurb\"? There are 2 entries of missing data \n",
    "df2[df[\"blurb\"].isnull()]"
   ]
  },
  {
   "cell_type": "code",
   "execution_count": 719,
   "metadata": {},
   "outputs": [
    {
     "data": {
      "text/plain": [
       "count    192662.000000\n",
       "mean        112.431767\n",
       "std          26.573717\n",
       "min           1.000000\n",
       "25%         101.000000\n",
       "50%         124.000000\n",
       "75%         132.000000\n",
       "max         196.000000\n",
       "Name: blurb_length, dtype: float64"
      ]
     },
     "execution_count": 719,
     "metadata": {},
     "output_type": "execute_result"
    }
   ],
   "source": [
    "df2[\"blurb_length\"] = df2.blurb.str.len()\n",
    "df2[\"blurb_length\"].describe()"
   ]
  },
  {
   "cell_type": "code",
   "execution_count": 720,
   "metadata": {},
   "outputs": [
    {
     "data": {
      "text/plain": [
       "1    125.0\n",
       "2    108.0\n",
       "3    133.0\n",
       "4    121.0\n",
       "5    134.0\n",
       "Name: blurb_length, dtype: float64"
      ]
     },
     "execution_count": 720,
     "metadata": {},
     "output_type": "execute_result"
    }
   ],
   "source": [
    "df2[\"blurb_length\"].head(5)"
   ]
  },
  {
   "cell_type": "code",
   "execution_count": 721,
   "metadata": {},
   "outputs": [
    {
     "name": "stderr",
     "output_type": "stream",
     "text": [
      "/opt/anaconda3/envs/nf/lib/python3.6/site-packages/ipykernel_launcher.py:1: SettingWithCopyWarning: \n",
      "A value is trying to be set on a copy of a slice from a DataFrame\n",
      "\n",
      "See the caveats in the documentation: http://pandas.pydata.org/pandas-docs/stable/indexing.html#indexing-view-versus-copy\n",
      "  \"\"\"Entry point for launching an IPython kernel.\n"
     ]
    }
   ],
   "source": [
    "df2[\"blurb_length\"][df2[\"blurb_length\"].isnull()] = 0"
   ]
  },
  {
   "cell_type": "code",
   "execution_count": 722,
   "metadata": {},
   "outputs": [],
   "source": [
    "df2.drop([\"blurb\"], inplace= True, axis=1)"
   ]
  },
  {
   "cell_type": "markdown",
   "metadata": {},
   "source": [
    "### \"name\""
   ]
  },
  {
   "cell_type": "code",
   "execution_count": 723,
   "metadata": {
    "scrolled": true
   },
   "outputs": [
    {
     "data": {
      "text/plain": [
       "1                              The Ofrenda Oracle Deck\n",
       "2    Record Electra's Debut Album (Pop, Rock, Class...\n",
       "3                   The Mist of Tribunal - A Card Game\n",
       "4             Help change the face of Brain Impairment\n",
       "5                      Annapolis Chamber Music Project\n",
       "Name: name, dtype: object"
      ]
     },
     "execution_count": 723,
     "metadata": {},
     "output_type": "execute_result"
    }
   ],
   "source": [
    "df2[\"name\"].head()"
   ]
  },
  {
   "cell_type": "code",
   "execution_count": 724,
   "metadata": {},
   "outputs": [
    {
     "data": {
      "text/plain": [
       "count    192664.000000\n",
       "mean         35.148377\n",
       "std          15.695316\n",
       "min           1.000000\n",
       "25%          22.000000\n",
       "50%          35.000000\n",
       "75%          49.000000\n",
       "max          85.000000\n",
       "Name: name_length, dtype: float64"
      ]
     },
     "execution_count": 724,
     "metadata": {},
     "output_type": "execute_result"
    }
   ],
   "source": [
    "df2[\"name_length\"] = df2[\"name\"].str.len()\n",
    "df2[\"name_length\"].describe()"
   ]
  },
  {
   "cell_type": "code",
   "execution_count": 725,
   "metadata": {},
   "outputs": [],
   "source": [
    "df2.drop([\"name\"], inplace= True, axis=1)"
   ]
  },
  {
   "cell_type": "markdown",
   "metadata": {},
   "source": [
    "### \"country\""
   ]
  },
  {
   "cell_type": "code",
   "execution_count": 726,
   "metadata": {
    "scrolled": true
   },
   "outputs": [
    {
     "data": {
      "text/plain": [
       "US    137788\n",
       "GB     21235\n",
       "CA      8896\n",
       "AU      4383\n",
       "DE      3048\n",
       "FR      2377\n",
       "IT      2063\n",
       "MX      2038\n",
       "ES      1697\n",
       "NL      1649\n",
       "SE      1281\n",
       "HK       953\n",
       "NZ       848\n",
       "DK       839\n",
       "SG       624\n",
       "CH       597\n",
       "IE       575\n",
       "BE       496\n",
       "NO       453\n",
       "AT       439\n",
       "JP       330\n",
       "LU        55\n",
       "Name: country, dtype: int64"
      ]
     },
     "execution_count": 726,
     "metadata": {},
     "output_type": "execute_result"
    }
   ],
   "source": [
    "df2[\"country\"].value_counts()"
   ]
  },
  {
   "cell_type": "code",
   "execution_count": 727,
   "metadata": {},
   "outputs": [
    {
     "data": {
      "text/html": [
       "<div>\n",
       "<style scoped>\n",
       "    .dataframe tbody tr th:only-of-type {\n",
       "        vertical-align: middle;\n",
       "    }\n",
       "\n",
       "    .dataframe tbody tr th {\n",
       "        vertical-align: top;\n",
       "    }\n",
       "\n",
       "    .dataframe thead th {\n",
       "        text-align: right;\n",
       "    }\n",
       "</style>\n",
       "<table border=\"1\" class=\"dataframe\">\n",
       "  <thead>\n",
       "    <tr style=\"text-align: right;\">\n",
       "      <th></th>\n",
       "      <th>AT</th>\n",
       "      <th>AU</th>\n",
       "      <th>BE</th>\n",
       "      <th>CA</th>\n",
       "      <th>CH</th>\n",
       "      <th>DE</th>\n",
       "      <th>DK</th>\n",
       "      <th>ES</th>\n",
       "      <th>FR</th>\n",
       "      <th>GB</th>\n",
       "      <th>...</th>\n",
       "      <th>IT</th>\n",
       "      <th>JP</th>\n",
       "      <th>LU</th>\n",
       "      <th>MX</th>\n",
       "      <th>NL</th>\n",
       "      <th>NO</th>\n",
       "      <th>NZ</th>\n",
       "      <th>SE</th>\n",
       "      <th>SG</th>\n",
       "      <th>US</th>\n",
       "    </tr>\n",
       "  </thead>\n",
       "  <tbody>\n",
       "    <tr>\n",
       "      <th>1</th>\n",
       "      <td>0</td>\n",
       "      <td>0</td>\n",
       "      <td>0</td>\n",
       "      <td>0</td>\n",
       "      <td>0</td>\n",
       "      <td>0</td>\n",
       "      <td>0</td>\n",
       "      <td>0</td>\n",
       "      <td>0</td>\n",
       "      <td>0</td>\n",
       "      <td>...</td>\n",
       "      <td>0</td>\n",
       "      <td>0</td>\n",
       "      <td>0</td>\n",
       "      <td>0</td>\n",
       "      <td>0</td>\n",
       "      <td>0</td>\n",
       "      <td>0</td>\n",
       "      <td>0</td>\n",
       "      <td>0</td>\n",
       "      <td>1</td>\n",
       "    </tr>\n",
       "    <tr>\n",
       "      <th>2</th>\n",
       "      <td>0</td>\n",
       "      <td>0</td>\n",
       "      <td>0</td>\n",
       "      <td>0</td>\n",
       "      <td>0</td>\n",
       "      <td>0</td>\n",
       "      <td>0</td>\n",
       "      <td>0</td>\n",
       "      <td>0</td>\n",
       "      <td>0</td>\n",
       "      <td>...</td>\n",
       "      <td>0</td>\n",
       "      <td>0</td>\n",
       "      <td>0</td>\n",
       "      <td>0</td>\n",
       "      <td>0</td>\n",
       "      <td>0</td>\n",
       "      <td>0</td>\n",
       "      <td>0</td>\n",
       "      <td>0</td>\n",
       "      <td>1</td>\n",
       "    </tr>\n",
       "    <tr>\n",
       "      <th>3</th>\n",
       "      <td>0</td>\n",
       "      <td>0</td>\n",
       "      <td>0</td>\n",
       "      <td>0</td>\n",
       "      <td>0</td>\n",
       "      <td>0</td>\n",
       "      <td>0</td>\n",
       "      <td>0</td>\n",
       "      <td>0</td>\n",
       "      <td>1</td>\n",
       "      <td>...</td>\n",
       "      <td>0</td>\n",
       "      <td>0</td>\n",
       "      <td>0</td>\n",
       "      <td>0</td>\n",
       "      <td>0</td>\n",
       "      <td>0</td>\n",
       "      <td>0</td>\n",
       "      <td>0</td>\n",
       "      <td>0</td>\n",
       "      <td>0</td>\n",
       "    </tr>\n",
       "    <tr>\n",
       "      <th>4</th>\n",
       "      <td>0</td>\n",
       "      <td>0</td>\n",
       "      <td>0</td>\n",
       "      <td>0</td>\n",
       "      <td>0</td>\n",
       "      <td>0</td>\n",
       "      <td>0</td>\n",
       "      <td>0</td>\n",
       "      <td>0</td>\n",
       "      <td>0</td>\n",
       "      <td>...</td>\n",
       "      <td>0</td>\n",
       "      <td>0</td>\n",
       "      <td>0</td>\n",
       "      <td>0</td>\n",
       "      <td>0</td>\n",
       "      <td>0</td>\n",
       "      <td>0</td>\n",
       "      <td>0</td>\n",
       "      <td>0</td>\n",
       "      <td>1</td>\n",
       "    </tr>\n",
       "    <tr>\n",
       "      <th>5</th>\n",
       "      <td>0</td>\n",
       "      <td>0</td>\n",
       "      <td>0</td>\n",
       "      <td>0</td>\n",
       "      <td>0</td>\n",
       "      <td>0</td>\n",
       "      <td>0</td>\n",
       "      <td>0</td>\n",
       "      <td>0</td>\n",
       "      <td>0</td>\n",
       "      <td>...</td>\n",
       "      <td>0</td>\n",
       "      <td>0</td>\n",
       "      <td>0</td>\n",
       "      <td>0</td>\n",
       "      <td>0</td>\n",
       "      <td>0</td>\n",
       "      <td>0</td>\n",
       "      <td>0</td>\n",
       "      <td>0</td>\n",
       "      <td>1</td>\n",
       "    </tr>\n",
       "  </tbody>\n",
       "</table>\n",
       "<p>5 rows × 22 columns</p>\n",
       "</div>"
      ],
      "text/plain": [
       "   AT  AU  BE  CA  CH  DE  DK  ES  FR  GB  ...  IT  JP  LU  MX  NL  NO  NZ  \\\n",
       "1   0   0   0   0   0   0   0   0   0   0  ...   0   0   0   0   0   0   0   \n",
       "2   0   0   0   0   0   0   0   0   0   0  ...   0   0   0   0   0   0   0   \n",
       "3   0   0   0   0   0   0   0   0   0   1  ...   0   0   0   0   0   0   0   \n",
       "4   0   0   0   0   0   0   0   0   0   0  ...   0   0   0   0   0   0   0   \n",
       "5   0   0   0   0   0   0   0   0   0   0  ...   0   0   0   0   0   0   0   \n",
       "\n",
       "   SE  SG  US  \n",
       "1   0   0   1  \n",
       "2   0   0   1  \n",
       "3   0   0   0  \n",
       "4   0   0   1  \n",
       "5   0   0   1  \n",
       "\n",
       "[5 rows x 22 columns]"
      ]
     },
     "execution_count": 727,
     "metadata": {},
     "output_type": "execute_result"
    }
   ],
   "source": [
    "# create dummie variables from column \"country\"\n",
    "dummies_country = pd.get_dummies(df2[\"country\"])\n",
    "dummies_country.head()"
   ]
  },
  {
   "cell_type": "code",
   "execution_count": 728,
   "metadata": {},
   "outputs": [
    {
     "data": {
      "text/html": [
       "<div>\n",
       "<style scoped>\n",
       "    .dataframe tbody tr th:only-of-type {\n",
       "        vertical-align: middle;\n",
       "    }\n",
       "\n",
       "    .dataframe tbody tr th {\n",
       "        vertical-align: top;\n",
       "    }\n",
       "\n",
       "    .dataframe thead th {\n",
       "        text-align: right;\n",
       "    }\n",
       "</style>\n",
       "<table border=\"1\" class=\"dataframe\">\n",
       "  <thead>\n",
       "    <tr style=\"text-align: right;\">\n",
       "      <th></th>\n",
       "      <th>backers_count</th>\n",
       "      <th>converted_pledged_amount</th>\n",
       "      <th>country</th>\n",
       "      <th>created_at</th>\n",
       "      <th>currency</th>\n",
       "      <th>currency_trailing_code</th>\n",
       "      <th>current_currency</th>\n",
       "      <th>deadline</th>\n",
       "      <th>disable_communication</th>\n",
       "      <th>fx_rate</th>\n",
       "      <th>...</th>\n",
       "      <th>category_position</th>\n",
       "      <th>category_parent_id</th>\n",
       "      <th>category_color</th>\n",
       "      <th>location_name</th>\n",
       "      <th>location_localized_name</th>\n",
       "      <th>location_country</th>\n",
       "      <th>location_type</th>\n",
       "      <th>blurb_length</th>\n",
       "      <th>name_length</th>\n",
       "      <th>country_US</th>\n",
       "    </tr>\n",
       "  </thead>\n",
       "  <tbody>\n",
       "    <tr>\n",
       "      <th>1</th>\n",
       "      <td>47</td>\n",
       "      <td>1950</td>\n",
       "      <td>US</td>\n",
       "      <td>1501684093</td>\n",
       "      <td>USD</td>\n",
       "      <td>True</td>\n",
       "      <td>USD</td>\n",
       "      <td>1504976459</td>\n",
       "      <td>False</td>\n",
       "      <td>1.0</td>\n",
       "      <td>...</td>\n",
       "      <td>4</td>\n",
       "      <td>12.0</td>\n",
       "      <td>51627</td>\n",
       "      <td>Euless</td>\n",
       "      <td>Euless</td>\n",
       "      <td>US</td>\n",
       "      <td>Town</td>\n",
       "      <td>125.0</td>\n",
       "      <td>23</td>\n",
       "      <td>1</td>\n",
       "    </tr>\n",
       "  </tbody>\n",
       "</table>\n",
       "<p>1 rows × 38 columns</p>\n",
       "</div>"
      ],
      "text/plain": [
       "   backers_count  converted_pledged_amount country  created_at currency  \\\n",
       "1             47                      1950      US  1501684093      USD   \n",
       "\n",
       "   currency_trailing_code current_currency    deadline  disable_communication  \\\n",
       "1                    True              USD  1504976459                  False   \n",
       "\n",
       "   fx_rate  ...  category_position  category_parent_id  category_color  \\\n",
       "1      1.0  ...                  4                12.0           51627   \n",
       "\n",
       "   location_name  location_localized_name  location_country  location_type  \\\n",
       "1         Euless                   Euless                US           Town   \n",
       "\n",
       "  blurb_length  name_length  country_US  \n",
       "1        125.0           23           1  \n",
       "\n",
       "[1 rows x 38 columns]"
      ]
     },
     "execution_count": 728,
     "metadata": {},
     "output_type": "execute_result"
    }
   ],
   "source": [
    "# put dummie variable \"US\" (if the Country USA? yes=1, no=0)in our dataframe\n",
    "df2[\"country_US\"] = dummies_country[\"US\"]\n",
    "df2.head(1)"
   ]
  },
  {
   "cell_type": "markdown",
   "metadata": {},
   "source": [
    "### \"created_at\"/ \"deadline\"/ \"launched_at\""
   ]
  },
  {
   "cell_type": "code",
   "execution_count": 729,
   "metadata": {},
   "outputs": [
    {
     "data": {
      "text/plain": [
       "1    1504976459\n",
       "Name: state_changed_at, dtype: int64"
      ]
     },
     "execution_count": 729,
     "metadata": {},
     "output_type": "execute_result"
    }
   ],
   "source": [
    "# convert \"created_at\"/ \"deadline\"/ \"launched_at\" and take the month or calculate the period \n",
    "df2[\"created_at\"].head(1)\n",
    "df2[\"deadline\"].head()\n",
    "df2[\"launched_at\"].head(1)\n",
    "df2[\"state_changed_at\"].head(1)"
   ]
  },
  {
   "cell_type": "code",
   "execution_count": 730,
   "metadata": {
    "scrolled": true
   },
   "outputs": [
    {
     "data": {
      "text/plain": [
       "1    30.000000\n",
       "2    30.000000\n",
       "3    59.958333\n",
       "4    30.000000\n",
       "5    30.000000\n",
       "Name: duration, dtype: float64"
      ]
     },
     "execution_count": 730,
     "metadata": {},
     "output_type": "execute_result"
    }
   ],
   "source": [
    "df2[\"duration\"] = df2[\"deadline\"] -df2[\"launched_at\"]\n",
    "df2[\"duration\"] =df2[\"duration\"] / (60*60*24)\n",
    "df2[\"duration\"].head()"
   ]
  },
  {
   "cell_type": "code",
   "execution_count": 731,
   "metadata": {},
   "outputs": [
    {
     "data": {
      "text/plain": [
       "1      8.106088\n",
       "2    224.928958\n",
       "3      5.383160\n",
       "4      4.102500\n",
       "5    159.368009\n",
       "Name: preparation, dtype: float64"
      ]
     },
     "execution_count": 731,
     "metadata": {},
     "output_type": "execute_result"
    }
   ],
   "source": [
    "df2[\"preparation\"] = df2[\"launched_at\"] - df2[\"created_at\"]\n",
    "df2[\"preparation\"] = df2[\"preparation\"] / (60*60*24)\n",
    "df2[\"preparation\"].head()"
   ]
  },
  {
   "cell_type": "code",
   "execution_count": 732,
   "metadata": {},
   "outputs": [
    {
     "data": {
      "text/plain": [
       "1    30.000000\n",
       "2    30.000000\n",
       "3    59.958333\n",
       "4    30.000000\n",
       "5    30.000000\n",
       "Name: act_duration, dtype: float64"
      ]
     },
     "execution_count": 732,
     "metadata": {},
     "output_type": "execute_result"
    }
   ],
   "source": [
    "df2[\"act_duration\"] =df2[\"state_changed_at\"] - df2[\"launched_at\"]\n",
    "df2[\"act_duration\"] = df2[\"act_duration\"] / (60*60*24)\n",
    "df2[\"act_duration\"].head()"
   ]
  },
  {
   "cell_type": "code",
   "execution_count": 733,
   "metadata": {},
   "outputs": [],
   "source": [
    "df2.drop([\"created_at\", \"deadline\", \"launched_at\", \"state_changed_at\"], inplace= True, axis=1)"
   ]
  },
  {
   "cell_type": "markdown",
   "metadata": {},
   "source": [
    "### what is fx_rate ?"
   ]
  },
  {
   "cell_type": "code",
   "execution_count": 734,
   "metadata": {},
   "outputs": [
    {
     "data": {
      "text/plain": [
       "1    1.000000\n",
       "2    1.000000\n",
       "3    1.308394\n",
       "4    1.000000\n",
       "5    1.000000\n",
       "Name: fx_rate, dtype: float64"
      ]
     },
     "execution_count": 734,
     "metadata": {},
     "output_type": "execute_result"
    }
   ],
   "source": [
    "# what is fx_rate ?\n",
    "df2[\"fx_rate\"].head()"
   ]
  },
  {
   "cell_type": "code",
   "execution_count": 735,
   "metadata": {},
   "outputs": [],
   "source": [
    "df2.drop([\"fx_rate\"], inplace= True, axis=1)"
   ]
  },
  {
   "cell_type": "markdown",
   "metadata": {},
   "source": [
    "### goal"
   ]
  },
  {
   "cell_type": "code",
   "execution_count": 736,
   "metadata": {
    "scrolled": true
   },
   "outputs": [],
   "source": [
    "# convert goal in USD \n",
    "df2['USD_goal'] = df2[\"goal\"]*df2[\"static_usd_rate\"]"
   ]
  },
  {
   "cell_type": "code",
   "execution_count": 737,
   "metadata": {},
   "outputs": [],
   "source": [
    "df2.drop([\"goal\"], inplace= True, axis=1)"
   ]
  },
  {
   "cell_type": "markdown",
   "metadata": {},
   "source": [
    "### \"id\""
   ]
  },
  {
   "cell_type": "code",
   "execution_count": 738,
   "metadata": {
    "scrolled": true
   },
   "outputs": [
    {
     "data": {
      "text/plain": [
       "1    928751314\n",
       "Name: id, dtype: int64"
      ]
     },
     "execution_count": 738,
     "metadata": {},
     "output_type": "execute_result"
    }
   ],
   "source": [
    "df2[\"id\"].head(1)"
   ]
  },
  {
   "cell_type": "code",
   "execution_count": 739,
   "metadata": {},
   "outputs": [],
   "source": [
    "# count double entires in the column \"id\"\n",
    "df2[\"count_id\"] = df2.groupby(\"id\")[\"id\"].transform('count')"
   ]
  },
  {
   "cell_type": "code",
   "execution_count": 740,
   "metadata": {},
   "outputs": [
    {
     "data": {
      "text/plain": [
       "1    145294\n",
       "2     47370\n",
       "Name: count_id, dtype: int64"
      ]
     },
     "execution_count": 740,
     "metadata": {},
     "output_type": "execute_result"
    }
   ],
   "source": [
    "df2[\"count_id\"].value_counts()"
   ]
  },
  {
   "cell_type": "code",
   "execution_count": 741,
   "metadata": {},
   "outputs": [],
   "source": [
    "df2.drop([\"id\"], inplace= True, axis=1)"
   ]
  },
  {
   "cell_type": "markdown",
   "metadata": {},
   "source": [
    "### \"is_starrable\""
   ]
  },
  {
   "cell_type": "code",
   "execution_count": 742,
   "metadata": {
    "scrolled": true
   },
   "outputs": [
    {
     "data": {
      "text/plain": [
       "False    192664\n",
       "Name: is_starrable, dtype: int64"
      ]
     },
     "execution_count": 742,
     "metadata": {},
     "output_type": "execute_result"
    }
   ],
   "source": [
    "df2[\"is_starrable\"].value_counts()"
   ]
  },
  {
   "cell_type": "code",
   "execution_count": 743,
   "metadata": {},
   "outputs": [],
   "source": [
    "# because all entries are \"False\" the column \"is_starrable\" has no content for our model\n",
    "df2.drop([\"is_starrable\"], inplace= True, axis=1)"
   ]
  },
  {
   "cell_type": "markdown",
   "metadata": {},
   "source": [
    "### \"pledged\" and \"usd_pledged\""
   ]
  },
  {
   "cell_type": "code",
   "execution_count": 744,
   "metadata": {},
   "outputs": [
    {
     "data": {
      "text/plain": [
       "1      1950.0\n",
       "2     22404.0\n",
       "3       136.0\n",
       "4      2820.0\n",
       "5      3725.0\n",
       "6      3890.0\n",
       "7       660.0\n",
       "8       375.0\n",
       "9      1954.0\n",
       "10        0.0\n",
       "Name: pledged, dtype: float64"
      ]
     },
     "execution_count": 744,
     "metadata": {},
     "output_type": "execute_result"
    }
   ],
   "source": [
    "df2[\"pledged\"].head(10)"
   ]
  },
  {
   "cell_type": "code",
   "execution_count": 745,
   "metadata": {
    "scrolled": true
   },
   "outputs": [
    {
     "data": {
      "text/plain": [
       "1      1950.000000\n",
       "2     22404.000000\n",
       "3       165.384934\n",
       "4      2820.000000\n",
       "5      3725.000000\n",
       "6      3890.000000\n",
       "7       660.000000\n",
       "8       529.786729\n",
       "9      2516.160602\n",
       "10        0.000000\n",
       "Name: usd_pledged, dtype: float64"
      ]
     },
     "execution_count": 745,
     "metadata": {},
     "output_type": "execute_result"
    }
   ],
   "source": [
    "df2[\"usd_pledged\"].head(10)"
   ]
  },
  {
   "cell_type": "code",
   "execution_count": 746,
   "metadata": {},
   "outputs": [
    {
     "data": {
      "text/plain": [
       "1     1.000000\n",
       "2     1.000000\n",
       "3     1.216066\n",
       "4     1.000000\n",
       "5     1.000000\n",
       "6     1.000000\n",
       "7     1.000000\n",
       "8     1.412765\n",
       "9     1.287697\n",
       "10    1.000000\n",
       "Name: static_usd_rate, dtype: float64"
      ]
     },
     "execution_count": 746,
     "metadata": {},
     "output_type": "execute_result"
    }
   ],
   "source": [
    "df2[\"static_usd_rate\"].head(10)"
   ]
  },
  {
   "cell_type": "code",
   "execution_count": 747,
   "metadata": {},
   "outputs": [],
   "source": [
    "# drop \"pledged\" because we have \"usd_pledged\" which is \"pledged\" convert in USD \n",
    "df2.drop([\"pledged\"], inplace= True, axis=1)"
   ]
  },
  {
   "cell_type": "code",
   "execution_count": 748,
   "metadata": {},
   "outputs": [],
   "source": [
    "#df2.drop([\"usd_pledged\"], inplace= True, axis=1)"
   ]
  },
  {
   "cell_type": "markdown",
   "metadata": {},
   "source": [
    "### \"spotlight\""
   ]
  },
  {
   "cell_type": "code",
   "execution_count": 749,
   "metadata": {},
   "outputs": [
    {
     "data": {
      "text/plain": [
       "True     117465\n",
       "False     75199\n",
       "Name: spotlight, dtype: int64"
      ]
     },
     "execution_count": 749,
     "metadata": {},
     "output_type": "execute_result"
    }
   ],
   "source": [
    "df2[\"spotlight\"].value_counts()"
   ]
  },
  {
   "cell_type": "code",
   "execution_count": 750,
   "metadata": {},
   "outputs": [],
   "source": [
    "# drop because only the successful projects can use the spotlight function \n",
    "df2.drop([\"spotlight\"], inplace= True, axis=1)"
   ]
  },
  {
   "cell_type": "markdown",
   "metadata": {},
   "source": [
    "### \"staff_pick\""
   ]
  },
  {
   "cell_type": "code",
   "execution_count": 751,
   "metadata": {},
   "outputs": [
    {
     "data": {
      "text/plain": [
       "False    166671\n",
       "True      25993\n",
       "Name: staff_pick, dtype: int64"
      ]
     },
     "execution_count": 751,
     "metadata": {},
     "output_type": "execute_result"
    }
   ],
   "source": [
    "df2[\"staff_pick\"].value_counts()"
   ]
  },
  {
   "cell_type": "markdown",
   "metadata": {},
   "source": [
    "### \"creator_id\""
   ]
  },
  {
   "cell_type": "code",
   "execution_count": 752,
   "metadata": {
    "scrolled": true
   },
   "outputs": [],
   "source": [
    "# count double entires in the column \"creator_id\"\n",
    "df2[\"count_creator_id\"] = df2.groupby(\"creator_id\")[\"creator_id\"].transform('count')"
   ]
  },
  {
   "cell_type": "code",
   "execution_count": 753,
   "metadata": {
    "scrolled": true
   },
   "outputs": [
    {
     "data": {
      "text/plain": [
       "1     117387\n",
       "2      46008\n",
       "3       9723\n",
       "4       5868\n",
       "5       2975\n",
       "6       2256\n",
       "7       1372\n",
       "8       1192\n",
       "9        909\n",
       "10       570\n",
       "11       473\n",
       "13       364\n",
       "14       322\n",
       "12       288\n",
       "15       285\n",
       "16       272\n",
       "19       247\n",
       "18       234\n",
       "25       175\n",
       "20       160\n",
       "22       132\n",
       "17       119\n",
       "28       112\n",
       "27       108\n",
       "23        92\n",
       "21        84\n",
       "39        78\n",
       "75        75\n",
       "34        68\n",
       "32        64\n",
       "30        60\n",
       "60        60\n",
       "59        59\n",
       "55        55\n",
       "53        53\n",
       "26        52\n",
       "52        52\n",
       "51        51\n",
       "45        45\n",
       "40        40\n",
       "37        37\n",
       "33        33\n",
       "31        31\n",
       "24        24\n",
       "Name: count_creator_id, dtype: int64"
      ]
     },
     "execution_count": 753,
     "metadata": {},
     "output_type": "execute_result"
    }
   ],
   "source": [
    "df2[\"count_creator_id\"].value_counts()"
   ]
  },
  {
   "cell_type": "markdown",
   "metadata": {},
   "source": [
    "### \"profile_test_project_id\""
   ]
  },
  {
   "cell_type": "code",
   "execution_count": 754,
   "metadata": {},
   "outputs": [],
   "source": [
    "df2[\"count_profile_id\"] = df2.groupby(\"profile_test_project_id\")[\"profile_test_project_id\"].transform('count')"
   ]
  },
  {
   "cell_type": "code",
   "execution_count": 755,
   "metadata": {},
   "outputs": [
    {
     "data": {
      "text/plain": [
       "1    145294\n",
       "2     47370\n",
       "Name: count_profile_id, dtype: int64"
      ]
     },
     "execution_count": 755,
     "metadata": {},
     "output_type": "execute_result"
    }
   ],
   "source": [
    "df2[\"count_profile_id\"].value_counts()"
   ]
  },
  {
   "cell_type": "code",
   "execution_count": 756,
   "metadata": {},
   "outputs": [],
   "source": [
    "# same results like the column id, that's why drop the column \n",
    "df2.drop([\"profile_test_project_id\", \"count_profile_id\"], inplace= True, axis=1)"
   ]
  },
  {
   "cell_type": "markdown",
   "metadata": {},
   "source": [
    "### profile_test_state"
   ]
  },
  {
   "cell_type": "code",
   "execution_count": 757,
   "metadata": {},
   "outputs": [
    {
     "data": {
      "text/plain": [
       "inactive    155264\n",
       "active       37400\n",
       "Name: profile_test_state, dtype: int64"
      ]
     },
     "execution_count": 757,
     "metadata": {},
     "output_type": "execute_result"
    }
   ],
   "source": [
    "df2[\"profile_test_state\"].value_counts()"
   ]
  },
  {
   "cell_type": "markdown",
   "metadata": {},
   "source": [
    "### \"category_name\""
   ]
  },
  {
   "cell_type": "code",
   "execution_count": 758,
   "metadata": {},
   "outputs": [
    {
     "data": {
      "text/plain": [
       "1      Playing Cards\n",
       "2               Rock\n",
       "3      Playing Cards\n",
       "4         Nonfiction\n",
       "5    Classical Music\n",
       "Name: category_name, dtype: object"
      ]
     },
     "execution_count": 758,
     "metadata": {},
     "output_type": "execute_result"
    }
   ],
   "source": [
    "df2[\"category_name\"].head()"
   ]
  },
  {
   "cell_type": "code",
   "execution_count": 759,
   "metadata": {},
   "outputs": [
    {
     "data": {
      "text/plain": [
       "159"
      ]
     },
     "execution_count": 759,
     "metadata": {},
     "output_type": "execute_result"
    }
   ],
   "source": [
    "len(df2[\"category_name\"].value_counts())"
   ]
  },
  {
   "cell_type": "markdown",
   "metadata": {},
   "source": [
    "### \"category_slug\""
   ]
  },
  {
   "cell_type": "code",
   "execution_count": 760,
   "metadata": {
    "scrolled": true
   },
   "outputs": [
    {
     "data": {
      "text/plain": [
       "169"
      ]
     },
     "execution_count": 760,
     "metadata": {},
     "output_type": "execute_result"
    }
   ],
   "source": [
    "len(df2[\"category_slug\"].value_counts())"
   ]
  },
  {
   "cell_type": "code",
   "execution_count": 761,
   "metadata": {},
   "outputs": [
    {
     "data": {
      "text/plain": [
       "1    games/playing cards\n",
       "Name: category_slug, dtype: object"
      ]
     },
     "execution_count": 761,
     "metadata": {},
     "output_type": "execute_result"
    }
   ],
   "source": [
    "df2[\"category_slug\"].head(1)"
   ]
  },
  {
   "cell_type": "code",
   "execution_count": 762,
   "metadata": {},
   "outputs": [],
   "source": [
    "df2[\"parent_category\"], df2[\"category\"] = df2[\"category_slug\"].str.split('/', 1).str"
   ]
  },
  {
   "cell_type": "code",
   "execution_count": 763,
   "metadata": {},
   "outputs": [
    {
     "data": {
      "text/plain": [
       "music           25920\n",
       "film & video    25653\n",
       "technology      19476\n",
       "art             19217\n",
       "publishing      18690\n",
       "food            14948\n",
       "games           12452\n",
       "fashion         10764\n",
       "comics           8190\n",
       "design           7680\n",
       "photography      7390\n",
       "crafts           6549\n",
       "theater          6478\n",
       "journalism       5338\n",
       "dance            3919\n",
       "Name: parent_category, dtype: int64"
      ]
     },
     "execution_count": 763,
     "metadata": {},
     "output_type": "execute_result"
    }
   ],
   "source": [
    "df2[\"parent_category\"].value_counts()"
   ]
  },
  {
   "cell_type": "code",
   "execution_count": 764,
   "metadata": {},
   "outputs": [
    {
     "data": {
      "text/plain": [
       "144"
      ]
     },
     "execution_count": 764,
     "metadata": {},
     "output_type": "execute_result"
    }
   ],
   "source": [
    "len(df2[\"category\"].value_counts())"
   ]
  },
  {
   "cell_type": "code",
   "execution_count": 765,
   "metadata": {},
   "outputs": [],
   "source": [
    "# drop \"category\" because category_name have more contant\n",
    "df2.drop([\"category_slug\", \"category\"], inplace = True, axis=1 )"
   ]
  },
  {
   "cell_type": "markdown",
   "metadata": {},
   "source": [
    "### \"Category_position\" and \"category_parent_id\""
   ]
  },
  {
   "cell_type": "code",
   "execution_count": 766,
   "metadata": {
    "scrolled": true
   },
   "outputs": [
    {
     "data": {
      "text/plain": [
       "5     21489\n",
       "3     20897\n",
       "4     20145\n",
       "2     16881\n",
       "6     14675\n",
       "7     13845\n",
       "1     12937\n",
       "8     11412\n",
       "9     11177\n",
       "10    10225\n",
       "14     6753\n",
       "11     6515\n",
       "15     4677\n",
       "12     4455\n",
       "13     4247\n",
       "17     3567\n",
       "16     3303\n",
       "18     2997\n",
       "19     2467\n",
       "Name: category_position, dtype: int64"
      ]
     },
     "execution_count": 766,
     "metadata": {},
     "output_type": "execute_result"
    }
   ],
   "source": [
    "df2[\"category_position\"].value_counts()"
   ]
  },
  {
   "cell_type": "code",
   "execution_count": 767,
   "metadata": {},
   "outputs": [
    {
     "data": {
      "text/plain": [
       "11.0    25411\n",
       "14.0    25199\n",
       "16.0    19147\n",
       "18.0    18397\n",
       "1.0     18381\n",
       "10.0    14437\n",
       "12.0    12398\n",
       "9.0     10591\n",
       "3.0      7837\n",
       "7.0      7489\n",
       "15.0     6759\n",
       "17.0     5920\n",
       "26.0     5353\n",
       "13.0     4624\n",
       "6.0      2445\n",
       "Name: category_parent_id, dtype: int64"
      ]
     },
     "execution_count": 767,
     "metadata": {},
     "output_type": "execute_result"
    }
   ],
   "source": [
    "df2[\"category_parent_id\"].value_counts()"
   ]
  },
  {
   "cell_type": "markdown",
   "metadata": {},
   "source": [
    "### \"location name\", \"location_country\" and \"location_localized_name\""
   ]
  },
  {
   "cell_type": "code",
   "execution_count": 768,
   "metadata": {},
   "outputs": [
    {
     "data": {
      "text/plain": [
       "12343"
      ]
     },
     "execution_count": 768,
     "metadata": {},
     "output_type": "execute_result"
    }
   ],
   "source": [
    "len(df2[\"location_name\"].value_counts())"
   ]
  },
  {
   "cell_type": "code",
   "execution_count": 769,
   "metadata": {},
   "outputs": [
    {
     "data": {
      "text/plain": [
       "1           Euless\n",
       "2        Hollywood\n",
       "3           Kaunas\n",
       "4    Traverse City\n",
       "5        Annapolis\n",
       "Name: location_name, dtype: object"
      ]
     },
     "execution_count": 769,
     "metadata": {},
     "output_type": "execute_result"
    }
   ],
   "source": [
    "df2[\"location_name\"].head()"
   ]
  },
  {
   "cell_type": "code",
   "execution_count": 770,
   "metadata": {},
   "outputs": [
    {
     "data": {
      "text/plain": [
       "1           Euless\n",
       "2        Hollywood\n",
       "3           Kaunas\n",
       "4    Traverse City\n",
       "5        Annapolis\n",
       "Name: location_localized_name, dtype: object"
      ]
     },
     "execution_count": 770,
     "metadata": {},
     "output_type": "execute_result"
    }
   ],
   "source": [
    "df2[\"location_localized_name\"].head()"
   ]
  },
  {
   "cell_type": "code",
   "execution_count": 771,
   "metadata": {},
   "outputs": [
    {
     "data": {
      "text/plain": [
       "0"
      ]
     },
     "execution_count": 771,
     "metadata": {},
     "output_type": "execute_result"
    }
   ],
   "source": [
    "len(df2[df2[\"location_name\"] != df2[\"location_localized_name\"]])"
   ]
  },
  {
   "cell_type": "code",
   "execution_count": 772,
   "metadata": {},
   "outputs": [],
   "source": [
    "# there are no difference betweeen \"location_name\" and \"location_localized_name\", that´s why we drop one of them\n",
    "df2.drop([\"location_localized_name\"], inplace= True, axis = 1)"
   ]
  },
  {
   "cell_type": "code",
   "execution_count": 773,
   "metadata": {
    "scrolled": true
   },
   "outputs": [
    {
     "data": {
      "text/plain": [
       "US    133194\n",
       "GB     20553\n",
       "CA      8659\n",
       "AU      4186\n",
       "DE      2974\n",
       "FR      2450\n",
       "MX      2219\n",
       "IT      2172\n",
       "ES      1771\n",
       "NL      1534\n",
       "SE      1273\n",
       "HK       946\n",
       "NZ       871\n",
       "DK       825\n",
       "JP       692\n",
       "SG       608\n",
       "CH       601\n",
       "IE       580\n",
       "NO       455\n",
       "BE       451\n",
       "AT       440\n",
       "CN       342\n",
       "         215\n",
       "IN       193\n",
       "PL       158\n",
       "UA       152\n",
       "KR       150\n",
       "PR       138\n",
       "TH       135\n",
       "IL       125\n",
       "       ...  \n",
       "AL         2\n",
       "DJ         2\n",
       "FM         2\n",
       "XK         2\n",
       "SO         2\n",
       "CK         2\n",
       "WS         2\n",
       "AX         2\n",
       "NC         2\n",
       "KW         2\n",
       "KI         1\n",
       "LC         1\n",
       "SA         1\n",
       "BJ         1\n",
       "MR         1\n",
       "MQ         1\n",
       "TJ         1\n",
       "VA         1\n",
       "SC         1\n",
       "TL         1\n",
       "QA         1\n",
       "SZ         1\n",
       "GQ         1\n",
       "GI         1\n",
       "AZ         1\n",
       "GA         1\n",
       "KN         1\n",
       "CV         1\n",
       "SD         1\n",
       "LS         1\n",
       "Name: location_country, Length: 196, dtype: int64"
      ]
     },
     "execution_count": 773,
     "metadata": {},
     "output_type": "execute_result"
    }
   ],
   "source": [
    "df2[\"location_country\"].value_counts()"
   ]
  },
  {
   "cell_type": "code",
   "execution_count": 774,
   "metadata": {},
   "outputs": [
    {
     "data": {
      "text/html": [
       "<div>\n",
       "<style scoped>\n",
       "    .dataframe tbody tr th:only-of-type {\n",
       "        vertical-align: middle;\n",
       "    }\n",
       "\n",
       "    .dataframe tbody tr th {\n",
       "        vertical-align: top;\n",
       "    }\n",
       "\n",
       "    .dataframe thead th {\n",
       "        text-align: right;\n",
       "    }\n",
       "</style>\n",
       "<table border=\"1\" class=\"dataframe\">\n",
       "  <thead>\n",
       "    <tr style=\"text-align: right;\">\n",
       "      <th></th>\n",
       "      <th>Number</th>\n",
       "    </tr>\n",
       "  </thead>\n",
       "  <tbody>\n",
       "    <tr>\n",
       "      <th>usd_type</th>\n",
       "      <td>38</td>\n",
       "    </tr>\n",
       "    <tr>\n",
       "      <th>category_parent_id</th>\n",
       "      <td>8276</td>\n",
       "    </tr>\n",
       "  </tbody>\n",
       "</table>\n",
       "</div>"
      ],
      "text/plain": [
       "                    Number\n",
       "usd_type                38\n",
       "category_parent_id    8276"
      ]
     },
     "execution_count": 774,
     "metadata": {},
     "output_type": "execute_result"
    }
   ],
   "source": [
    "missing = pd.DataFrame(df2.isnull().sum(),columns=['Number'])\n",
    "missing[missing.Number!=0]"
   ]
  },
  {
   "cell_type": "code",
   "execution_count": 775,
   "metadata": {},
   "outputs": [],
   "source": [
    "df2.drop([\"category_parent_id\"], axis=1, inplace = True)"
   ]
  },
  {
   "cell_type": "code",
   "execution_count": 776,
   "metadata": {},
   "outputs": [],
   "source": [
    "df2.drop([\n",
    "    \"converted_pledged_amount\", \"current_currency\",\n",
    "    \"disable_communication\",\"static_usd_rate\", \n",
    "    \"creator_id\",\n",
    "    \"profile_test_id\",\n",
    "    \"profile_test_state\", \"category_color\", \"location_name\"],\n",
    "    axis=1, inplace=True)"
   ]
  },
  {
   "cell_type": "code",
   "execution_count": 777,
   "metadata": {},
   "outputs": [
    {
     "data": {
      "text/plain": [
       "backers_count               3206\n",
       "country                       22\n",
       "currency                      14\n",
       "currency_trailing_code         2\n",
       "staff_pick                     2\n",
       "state                          2\n",
       "usd_pledged                75218\n",
       "usd_type                       2\n",
       "category_name                159\n",
       "category_position             19\n",
       "location_country             196\n",
       "location_type                 10\n",
       "blurb_length                 153\n",
       "name_length                   85\n",
       "country_US                     2\n",
       "duration                   47963\n",
       "preparation               160540\n",
       "act_duration               50102\n",
       "USD_goal                   46164\n",
       "count_id                       2\n",
       "count_creator_id              44\n",
       "parent_category               15\n",
       "dtype: int64"
      ]
     },
     "execution_count": 777,
     "metadata": {},
     "output_type": "execute_result"
    }
   ],
   "source": [
    "df2.nunique()"
   ]
  },
  {
   "cell_type": "markdown",
   "metadata": {},
   "source": [
    "# Data Exploration"
   ]
  },
  {
   "cell_type": "markdown",
   "metadata": {},
   "source": [
    "## Train- Test Split"
   ]
  },
  {
   "cell_type": "code",
   "execution_count": 778,
   "metadata": {},
   "outputs": [
    {
     "name": "stdout",
     "output_type": "stream",
     "text": [
      "(192664, 21)\n",
      "(192664,)\n"
     ]
    }
   ],
   "source": [
    "X = df2.drop(\"state\", axis=1)\n",
    "y = df2[\"state\"]\n",
    "print(X.shape)\n",
    "print(y.shape)"
   ]
  },
  {
   "cell_type": "code",
   "execution_count": 779,
   "metadata": {},
   "outputs": [],
   "source": [
    "X_train, X_test, y_train, y_test = train_test_split(X, y, test_size=0.25, random_state=42)"
   ]
  },
  {
   "cell_type": "code",
   "execution_count": 780,
   "metadata": {},
   "outputs": [],
   "source": [
    "train_data = X_train.join(y_train)"
   ]
  },
  {
   "cell_type": "markdown",
   "metadata": {},
   "source": [
    "## successful"
   ]
  },
  {
   "cell_type": "code",
   "execution_count": 781,
   "metadata": {
    "scrolled": true
   },
   "outputs": [
    {
     "data": {
      "image/png": "[encoded data removed]",
      "text/plain": [
       "<Figure size 432x288 with 1 Axes>"
      ]
     },
     "metadata": {},
     "output_type": "display_data"
    }
   ],
   "source": [
    "ax = sns.countplot(x=\"state\", data=train_data)\n",
    "plt.savefig('figures/bar_successful.png')"
   ]
  },
  {
   "cell_type": "markdown",
   "metadata": {},
   "source": [
    "## USD-Goal"
   ]
  },
  {
   "cell_type": "code",
   "execution_count": 848,
   "metadata": {
    "scrolled": false
   },
   "outputs": [
    {
     "data": {
      "image/png": "[encoded data removed]",
      "text/plain": [
       "<Figure size 720x576 with 1 Axes>"
      ]
     },
     "metadata": {},
     "output_type": "display_data"
    }
   ],
   "source": [
    "plt.figure(figsize=(10,8))\n",
    "ax= sns.boxplot(x=\"state\", y= \"USD_goal\", data= train_data, palette=sns.xkcd_palette(['green','blue']))\n",
    "ax.set(ylim=(0, 30000));\n",
    "plt.savefig('figures/boxplot_USD_goal(median)_state1.png')"
   ]
  },
  {
   "cell_type": "code",
   "execution_count": 783,
   "metadata": {},
   "outputs": [
    {
     "data": {
      "text/plain": [
       "state\n",
       "failed        7213.27935\n",
       "successful    3500.00000\n",
       "Name: USD_goal, dtype: float64"
      ]
     },
     "execution_count": 783,
     "metadata": {},
     "output_type": "execute_result"
    }
   ],
   "source": [
    "train_data.groupby(\"state\")[\"USD_goal\"].median()"
   ]
  },
  {
   "cell_type": "code",
   "execution_count": 784,
   "metadata": {
    "scrolled": true
   },
   "outputs": [
    {
     "data": {
      "image/png": "[encoded data removed]",
      "text/plain": [
       "<Figure size 432x288 with 1 Axes>"
      ]
     },
     "metadata": {},
     "output_type": "display_data"
    }
   ],
   "source": [
    "sns.barplot(x=\"state\", y=\"USD_goal\", data=train_data, estimator=median)\n",
    "plt.savefig('figures/bar_USD_goal(median)_state.png')"
   ]
  },
  {
   "cell_type": "code",
   "execution_count": 785,
   "metadata": {},
   "outputs": [
    {
     "data": {
      "text/plain": [
       "<Figure size 1584x360 with 0 Axes>"
      ]
     },
     "metadata": {},
     "output_type": "display_data"
    },
    {
     "data": {
      "image/png": "[encoded data removed]",
      "text/plain": [
       "<Figure size 360x720 with 2 Axes>"
      ]
     },
     "metadata": {},
     "output_type": "display_data"
    }
   ],
   "source": [
    "plt.figure(figsize=(22,5))\n",
    "ax= sns.lmplot(x=\"USD_goal\", y=\"backers_count\", row=\"state\",data=train_data)\n",
    "ax.set(ylim=(0, 55000))\n",
    "ax.set(xlim=(0, 80000));"
   ]
  },
  {
   "cell_type": "markdown",
   "metadata": {
    "code_folding": []
   },
   "source": [
    "## country"
   ]
  },
  {
   "cell_type": "code",
   "execution_count": 786,
   "metadata": {},
   "outputs": [
    {
     "data": {
      "image/png": "[encoded data removed]",
      "text/plain": [
       "<Figure size 432x288 with 1 Axes>"
      ]
     },
     "metadata": {},
     "output_type": "display_data"
    }
   ],
   "source": [
    "sns.countplot(x=\"country\", data=train_data, hue=\"state\", order=train_data[\"country\"].value_counts().iloc[:5].index)\n",
    "plt.savefig('figures/countplot_top_five_countrys.png')"
   ]
  },
  {
   "cell_type": "code",
   "execution_count": 787,
   "metadata": {
    "scrolled": true
   },
   "outputs": [
    {
     "data": {
      "image/png": "[encoded data removed]",
      "text/plain": [
       "<Figure size 432x288 with 1 Axes>"
      ]
     },
     "metadata": {},
     "output_type": "display_data"
    }
   ],
   "source": [
    "sns.countplot(x=\"country\", data=train_data, hue=\"state\", order=train_data[\"country\"].value_counts().iloc[2:9].index)\n",
    "plt.savefig('figures/countplot_top_countrys_without_USandGB.png')"
   ]
  },
  {
   "cell_type": "code",
   "execution_count": 788,
   "metadata": {
    "scrolled": false
   },
   "outputs": [
    {
     "data": {
      "text/plain": [
       "<matplotlib.axes._subplots.AxesSubplot at 0x7fa3118f71d0>"
      ]
     },
     "execution_count": 788,
     "metadata": {},
     "output_type": "execute_result"
    },
    {
     "data": {
      "image/png": "[encoded data removed]",
      "text/plain": [
       "<Figure size 432x288 with 1 Axes>"
      ]
     },
     "metadata": {},
     "output_type": "display_data"
    }
   ],
   "source": [
    "sns.countplot(x=\"country\", data=train_data[train_data[\"state\"]==\"successful\"], order=train_data[\"country\"].value_counts().iloc[:5].index)"
   ]
  },
  {
   "cell_type": "code",
   "execution_count": 789,
   "metadata": {
    "scrolled": false
   },
   "outputs": [
    {
     "data": {
      "image/png": "[encoded data removed]",
      "text/plain": [
       "<Figure size 432x288 with 1 Axes>"
      ]
     },
     "metadata": {},
     "output_type": "display_data"
    }
   ],
   "source": [
    "sns.countplot(x=\"country_US\", data=train_data)\n",
    "plt.savefig('figures/barplot_country_US.png')"
   ]
  },
  {
   "cell_type": "code",
   "execution_count": 790,
   "metadata": {
    "scrolled": true
   },
   "outputs": [
    {
     "data": {
      "image/png": "[encoded data removed]",
      "text/plain": [
       "<Figure size 432x288 with 1 Axes>"
      ]
     },
     "metadata": {},
     "output_type": "display_data"
    }
   ],
   "source": [
    "sns.countplot(x=\"state\", data=train_data, hue=\"country_US\")\n",
    "plt.savefig('figures/barplot_country_US_state.png')"
   ]
  },
  {
   "cell_type": "markdown",
   "metadata": {},
   "source": [
    "## \"ID\""
   ]
  },
  {
   "cell_type": "code",
   "execution_count": 791,
   "metadata": {},
   "outputs": [
    {
     "data": {
      "text/plain": [
       "1    109015\n",
       "2     35483\n",
       "Name: count_id, dtype: int64"
      ]
     },
     "execution_count": 791,
     "metadata": {},
     "output_type": "execute_result"
    }
   ],
   "source": [
    "train_data[\"count_id\"].value_counts()"
   ]
  },
  {
   "cell_type": "code",
   "execution_count": 792,
   "metadata": {
    "scrolled": true
   },
   "outputs": [
    {
     "data": {
      "text/plain": [
       "<matplotlib.axes._subplots.AxesSubplot at 0x7fa316441320>"
      ]
     },
     "execution_count": 792,
     "metadata": {},
     "output_type": "execute_result"
    },
    {
     "data": {
      "image/png": "[encoded data removed]",
      "text/plain": [
       "<Figure size 432x288 with 1 Axes>"
      ]
     },
     "metadata": {},
     "output_type": "display_data"
    }
   ],
   "source": [
    "sns.countplot(x=\"count_id\", data=train_data)\n"
   ]
  },
  {
   "cell_type": "code",
   "execution_count": 793,
   "metadata": {},
   "outputs": [
    {
     "data": {
      "text/plain": [
       "<matplotlib.axes._subplots.AxesSubplot at 0x7fa3b46ab198>"
      ]
     },
     "execution_count": 793,
     "metadata": {},
     "output_type": "execute_result"
    },
    {
     "data": {
      "image/png": "[encoded data removed]",
      "text/plain": [
       "<Figure size 432x288 with 1 Axes>"
      ]
     },
     "metadata": {},
     "output_type": "display_data"
    }
   ],
   "source": [
    "sns.countplot(x=\"state\", data=train_data, hue=\"count_id\")"
   ]
  },
  {
   "cell_type": "code",
   "execution_count": null,
   "metadata": {},
   "outputs": [],
   "source": []
  },
  {
   "cell_type": "markdown",
   "metadata": {},
   "source": [
    "## \"category\""
   ]
  },
  {
   "cell_type": "code",
   "execution_count": null,
   "metadata": {},
   "outputs": [],
   "source": [
    "df_category = pd.DataFrame(train_data[\"parent_category\"])\n",
    "df_category.append(train_data[\"state\"])"
   ]
  },
  {
   "cell_type": "code",
   "execution_count": 881,
   "metadata": {
    "scrolled": false
   },
   "outputs": [
    {
     "data": {
      "image/png": "[encoded data removed]",
      "text/plain": [
       "<Figure size 1584x360 with 1 Axes>"
      ]
     },
     "metadata": {},
     "output_type": "display_data"
    }
   ],
   "source": [
    "plt.figure(figsize=(22,5))\n",
    "ax = sns.countplot(x=\"parent_category\", hue= \"state\", data=train_data,)\n",
    "plt.savefig('figures/barplot_category_state.png')"
   ]
  },
  {
   "cell_type": "code",
   "execution_count": 795,
   "metadata": {
    "scrolled": true
   },
   "outputs": [
    {
     "data": {
      "image/png": "[encoded data removed]",
      "text/plain": [
       "<Figure size 1584x360 with 1 Axes>"
      ]
     },
     "metadata": {},
     "output_type": "display_data"
    }
   ],
   "source": [
    "plt.figure(figsize=(22,5))\n",
    "ax= sns.barplot(x=\"parent_category\", y= \"USD_goal\", data= train_data, estimator= median)\n",
    "plt.savefig('figures/barplot_category_state_USD_goal(median).png')"
   ]
  },
  {
   "cell_type": "code",
   "execution_count": 796,
   "metadata": {},
   "outputs": [
    {
     "data": {
      "image/png": "[encoded data removed]",
      "text/plain": [
       "<Figure size 1584x360 with 1 Axes>"
      ]
     },
     "metadata": {},
     "output_type": "display_data"
    }
   ],
   "source": [
    "plt.figure(figsize=(22,5))\n",
    "ax = sns.countplot(x=\"category_position\", hue= \"state\", data=train_data,)"
   ]
  },
  {
   "cell_type": "markdown",
   "metadata": {},
   "source": [
    "## \"backers count\""
   ]
  },
  {
   "cell_type": "code",
   "execution_count": 797,
   "metadata": {},
   "outputs": [
    {
     "data": {
      "image/png": "[encoded data removed]",
      "text/plain": [
       "<Figure size 432x288 with 1 Axes>"
      ]
     },
     "metadata": {},
     "output_type": "display_data"
    }
   ],
   "source": [
    "sns.barplot(x=\"country\",y=\"backers_count\", estimator= median,data=train_data, order=train_data[\"country\"].value_counts().iloc[:7].index)\n",
    "plt.savefig('figures/barplot_backerscount(median)_sorted_by_the top_7_countries.png')"
   ]
  },
  {
   "cell_type": "markdown",
   "metadata": {},
   "source": [
    "## staff-pick"
   ]
  },
  {
   "cell_type": "code",
   "execution_count": 798,
   "metadata": {},
   "outputs": [
    {
     "data": {
      "image/png": "[encoded data removed]",
      "text/plain": [
       "<Figure size 432x288 with 1 Axes>"
      ]
     },
     "metadata": {},
     "output_type": "display_data"
    }
   ],
   "source": [
    "sns.countplot(hue=\"state\", data=train_data, x=\"staff_pick\")\n",
    "plt.savefig('figures/barplot_staff-pick_state.png')"
   ]
  },
  {
   "cell_type": "code",
   "execution_count": null,
   "metadata": {},
   "outputs": [],
   "source": []
  },
  {
   "cell_type": "markdown",
   "metadata": {},
   "source": [
    "## preparation"
   ]
  },
  {
   "cell_type": "code",
   "execution_count": 799,
   "metadata": {},
   "outputs": [
    {
     "data": {
      "image/png": "[encoded data removed]",
      "text/plain": [
       "<Figure size 360x576 with 1 Axes>"
      ]
     },
     "metadata": {},
     "output_type": "display_data"
    }
   ],
   "source": [
    "plt.figure(figsize=(5,8))\n",
    "ax=sns.boxplot(y= \"duration\", x=\"state\", data= train_data, showfliers=False)"
   ]
  },
  {
   "cell_type": "code",
   "execution_count": 800,
   "metadata": {},
   "outputs": [
    {
     "data": {
      "image/png": "[encoded data removed]",
      "text/plain": [
       "<Figure size 1800x720 with 1 Axes>"
      ]
     },
     "metadata": {},
     "output_type": "display_data"
    }
   ],
   "source": [
    "plt.figure(figsize=(25,10))\n",
    "ax=sns.violinplot(hue=\"state\",split=True, y=\"preparation\", data=train_data, size=(500, 500))"
   ]
  },
  {
   "cell_type": "markdown",
   "metadata": {},
   "source": [
    "## blurb length"
   ]
  },
  {
   "cell_type": "code",
   "execution_count": 801,
   "metadata": {
    "scrolled": true
   },
   "outputs": [
    {
     "data": {
      "image/png": "[encoded data removed]",
      "text/plain": [
       "<Figure size 432x288 with 1 Axes>"
      ]
     },
     "metadata": {},
     "output_type": "display_data"
    }
   ],
   "source": [
    "ax = sns.barplot(x= \"state\", y =\"blurb_length\", estimator= median, data=train_data)"
   ]
  },
  {
   "cell_type": "code",
   "execution_count": 802,
   "metadata": {},
   "outputs": [
    {
     "data": {
      "text/plain": [
       "<matplotlib.axes._subplots.AxesSubplot at 0x7fa316971eb8>"
      ]
     },
     "execution_count": 802,
     "metadata": {},
     "output_type": "execute_result"
    },
    {
     "data": {
      "image/png": "[encoded data removed]",
      "text/plain": [
       "<Figure size 432x288 with 1 Axes>"
      ]
     },
     "metadata": {},
     "output_type": "display_data"
    }
   ],
   "source": [
    "sns.distplot(train_data[\"blurb_length\"],color=\"b\",hist=True)\n"
   ]
  },
  {
   "cell_type": "markdown",
   "metadata": {},
   "source": [
    "## name length "
   ]
  },
  {
   "cell_type": "code",
   "execution_count": 803,
   "metadata": {},
   "outputs": [
    {
     "data": {
      "image/png": "[encoded data removed]",
      "text/plain": [
       "<Figure size 432x288 with 1 Axes>"
      ]
     },
     "metadata": {},
     "output_type": "display_data"
    }
   ],
   "source": [
    "ax = sns.barplot(x= \"state\", y =\"name_length\", estimator= median, data=train_data)"
   ]
  },
  {
   "cell_type": "code",
   "execution_count": 804,
   "metadata": {},
   "outputs": [
    {
     "data": {
      "text/plain": [
       "<matplotlib.axes._subplots.AxesSubplot at 0x7fa36f5e5518>"
      ]
     },
     "execution_count": 804,
     "metadata": {},
     "output_type": "execute_result"
    },
    {
     "data": {
      "image/png": "[encoded data removed]",
      "text/plain": [
       "<Figure size 432x288 with 1 Axes>"
      ]
     },
     "metadata": {},
     "output_type": "display_data"
    }
   ],
   "source": [
    "sns.distplot(train_data[\"name_length\"],color=\"b\",hist=True)"
   ]
  },
  {
   "cell_type": "markdown",
   "metadata": {},
   "source": [
    "## correlation matrix"
   ]
  },
  {
   "cell_type": "code",
   "execution_count": 805,
   "metadata": {},
   "outputs": [
    {
     "data": {
      "image/png": "[encoded data removed]",
      "text/plain": [
       "<Figure size 720x720 with 2 Axes>"
      ]
     },
     "metadata": {},
     "output_type": "display_data"
    }
   ],
   "source": [
    "plt.figure(figsize=(10,10))\n",
    "ax=sns.heatmap(train_data.corr().round(2),cmap=\"coolwarm\",annot=True)\n",
    "plt.savefig('figures/correlations_matrix.png')"
   ]
  },
  {
   "cell_type": "code",
   "execution_count": null,
   "metadata": {
    "scrolled": true
   },
   "outputs": [],
   "source": []
  },
  {
   "cell_type": "markdown",
   "metadata": {},
   "source": [
    "# Feature Engineering"
   ]
  },
  {
   "cell_type": "code",
   "execution_count": null,
   "metadata": {},
   "outputs": [],
   "source": []
  },
  {
   "cell_type": "markdown",
   "metadata": {},
   "source": [
    "# Predictive Modeling"
   ]
  },
  {
   "cell_type": "code",
   "execution_count": 806,
   "metadata": {
    "scrolled": true
   },
   "outputs": [
    {
     "data": {
      "text/plain": [
       "Index(['backers_count', 'country', 'currency', 'currency_trailing_code',\n",
       "       'staff_pick', 'state', 'usd_pledged', 'usd_type', 'category_name',\n",
       "       'category_position', 'location_country', 'location_type',\n",
       "       'blurb_length', 'name_length', 'country_US', 'duration', 'preparation',\n",
       "       'act_duration', 'USD_goal', 'count_id', 'count_creator_id',\n",
       "       'parent_category'],\n",
       "      dtype='object')"
      ]
     },
     "execution_count": 806,
     "metadata": {},
     "output_type": "execute_result"
    }
   ],
   "source": [
    "df2.columns"
   ]
  },
  {
   "cell_type": "code",
   "execution_count": 809,
   "metadata": {
    "scrolled": true
   },
   "outputs": [
    {
     "data": {
      "text/plain": [
       "['staff_pick',\n",
       " 'blurb_length',\n",
       " 'name_length',\n",
       " 'country_US',\n",
       " 'duration',\n",
       " 'USD_goal',\n",
       " 'count_creator_id']"
      ]
     },
     "execution_count": 809,
     "metadata": {},
     "output_type": "execute_result"
    }
   ],
   "source": [
    "num_features = list(df2.columns[df2.dtypes!=object])\n",
    "num_features.remove(\"backers_count\")\n",
    "num_features.remove(\"usd_pledged\")\n",
    "num_features.remove(\"category_position\")\n",
    "num_features.remove(\"preparation\")\n",
    "num_features.remove(\"currency_trailing_code\")\n",
    "num_features.remove(\"count_id\")\n",
    "num_features.remove(\"act_duration\")\n",
    "num_features"
   ]
  },
  {
   "cell_type": "code",
   "execution_count": 810,
   "metadata": {},
   "outputs": [
    {
     "data": {
      "text/plain": [
       "['country',\n",
       " 'currency',\n",
       " 'usd_type',\n",
       " 'location_country',\n",
       " 'location_type',\n",
       " 'parent_category']"
      ]
     },
     "execution_count": 810,
     "metadata": {},
     "output_type": "execute_result"
    }
   ],
   "source": [
    "cat_features = list(df2.columns[df2.dtypes==object])\n",
    "cat_features.remove(\"state\")\n",
    "cat_features.remove(\"category_name\")\n",
    "cat_features"
   ]
  },
  {
   "cell_type": "markdown",
   "metadata": {},
   "source": [
    "## built the Pipeline"
   ]
  },
  {
   "cell_type": "code",
   "execution_count": 811,
   "metadata": {},
   "outputs": [],
   "source": [
    "# Pipline for numerical features\n",
    "num_pipeline = Pipeline([\n",
    "    ('imputer_num', SimpleImputer(strategy='median')),\n",
    "    ('std_scaler', StandardScaler())])\n",
    "\n",
    "# Pipeline for categorical features \n",
    "cat_pipeline = Pipeline([\n",
    "    ('imputer_cat', SimpleImputer(strategy='constant', fill_value='missing')),\n",
    "    ('1hot', OneHotEncoder(handle_unknown='ignore'))])"
   ]
  },
  {
   "cell_type": "code",
   "execution_count": 812,
   "metadata": {},
   "outputs": [],
   "source": [
    "# Complete pipeline\n",
    "preprocessor = ColumnTransformer([\n",
    "                                ('num', num_pipeline, num_features),\n",
    "                                ('cat', cat_pipeline, cat_features)])"
   ]
  },
  {
   "cell_type": "markdown",
   "metadata": {},
   "source": [
    "## Logistic Regression"
   ]
  },
  {
   "cell_type": "code",
   "execution_count": 813,
   "metadata": {},
   "outputs": [],
   "source": [
    "pipe_logreg = Pipeline([\n",
    "    ('preprocessor', preprocessor),\n",
    "    ('logreg', LogisticRegression(max_iter=1000))\n",
    "])"
   ]
  },
  {
   "cell_type": "code",
   "execution_count": 814,
   "metadata": {},
   "outputs": [],
   "source": [
    "# Making predictions on the training set using cross validation as well as calculating the probabilities \n",
    "y_train_predicted_log = cross_val_predict(pipe_logreg, X_train, y_train, cv=5)"
   ]
  },
  {
   "cell_type": "code",
   "execution_count": 815,
   "metadata": {
    "scrolled": true
   },
   "outputs": [
    {
     "name": "stdout",
     "output_type": "stream",
     "text": [
      "Accuracy: 0.75\n",
      "              precision    recall  f1-score   support\n",
      "\n",
      "      failed       0.72      0.60      0.65     56545\n",
      "  successful       0.77      0.85      0.81     87953\n",
      "\n",
      "    accuracy                           0.75    144498\n",
      "   macro avg       0.74      0.73      0.73    144498\n",
      "weighted avg       0.75      0.75      0.75    144498\n",
      "\n"
     ]
    }
   ],
   "source": [
    "print(\"Accuracy: {:.2f}\".format(accuracy_score(y_train, y_train_predicted_log)))\n",
    "print(classification_report(y_train, y_train_predicted_log))"
   ]
  },
  {
   "cell_type": "code",
   "execution_count": 816,
   "metadata": {},
   "outputs": [],
   "source": [
    "param_logreg = {'logreg__penalty':('l1','l2'),\n",
    "                'logreg__C': [0.01, 0.1, 1, 10, 100]\n",
    "               }\n",
    "\n",
    "grid_logreg = GridSearchCV(pipe_logreg, param_grid=param_logreg, cv=3, scoring='accuracy', \n",
    "                           verbose=5, n_jobs=-1)"
   ]
  },
  {
   "cell_type": "code",
   "execution_count": 817,
   "metadata": {
    "scrolled": true
   },
   "outputs": [
    {
     "name": "stdout",
     "output_type": "stream",
     "text": [
      "Fitting 3 folds for each of 10 candidates, totalling 30 fits\n"
     ]
    },
    {
     "name": "stderr",
     "output_type": "stream",
     "text": [
      "[Parallel(n_jobs=-1)]: Using backend LokyBackend with 4 concurrent workers.\n",
      "[Parallel(n_jobs=-1)]: Done  10 tasks      | elapsed:   12.5s\n",
      "[Parallel(n_jobs=-1)]: Done  30 out of  30 | elapsed:   55.0s remaining:    0.0s\n",
      "[Parallel(n_jobs=-1)]: Done  30 out of  30 | elapsed:   55.0s finished\n"
     ]
    },
    {
     "data": {
      "text/plain": [
       "GridSearchCV(cv=3, error_score=nan,\n",
       "             estimator=Pipeline(memory=None,\n",
       "                                steps=[('preprocessor',\n",
       "                                        ColumnTransformer(n_jobs=None,\n",
       "                                                          remainder='drop',\n",
       "                                                          sparse_threshold=0.3,\n",
       "                                                          transformer_weights=None,\n",
       "                                                          transformers=[('num',\n",
       "                                                                         Pipeline(memory=None,\n",
       "                                                                                  steps=[('imputer_num',\n",
       "                                                                                          SimpleImputer(add_indicator=False,\n",
       "                                                                                                        copy=True,\n",
       "                                                                                                        fill_value=None,\n",
       "                                                                                                        missing_values=nan,\n",
       "                                                                                                        strategy='median',\n",
       "                                                                                                        verbose=...\n",
       "                                                           l1_ratio=None,\n",
       "                                                           max_iter=1000,\n",
       "                                                           multi_class='auto',\n",
       "                                                           n_jobs=None,\n",
       "                                                           penalty='l2',\n",
       "                                                           random_state=None,\n",
       "                                                           solver='lbfgs',\n",
       "                                                           tol=0.0001,\n",
       "                                                           verbose=0,\n",
       "                                                           warm_start=False))],\n",
       "                                verbose=False),\n",
       "             iid='deprecated', n_jobs=-1,\n",
       "             param_grid={'logreg__C': [0.01, 0.1, 1, 10, 100],\n",
       "                         'logreg__penalty': ('l1', 'l2')},\n",
       "             pre_dispatch='2*n_jobs', refit=True, return_train_score=False,\n",
       "             scoring='accuracy', verbose=5)"
      ]
     },
     "execution_count": 817,
     "metadata": {},
     "output_type": "execute_result"
    }
   ],
   "source": [
    "grid_logreg.fit(X_train, y_train)"
   ]
  },
  {
   "cell_type": "code",
   "execution_count": 818,
   "metadata": {
    "scrolled": true
   },
   "outputs": [
    {
     "name": "stdout",
     "output_type": "stream",
     "text": [
      "Best score:\n",
      "0.75\n",
      "Best parameters:\n",
      "{'logreg__C': 10, 'logreg__penalty': 'l2'}\n"
     ]
    }
   ],
   "source": [
    "# Show best parameters\n",
    "print('Best score:\\n{:.2f}'.format(grid_logreg.best_score_))\n",
    "print(\"Best parameters:\\n{}\".format(grid_logreg.best_params_))"
   ]
  },
  {
   "cell_type": "markdown",
   "metadata": {},
   "source": [
    "best score and best parameter bevore we remove \"currency_trailing_code\", \"count_id\", \"preparation\", \"act_duration\", \"category_name\"\n",
    "Best score:\n",
    "0.86\n",
    "Best parameters:\n",
    "{'logreg__C': 10, 'logreg__penalty': 'l2'}"
   ]
  },
  {
   "cell_type": "code",
   "execution_count": 819,
   "metadata": {},
   "outputs": [],
   "source": [
    "# Save best model as best_model\n",
    "best_model = grid_logreg.best_estimator_['logreg']"
   ]
  },
  {
   "cell_type": "markdown",
   "metadata": {},
   "source": [
    "## Random Forest"
   ]
  },
  {
   "cell_type": "code",
   "execution_count": 820,
   "metadata": {},
   "outputs": [],
   "source": [
    "pipe_R_forest= Pipeline([('preprocessor', preprocessor),\n",
    "                         ('classifier', RandomForestClassifier(n_estimators=70))])"
   ]
  },
  {
   "cell_type": "code",
   "execution_count": 821,
   "metadata": {},
   "outputs": [],
   "source": [
    "# Making predictions on the training set using cross validation as well as calculating the probabilities \n",
    "y_train_predicted_R_forest = cross_val_predict(pipe_R_forest, X_train, y_train, cv=5)"
   ]
  },
  {
   "cell_type": "code",
   "execution_count": 822,
   "metadata": {
    "scrolled": true
   },
   "outputs": [
    {
     "name": "stdout",
     "output_type": "stream",
     "text": [
      "Accuracy: 0.79\n",
      "              precision    recall  f1-score   support\n",
      "\n",
      "      failed       0.75      0.70      0.72     56545\n",
      "  successful       0.81      0.85      0.83     87953\n",
      "\n",
      "    accuracy                           0.79    144498\n",
      "   macro avg       0.78      0.77      0.78    144498\n",
      "weighted avg       0.79      0.79      0.79    144498\n",
      "\n"
     ]
    }
   ],
   "source": [
    "print(\"Accuracy: {:.2f}\".format(accuracy_score(y_train, y_train_predicted_R_forest)))\n",
    "print(classification_report(y_train, y_train_predicted_R_forest))"
   ]
  },
  {
   "cell_type": "markdown",
   "metadata": {},
   "source": [
    "### GridSearch"
   ]
  },
  {
   "cell_type": "code",
   "execution_count": 823,
   "metadata": {},
   "outputs": [],
   "source": [
    "samples_1 = int(round(len(X_train) / 100))\n",
    "samples_10 = int(round(len(X_train) / 10))\n",
    "samples_25 = int(round(len(X_train)/4))\n",
    "\n",
    "param_R_forest = {'classifier__bootstrap': [True, False],\n",
    "                'classifier__max_depth': [ 2, 3, 4],\n",
    "                'classifier__n_estimators': [samples_1, samples_10, samples_25]}\n",
    "\n",
    "\n",
    "\n",
    "grid_R_forest = GridSearchCV(pipe_R_forest, param_grid=param_R_forest, cv=3, scoring='accuracy', \n",
    "                             verbose=5, n_jobs=-1)"
   ]
  },
  {
   "cell_type": "code",
   "execution_count": 824,
   "metadata": {
    "scrolled": true
   },
   "outputs": [
    {
     "name": "stdout",
     "output_type": "stream",
     "text": [
      "Fitting 3 folds for each of 18 candidates, totalling 54 fits\n"
     ]
    },
    {
     "name": "stderr",
     "output_type": "stream",
     "text": [
      "[Parallel(n_jobs=-1)]: Using backend LokyBackend with 4 concurrent workers.\n",
      "[Parallel(n_jobs=-1)]: Done  10 tasks      | elapsed: 23.3min\n"
     ]
    },
    {
     "ename": "KeyboardInterrupt",
     "evalue": "",
     "output_type": "error",
     "traceback": [
      "\u001b[0;31m---------------------------------------------------------------------------\u001b[0m",
      "\u001b[0;31mKeyboardInterrupt\u001b[0m                         Traceback (most recent call last)",
      "\u001b[0;32m<ipython-input-824-55110e2cb04d>\u001b[0m in \u001b[0;36m<module>\u001b[0;34m\u001b[0m\n\u001b[0;32m----> 1\u001b[0;31m \u001b[0mgrid_R_forest\u001b[0m\u001b[0;34m.\u001b[0m\u001b[0mfit\u001b[0m\u001b[0;34m(\u001b[0m\u001b[0mX_train\u001b[0m\u001b[0;34m,\u001b[0m \u001b[0my_train\u001b[0m\u001b[0;34m)\u001b[0m\u001b[0;34m\u001b[0m\u001b[0;34m\u001b[0m\u001b[0m\n\u001b[0m",
      "\u001b[0;32m/opt/anaconda3/envs/nf/lib/python3.6/site-packages/sklearn/model_selection/_search.py\u001b[0m in \u001b[0;36mfit\u001b[0;34m(self, X, y, groups, **fit_params)\u001b[0m\n\u001b[1;32m    708\u001b[0m                 \u001b[0;32mreturn\u001b[0m \u001b[0mresults\u001b[0m\u001b[0;34m\u001b[0m\u001b[0;34m\u001b[0m\u001b[0m\n\u001b[1;32m    709\u001b[0m \u001b[0;34m\u001b[0m\u001b[0m\n\u001b[0;32m--> 710\u001b[0;31m             \u001b[0mself\u001b[0m\u001b[0;34m.\u001b[0m\u001b[0m_run_search\u001b[0m\u001b[0;34m(\u001b[0m\u001b[0mevaluate_candidates\u001b[0m\u001b[0;34m)\u001b[0m\u001b[0;34m\u001b[0m\u001b[0;34m\u001b[0m\u001b[0m\n\u001b[0m\u001b[1;32m    711\u001b[0m \u001b[0;34m\u001b[0m\u001b[0m\n\u001b[1;32m    712\u001b[0m         \u001b[0;31m# For multi-metric evaluation, store the best_index_, best_params_ and\u001b[0m\u001b[0;34m\u001b[0m\u001b[0;34m\u001b[0m\u001b[0;34m\u001b[0m\u001b[0m\n",
      "\u001b[0;32m/opt/anaconda3/envs/nf/lib/python3.6/site-packages/sklearn/model_selection/_search.py\u001b[0m in \u001b[0;36m_run_search\u001b[0;34m(self, evaluate_candidates)\u001b[0m\n\u001b[1;32m   1149\u001b[0m     \u001b[0;32mdef\u001b[0m \u001b[0m_run_search\u001b[0m\u001b[0;34m(\u001b[0m\u001b[0mself\u001b[0m\u001b[0;34m,\u001b[0m \u001b[0mevaluate_candidates\u001b[0m\u001b[0;34m)\u001b[0m\u001b[0;34m:\u001b[0m\u001b[0;34m\u001b[0m\u001b[0;34m\u001b[0m\u001b[0m\n\u001b[1;32m   1150\u001b[0m         \u001b[0;34m\"\"\"Search all candidates in param_grid\"\"\"\u001b[0m\u001b[0;34m\u001b[0m\u001b[0;34m\u001b[0m\u001b[0m\n\u001b[0;32m-> 1151\u001b[0;31m         \u001b[0mevaluate_candidates\u001b[0m\u001b[0;34m(\u001b[0m\u001b[0mParameterGrid\u001b[0m\u001b[0;34m(\u001b[0m\u001b[0mself\u001b[0m\u001b[0;34m.\u001b[0m\u001b[0mparam_grid\u001b[0m\u001b[0;34m)\u001b[0m\u001b[0;34m)\u001b[0m\u001b[0;34m\u001b[0m\u001b[0;34m\u001b[0m\u001b[0m\n\u001b[0m\u001b[1;32m   1152\u001b[0m \u001b[0;34m\u001b[0m\u001b[0m\n\u001b[1;32m   1153\u001b[0m \u001b[0;34m\u001b[0m\u001b[0m\n",
      "\u001b[0;32m/opt/anaconda3/envs/nf/lib/python3.6/site-packages/sklearn/model_selection/_search.py\u001b[0m in \u001b[0;36mevaluate_candidates\u001b[0;34m(candidate_params)\u001b[0m\n\u001b[1;32m    687\u001b[0m                                \u001b[0;32mfor\u001b[0m \u001b[0mparameters\u001b[0m\u001b[0;34m,\u001b[0m \u001b[0;34m(\u001b[0m\u001b[0mtrain\u001b[0m\u001b[0;34m,\u001b[0m \u001b[0mtest\u001b[0m\u001b[0;34m)\u001b[0m\u001b[0;34m\u001b[0m\u001b[0;34m\u001b[0m\u001b[0m\n\u001b[1;32m    688\u001b[0m                                in product(candidate_params,\n\u001b[0;32m--> 689\u001b[0;31m                                           cv.split(X, y, groups)))\n\u001b[0m\u001b[1;32m    690\u001b[0m \u001b[0;34m\u001b[0m\u001b[0m\n\u001b[1;32m    691\u001b[0m                 \u001b[0;32mif\u001b[0m \u001b[0mlen\u001b[0m\u001b[0;34m(\u001b[0m\u001b[0mout\u001b[0m\u001b[0;34m)\u001b[0m \u001b[0;34m<\u001b[0m \u001b[0;36m1\u001b[0m\u001b[0;34m:\u001b[0m\u001b[0;34m\u001b[0m\u001b[0;34m\u001b[0m\u001b[0m\n",
      "\u001b[0;32m/opt/anaconda3/envs/nf/lib/python3.6/site-packages/joblib/parallel.py\u001b[0m in \u001b[0;36m__call__\u001b[0;34m(self, iterable)\u001b[0m\n\u001b[1;32m   1015\u001b[0m \u001b[0;34m\u001b[0m\u001b[0m\n\u001b[1;32m   1016\u001b[0m             \u001b[0;32mwith\u001b[0m \u001b[0mself\u001b[0m\u001b[0;34m.\u001b[0m\u001b[0m_backend\u001b[0m\u001b[0;34m.\u001b[0m\u001b[0mretrieval_context\u001b[0m\u001b[0;34m(\u001b[0m\u001b[0;34m)\u001b[0m\u001b[0;34m:\u001b[0m\u001b[0;34m\u001b[0m\u001b[0;34m\u001b[0m\u001b[0m\n\u001b[0;32m-> 1017\u001b[0;31m                 \u001b[0mself\u001b[0m\u001b[0;34m.\u001b[0m\u001b[0mretrieve\u001b[0m\u001b[0;34m(\u001b[0m\u001b[0;34m)\u001b[0m\u001b[0;34m\u001b[0m\u001b[0;34m\u001b[0m\u001b[0m\n\u001b[0m\u001b[1;32m   1018\u001b[0m             \u001b[0;31m# Make sure that we get a last message telling us we are done\u001b[0m\u001b[0;34m\u001b[0m\u001b[0;34m\u001b[0m\u001b[0;34m\u001b[0m\u001b[0m\n\u001b[1;32m   1019\u001b[0m             \u001b[0melapsed_time\u001b[0m \u001b[0;34m=\u001b[0m \u001b[0mtime\u001b[0m\u001b[0;34m.\u001b[0m\u001b[0mtime\u001b[0m\u001b[0;34m(\u001b[0m\u001b[0;34m)\u001b[0m \u001b[0;34m-\u001b[0m \u001b[0mself\u001b[0m\u001b[0;34m.\u001b[0m\u001b[0m_start_time\u001b[0m\u001b[0;34m\u001b[0m\u001b[0;34m\u001b[0m\u001b[0m\n",
      "\u001b[0;32m/opt/anaconda3/envs/nf/lib/python3.6/site-packages/joblib/parallel.py\u001b[0m in \u001b[0;36mretrieve\u001b[0;34m(self)\u001b[0m\n\u001b[1;32m    907\u001b[0m             \u001b[0;32mtry\u001b[0m\u001b[0;34m:\u001b[0m\u001b[0;34m\u001b[0m\u001b[0;34m\u001b[0m\u001b[0m\n\u001b[1;32m    908\u001b[0m                 \u001b[0;32mif\u001b[0m \u001b[0mgetattr\u001b[0m\u001b[0;34m(\u001b[0m\u001b[0mself\u001b[0m\u001b[0;34m.\u001b[0m\u001b[0m_backend\u001b[0m\u001b[0;34m,\u001b[0m \u001b[0;34m'supports_timeout'\u001b[0m\u001b[0;34m,\u001b[0m \u001b[0;32mFalse\u001b[0m\u001b[0;34m)\u001b[0m\u001b[0;34m:\u001b[0m\u001b[0;34m\u001b[0m\u001b[0;34m\u001b[0m\u001b[0m\n\u001b[0;32m--> 909\u001b[0;31m                     \u001b[0mself\u001b[0m\u001b[0;34m.\u001b[0m\u001b[0m_output\u001b[0m\u001b[0;34m.\u001b[0m\u001b[0mextend\u001b[0m\u001b[0;34m(\u001b[0m\u001b[0mjob\u001b[0m\u001b[0;34m.\u001b[0m\u001b[0mget\u001b[0m\u001b[0;34m(\u001b[0m\u001b[0mtimeout\u001b[0m\u001b[0;34m=\u001b[0m\u001b[0mself\u001b[0m\u001b[0;34m.\u001b[0m\u001b[0mtimeout\u001b[0m\u001b[0;34m)\u001b[0m\u001b[0;34m)\u001b[0m\u001b[0;34m\u001b[0m\u001b[0;34m\u001b[0m\u001b[0m\n\u001b[0m\u001b[1;32m    910\u001b[0m                 \u001b[0;32melse\u001b[0m\u001b[0;34m:\u001b[0m\u001b[0;34m\u001b[0m\u001b[0;34m\u001b[0m\u001b[0m\n\u001b[1;32m    911\u001b[0m                     \u001b[0mself\u001b[0m\u001b[0;34m.\u001b[0m\u001b[0m_output\u001b[0m\u001b[0;34m.\u001b[0m\u001b[0mextend\u001b[0m\u001b[0;34m(\u001b[0m\u001b[0mjob\u001b[0m\u001b[0;34m.\u001b[0m\u001b[0mget\u001b[0m\u001b[0;34m(\u001b[0m\u001b[0;34m)\u001b[0m\u001b[0;34m)\u001b[0m\u001b[0;34m\u001b[0m\u001b[0;34m\u001b[0m\u001b[0m\n",
      "\u001b[0;32m/opt/anaconda3/envs/nf/lib/python3.6/site-packages/joblib/_parallel_backends.py\u001b[0m in \u001b[0;36mwrap_future_result\u001b[0;34m(future, timeout)\u001b[0m\n\u001b[1;32m    560\u001b[0m         AsyncResults.get from multiprocessing.\"\"\"\n\u001b[1;32m    561\u001b[0m         \u001b[0;32mtry\u001b[0m\u001b[0;34m:\u001b[0m\u001b[0;34m\u001b[0m\u001b[0;34m\u001b[0m\u001b[0m\n\u001b[0;32m--> 562\u001b[0;31m             \u001b[0;32mreturn\u001b[0m \u001b[0mfuture\u001b[0m\u001b[0;34m.\u001b[0m\u001b[0mresult\u001b[0m\u001b[0;34m(\u001b[0m\u001b[0mtimeout\u001b[0m\u001b[0;34m=\u001b[0m\u001b[0mtimeout\u001b[0m\u001b[0;34m)\u001b[0m\u001b[0;34m\u001b[0m\u001b[0;34m\u001b[0m\u001b[0m\n\u001b[0m\u001b[1;32m    563\u001b[0m         \u001b[0;32mexcept\u001b[0m \u001b[0mLokyTimeoutError\u001b[0m\u001b[0;34m:\u001b[0m\u001b[0;34m\u001b[0m\u001b[0;34m\u001b[0m\u001b[0m\n\u001b[1;32m    564\u001b[0m             \u001b[0;32mraise\u001b[0m \u001b[0mTimeoutError\u001b[0m\u001b[0;34m(\u001b[0m\u001b[0;34m)\u001b[0m\u001b[0;34m\u001b[0m\u001b[0;34m\u001b[0m\u001b[0m\n",
      "\u001b[0;32m/opt/anaconda3/envs/nf/lib/python3.6/concurrent/futures/_base.py\u001b[0m in \u001b[0;36mresult\u001b[0;34m(self, timeout)\u001b[0m\n\u001b[1;32m    425\u001b[0m                 \u001b[0;32mreturn\u001b[0m \u001b[0mself\u001b[0m\u001b[0;34m.\u001b[0m\u001b[0m__get_result\u001b[0m\u001b[0;34m(\u001b[0m\u001b[0;34m)\u001b[0m\u001b[0;34m\u001b[0m\u001b[0;34m\u001b[0m\u001b[0m\n\u001b[1;32m    426\u001b[0m \u001b[0;34m\u001b[0m\u001b[0m\n\u001b[0;32m--> 427\u001b[0;31m             \u001b[0mself\u001b[0m\u001b[0;34m.\u001b[0m\u001b[0m_condition\u001b[0m\u001b[0;34m.\u001b[0m\u001b[0mwait\u001b[0m\u001b[0;34m(\u001b[0m\u001b[0mtimeout\u001b[0m\u001b[0;34m)\u001b[0m\u001b[0;34m\u001b[0m\u001b[0;34m\u001b[0m\u001b[0m\n\u001b[0m\u001b[1;32m    428\u001b[0m \u001b[0;34m\u001b[0m\u001b[0m\n\u001b[1;32m    429\u001b[0m             \u001b[0;32mif\u001b[0m \u001b[0mself\u001b[0m\u001b[0;34m.\u001b[0m\u001b[0m_state\u001b[0m \u001b[0;32min\u001b[0m \u001b[0;34m[\u001b[0m\u001b[0mCANCELLED\u001b[0m\u001b[0;34m,\u001b[0m \u001b[0mCANCELLED_AND_NOTIFIED\u001b[0m\u001b[0;34m]\u001b[0m\u001b[0;34m:\u001b[0m\u001b[0;34m\u001b[0m\u001b[0;34m\u001b[0m\u001b[0m\n",
      "\u001b[0;32m/opt/anaconda3/envs/nf/lib/python3.6/threading.py\u001b[0m in \u001b[0;36mwait\u001b[0;34m(self, timeout)\u001b[0m\n\u001b[1;32m    293\u001b[0m         \u001b[0;32mtry\u001b[0m\u001b[0;34m:\u001b[0m    \u001b[0;31m# restore state no matter what (e.g., KeyboardInterrupt)\u001b[0m\u001b[0;34m\u001b[0m\u001b[0;34m\u001b[0m\u001b[0m\n\u001b[1;32m    294\u001b[0m             \u001b[0;32mif\u001b[0m \u001b[0mtimeout\u001b[0m \u001b[0;32mis\u001b[0m \u001b[0;32mNone\u001b[0m\u001b[0;34m:\u001b[0m\u001b[0;34m\u001b[0m\u001b[0;34m\u001b[0m\u001b[0m\n\u001b[0;32m--> 295\u001b[0;31m                 \u001b[0mwaiter\u001b[0m\u001b[0;34m.\u001b[0m\u001b[0macquire\u001b[0m\u001b[0;34m(\u001b[0m\u001b[0;34m)\u001b[0m\u001b[0;34m\u001b[0m\u001b[0;34m\u001b[0m\u001b[0m\n\u001b[0m\u001b[1;32m    296\u001b[0m                 \u001b[0mgotit\u001b[0m \u001b[0;34m=\u001b[0m \u001b[0;32mTrue\u001b[0m\u001b[0;34m\u001b[0m\u001b[0;34m\u001b[0m\u001b[0m\n\u001b[1;32m    297\u001b[0m             \u001b[0;32melse\u001b[0m\u001b[0;34m:\u001b[0m\u001b[0;34m\u001b[0m\u001b[0;34m\u001b[0m\u001b[0m\n",
      "\u001b[0;31mKeyboardInterrupt\u001b[0m: "
     ]
    }
   ],
   "source": [
    "grid_R_forest.fit(X_train, y_train)"
   ]
  },
  {
   "cell_type": "code",
   "execution_count": null,
   "metadata": {
    "scrolled": true
   },
   "outputs": [],
   "source": [
    "# Show best parameters\n",
    "print('Best score:\\n{:.2f}'.format(grid_R_forest.best_score_))\n",
    "print(\"Best parameters:\\n{}\".format(grid_R_forest.best_params_))"
   ]
  },
  {
   "cell_type": "markdown",
   "metadata": {},
   "source": [
    "best score and best parameter bevore we remove \"currency_trailing_code\", \"count_id\", \"preparation\", \"act_duration\", \"category_name\"\n",
    "Best score:\n",
    "0.69\n",
    "Best parameters:\n",
    "{'classifier__bootstrap': False, 'classifier__max_depth': 4, 'classifier__n_estimators': 1445}"
   ]
  },
  {
   "cell_type": "code",
   "execution_count": null,
   "metadata": {},
   "outputs": [],
   "source": [
    "best_model2 = grid_R_forest.best_estimator_[\"classifier\"]"
   ]
  },
  {
   "cell_type": "markdown",
   "metadata": {},
   "source": [
    "## AdaBoostClassifier"
   ]
  },
  {
   "cell_type": "code",
   "execution_count": null,
   "metadata": {},
   "outputs": [],
   "source": [
    "pipe_AdaBoost= Pipeline([('preprocessor', preprocessor),\n",
    "                         ('AdaBoost', AdaBoostClassifier(random_state=Rseed, base_estimator=DecisionTreeClassifier()))])"
   ]
  },
  {
   "cell_type": "code",
   "execution_count": null,
   "metadata": {},
   "outputs": [],
   "source": [
    "# Making predictions on the training set using cross validation as well as calculating the probabilities \n",
    "y_train_predicted_AdaBoost = cross_val_predict(pipe_AdaBoost, X_train, y_train, cv=5)"
   ]
  },
  {
   "cell_type": "code",
   "execution_count": null,
   "metadata": {
    "scrolled": true
   },
   "outputs": [],
   "source": [
    "print(\"Accuracy: {:.2f}\".format(accuracy_score(y_train, y_train_predicted_AdaBoost)))\n",
    "print(classification_report(y_train, y_train_predicted_AdaBoost))"
   ]
  },
  {
   "cell_type": "markdown",
   "metadata": {},
   "source": [
    "### GridSearch"
   ]
  },
  {
   "cell_type": "code",
   "execution_count": null,
   "metadata": {
    "scrolled": true
   },
   "outputs": [],
   "source": [
    "param_AdaBoost = {'AdaBoost__n_estimators':[50, 120],                \n",
    "                  'AdaBoost__learning_rate':[0.25, 0.5, 0.75],               \n",
    "                  'AdaBoost__base_estimator__min_samples_split' : np.arange(2, 4, 2),               \n",
    "                  'AdaBoost__base_estimator__max_depth' : np.arange(2, 4, 1)}\n",
    "\n",
    "\n",
    "\n",
    "grid_AdaBoost = GridSearchCV(pipe_AdaBoost, param_grid=param_AdaBoost, cv=3, scoring='accuracy', \n",
    "                            verbose=5, n_jobs=-1).fit(X_train, y_train)"
   ]
  },
  {
   "cell_type": "code",
   "execution_count": null,
   "metadata": {
    "scrolled": true
   },
   "outputs": [],
   "source": [
    "# Show best parameters\n",
    "print('Best score:\\n{:.2f}'.format(grid_AdaBoost.best_score_))\n",
    "print(\"Best parameters:\\n{}\".format(grid_AdaBoost.best_params_))"
   ]
  },
  {
   "cell_type": "markdown",
   "metadata": {},
   "source": [
    "best score and best parameter bevore we remove \"currency_trailing_code\", \"count_id\", \"preparation\", \"act_duration\", \"category_name\"\n",
    "\n",
    "Best score:\n",
    "0.87\n",
    "Best parameters:\n",
    "{'AdaBoost__base_estimator__max_depth': 3, 'AdaBoost__base_estimator__min_samples_split': 2, 'AdaBoost__learning_rate': 0.25, 'AdaBoost__n_estimators': 120}"
   ]
  },
  {
   "cell_type": "code",
   "execution_count": null,
   "metadata": {},
   "outputs": [],
   "source": [
    "# Save best model as best_model\n",
    "best_model3 = grid_AdaBoost.best_estimator_['AdaBoost']"
   ]
  },
  {
   "cell_type": "markdown",
   "metadata": {},
   "source": [
    "## Support Vector Machine "
   ]
  },
  {
   "cell_type": "code",
   "execution_count": null,
   "metadata": {},
   "outputs": [],
   "source": [
    "#pipe_SVM= Pipeline([('preprocessor', preprocessor),\n",
    " #                        ('SVC', SVC(kernel='linear', C=1E10))])"
   ]
  },
  {
   "cell_type": "code",
   "execution_count": null,
   "metadata": {},
   "outputs": [],
   "source": [
    "# Making predictions on the training set using cross validation as well as calculating the probabilities \n",
    "#y_train_predicted_SVM = cross_val_predict(pipe_SVM, X_train, y_train, cv=5)"
   ]
  },
  {
   "cell_type": "code",
   "execution_count": null,
   "metadata": {},
   "outputs": [],
   "source": [
    "#print(\"Accuracy: {:.2f}\".format(accuracy_score(y_train, y_train_predicted_SVM)))\n",
    "#print(classification_report(y_train, y_train_predicted_SVM))"
   ]
  },
  {
   "cell_type": "markdown",
   "metadata": {},
   "source": [
    "### Grid Search"
   ]
  },
  {
   "cell_type": "code",
   "execution_count": null,
   "metadata": {},
   "outputs": [],
   "source": [
    "#param_SVM = {'SVC__C': [5, 10, 15],\n",
    "#            'SVC__gamma': [0.0001, 0.0005, 0.001],\n",
    "#           \"SVC__kernel\": ['rbf', \"linear\"]}"
   ]
  },
  {
   "cell_type": "code",
   "execution_count": null,
   "metadata": {},
   "outputs": [],
   "source": [
    "#grid_SVM = GridSearchCV(pipe_SVM, param_grid=param_SVM, cv=3, scoring='accuracy', \n",
    "#                            verbose=5, n_jobs=-1).fit(X_train, y_train)"
   ]
  },
  {
   "cell_type": "code",
   "execution_count": null,
   "metadata": {},
   "outputs": [],
   "source": [
    "# Show best parameters\n",
    "#print('Best score:\\n{:.2f}'.format(grid_AdaBoost.best_score_))\n",
    "#print(\"Best parameters:\\n{}\".format(grid_AdaBoost.best_params_))"
   ]
  },
  {
   "cell_type": "code",
   "execution_count": null,
   "metadata": {},
   "outputs": [],
   "source": [
    "# Save best model as best_model4\n",
    "#best_model4 = grid_SVM.best_estimator_['SVM']"
   ]
  },
  {
   "cell_type": "markdown",
   "metadata": {},
   "source": [
    "## Final Evaluation"
   ]
  },
  {
   "cell_type": "code",
   "execution_count": 826,
   "metadata": {},
   "outputs": [],
   "source": [
    "# Preparing the test set \n",
    "preprocessor.fit(X_train)\n",
    "X_test_preprocessed = preprocessor.transform(X_test)"
   ]
  },
  {
   "cell_type": "code",
   "execution_count": null,
   "metadata": {
    "scrolled": true
   },
   "outputs": [],
   "source": [
    "X_test_preprocessed"
   ]
  },
  {
   "cell_type": "code",
   "execution_count": null,
   "metadata": {},
   "outputs": [],
   "source": [
    "X_test.columns"
   ]
  },
  {
   "cell_type": "code",
   "execution_count": null,
   "metadata": {
    "scrolled": false
   },
   "outputs": [],
   "source": [
    "# Calculating the accuracy, recall and precision for the test set with the optimized model\n",
    "y_test_predicted_logreg = best_model.predict(X_test_preprocessed)\n",
    "y_test_predicted_R_forest = best_model2.predict(X_test_preprocessed)\n",
    "y_test_predicted_AdaBoost = best_model3.predict(X_test_preprocessed)\n",
    "\n",
    "print(\"Logistic Regression\\n----------\")\n",
    "print(\"Accuracy: {:.2f}\".format(accuracy_score(y_test, y_test_predicted_logreg)))\n",
    "print(classification_report(y_test, y_test_predicted_logreg))\n",
    "\n",
    "print(\"\\nRandom Forest\\n----------\")\n",
    "print(\"Accuracy: {:.2f}\".format(accuracy_score(y_test, y_test_predicted_R_forest)))\n",
    "print(classification_report(y_test, y_test_predicted_R_forest))\n",
    "\n",
    "print(\"\\nAdaBoost Classifier\\n----------\")\n",
    "print(\"Accuracy: {:.2f}\".format(accuracy_score(y_test, y_test_predicted_AdaBoost)))\n",
    "print(classification_report(y_test, y_test_predicted_AdaBoost))\n",
    "\n",
    "#print(\"\\nSupport Vector Mschine\\n----------\")\n",
    "#print(\"Accuracy: {:.2f}\".format(accuracy_score(y_test, y_test_predicted_SVM)))\n",
    "#print(classification_report(y_test, y_test_predicted_SVM))"
   ]
  },
  {
   "cell_type": "markdown",
   "metadata": {},
   "source": [
    "# Data Visualization"
   ]
  },
  {
   "cell_type": "code",
   "execution_count": 827,
   "metadata": {},
   "outputs": [],
   "source": [
    "onehot_columns = list(pipe_logreg.named_steps[\"preprocessor\"].named_transformers_['cat'].named_steps['1hot'].get_feature_names(input_features=cat_features))\n",
    "numeric_features_listasd = list(num_features)\n",
    "numeric_features_listasd.extend(onehot_columns)"
   ]
  },
  {
   "cell_type": "code",
   "execution_count": 828,
   "metadata": {},
   "outputs": [],
   "source": [
    "def feature_plot(importances, X_train, y_train):\n",
    "    \n",
    "    # Display the five most important features\n",
    "    indices = list(np.argsort(importances)[::-1])\n",
    "    #print(indices[:10])\n",
    "    #columns = X_train.columns.values[indices[:9]]\n",
    "    columns = []\n",
    "    for col in indices[:10]:\n",
    "        columns.append(numeric_features_listasd[col])\n",
    "    values = importances[indices][:10]\n",
    "\n",
    "    # Creat the plot\n",
    "    fig = plt.figure(figsize = (13,6))\n",
    "    plt.title(\"Normalized Weights for First Nine Most Predictive Features\", fontsize = 16)\n",
    "    plt.bar(np.arange(10), values, width = 0.6, align=\"center\", color = '#00A000', \\\n",
    "          label = \"Feature Weight\")\n",
    "    plt.bar(np.arange(10) - 0.3, np.cumsum(values), width = 0.2, align = \"center\", color = '#00A0A0', \\\n",
    "          label = \"Cumulative Feature Weight\")\n",
    "    plt.xticks(np.arange(9), columns)\n",
    "    plt.xlim((-0.5, 8.5))\n",
    "    plt.ylabel(\"Weight\", fontsize = 12)\n",
    "    plt.xlabel(\"Feature\", fontsize = 12)\n",
    "    plt.xticks(rotation=45)\n",
    "    \n",
    "    plt.legend(loc = 'upper center')\n",
    "    plt.tight_layout()\n",
    "    plt.show() "
   ]
  },
  {
   "cell_type": "markdown",
   "metadata": {},
   "source": [
    "## Feature Importance "
   ]
  },
  {
   "cell_type": "markdown",
   "metadata": {},
   "source": [
    "### Logistic Regression"
   ]
  },
  {
   "cell_type": "code",
   "execution_count": 829,
   "metadata": {
    "scrolled": false
   },
   "outputs": [
    {
     "data": {
      "image/png": "[encoded data removed]",
      "text/plain": [
       "<Figure size 936x432 with 1 Axes>"
      ]
     },
     "metadata": {},
     "output_type": "display_data"
    }
   ],
   "source": [
    "imp = abs(best_model.coef_[0])\n",
    "feature_importance = (imp / imp.sum())\n",
    "\n",
    "importances = feature_importance\n",
    "# Plot\n",
    "\n",
    "\n",
    "feature_plot(importances, numeric_features_listasd, y_train)\n",
    "\n",
    "\n"
   ]
  },
  {
   "cell_type": "markdown",
   "metadata": {},
   "source": [
    "### Random Forest"
   ]
  },
  {
   "cell_type": "code",
   "execution_count": null,
   "metadata": {
    "scrolled": false
   },
   "outputs": [],
   "source": [
    "importances = best_model2.feature_importances_\n",
    "# Plot\n",
    "feature_plot(importances, X_test_preprocessed, y_train)"
   ]
  },
  {
   "cell_type": "markdown",
   "metadata": {},
   "source": [
    "### AdaBoost Classifier"
   ]
  },
  {
   "cell_type": "code",
   "execution_count": null,
   "metadata": {},
   "outputs": [],
   "source": [
    "importances = best_model3.feature_importances_\n",
    "# Plot\n",
    "feature_plot(importances, X_test_preprocessed, y_train)"
   ]
  },
  {
   "cell_type": "markdown",
   "metadata": {},
   "source": [
    "## Confusion Matrix for our best Model "
   ]
  },
  {
   "cell_type": "code",
   "execution_count": null,
   "metadata": {
    "code_folding": []
   },
   "outputs": [],
   "source": [
    "#Visualizing the confusion matrix for each classifier\n",
    "from sklearn.metrics import confusion_matrix\n",
    "\n",
    "for i,model in enumerate([best_model3]):\n",
    "    cm = confusion_matrix(y_test, y_test_predicted_AdaBoost)\n",
    "    cm = cm.astype('float') / cm.sum(axis=1)[:, np.newaxis] # normalize the data\n",
    "\n",
    "    # view with a heatmap\n",
    "    plt.figure(i)\n",
    "    sns.heatmap(cm, annot=True, annot_kws={\"size\":30}, \n",
    "            cmap='Blues', square=True, fmt='.3f')\n",
    "    plt.ylabel('True label')\n",
    "    plt.xlabel('Predicted label')\n",
    "    plt.title('Confusion matrix for:\\n{}'.format(model.__class__.__name__));"
   ]
  },
  {
   "cell_type": "markdown",
   "metadata": {},
   "source": [
    "# Future Work "
   ]
  },
  {
   "cell_type": "code",
   "execution_count": null,
   "metadata": {},
   "outputs": [],
   "source": []
  }
 ],
 "metadata": {
  "kernelspec": {
   "display_name": "Python [conda env:nf] *",
   "language": "python",
   "name": "conda-env-nf-py"
  },
  "language_info": {
   "codemirror_mode": {
    "name": "ipython",
    "version": 3
   },
   "file_extension": ".py",
   "mimetype": "text/x-python",
   "name": "python",
   "nbconvert_exporter": "python",
   "pygments_lexer": "ipython3",
   "version": "3.6.10"
  },
  "toc": {
   "base_numbering": 1,
   "nav_menu": {},
   "number_sections": true,
   "sideBar": true,
   "skip_h1_title": false,
   "title_cell": "Table of Contents",
   "title_sidebar": "Contents",
   "toc_cell": false,
   "toc_position": {
    "height": "calc(100% - 180px)",
    "left": "10px",
    "top": "150px",
    "width": "275px"
   },
   "toc_section_display": true,
   "toc_window_display": true
  }
 },
 "nbformat": 4,
 "nbformat_minor": 4
}
