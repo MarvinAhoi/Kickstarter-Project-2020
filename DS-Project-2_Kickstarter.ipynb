{
 "cells": [
  {
   "cell_type": "markdown",
   "metadata": {},
   "source": [
    "# DS Project 2: Kickstarter data set  \n",
    "by Sandra Schwegmann & Marvin Lorenzen"
   ]
  },
  {
   "cell_type": "markdown",
   "metadata": {},
   "source": [
    "## Project Goal"
   ]
  },
  {
   "cell_type": "markdown",
   "metadata": {},
   "source": [
    "Business Case:\n",
    "\n",
    "We are a non-profit organization that helps people to find out which probability they have to get funded by kickstarters with their projects and what they can do to improve their chances\n",
    "- So we want to find out which features have an impact wheather a Kickstarter project is succesfull or not.\n",
    "- Form a good model which predicts wether a project will be successful. "
   ]
  },
  {
   "cell_type": "markdown",
   "metadata": {},
   "source": [
    "## Data Describtion"
   ]
  },
  {
   "cell_type": "markdown",
   "metadata": {},
   "source": [
    "        backers_count:              number of supporters for a project\n",
    "        blurb                       teaser sentence\n",
    "        category                    dictonary with entries to te topic \"category\"\n",
    "        converted_pledged_amount:   collected money from backers in US-Dollar\n",
    "        country                     initials from the country in which the project was started \n",
    "        created_at                  Time at which the project was created \n",
    "        creator                     dictonary with informations about the creator\n",
    "        currency                    currency in which the project is specified \n",
    "        currency_symbol             Symbol of the currency \n",
    "        currency_trailing_code      ?\n",
    "        current_currency            currency in which the money is transferred\n",
    "        deadline                    Time at which the project ends \n",
    "        disable_communication       Is there a way to communicate with the creator\n",
    "        friends                     Column with no entries\n",
    "        fx_rate                     Cenversion rate \n",
    "        goal                        target sum\n",
    "        id                          ID for the project\n",
    "        is_backing                  ?\n",
    "        is_starrable                ?\n",
    "        is_starred                  ?\n",
    "        launched_at                 Time at which the project was started \n",
    "        location                    dictonary with entries to te topic \"location\"\n",
    "        name                        name of the project \n",
    "        permissions                 300 non-null object\n",
    "        photo                       dictonary with entries to te topic \"photo\"\n",
    "        pledged                     collected money from backers\n",
    "        profile                     dictonary with entries to te topic \"profile\"\n",
    "        slug                        ?\n",
    "        source_url                  URL from the Kickstarter project \n",
    "        spotlight                   the spotlight-function is an integrated homepage\n",
    "        staff_pick                  tool to connect creators and backers\n",
    "        state                       status of the project\n",
    "        state_changed_at            Time at which the status of project changed\n",
    "        static_usd_rate             factor for conversion in USD\n",
    "        urls                        dictonary with entries to te topic \"URl\"\n",
    "        usd_pledged                 promised money in usd\n",
    "        usd_type                    Where does the money come from "
   ]
  },
  {
   "cell_type": "markdown",
   "metadata": {},
   "source": [
    "# Data Mining"
   ]
  },
  {
   "cell_type": "code",
   "execution_count": 312,
   "metadata": {},
   "outputs": [],
   "source": [
    "# import the required libaries \n",
    "import pandas as pd\n",
    "import glob\n",
    "import numpy as np\n",
    "import operator\n",
    "import seaborn as sns\n",
    "import matplotlib.pyplot as plt\n",
    "from numpy import median\n",
    "from sklearn.model_selection import train_test_split\n",
    "from sklearn.pipeline import Pipeline\n",
    "from sklearn.compose import ColumnTransformer\n",
    "from sklearn.preprocessing import OneHotEncoder, StandardScaler\n",
    "from sklearn.impute import SimpleImputer\n",
    "from sklearn.linear_model import LogisticRegression\n",
    "from sklearn.model_selection import cross_val_predict, cross_val_score, cross_validate\n",
    "from sklearn.metrics import roc_curve, confusion_matrix, accuracy_score, recall_score, precision_score\n",
    "from sklearn.metrics import classification_report, confusion_matrix\n",
    "from sklearn.ensemble import RandomForestClassifier\n",
    "from sklearn.ensemble import AdaBoostClassifier\n",
    "from sklearn.model_selection import GridSearchCV\n",
    "from sklearn.metrics import make_scorer\n",
    "from sklearn.tree import DecisionTreeClassifier\n",
    "from sklearn.svm import SVC\n",
    "import matplotlib.patches as mpatches\n",
    "\n",
    "%matplotlib inline \n",
    "sns.set(style=\"darkgrid\")\n",
    "sns.set_palette=(\"pastel\")\n",
    "\n",
    "Rseed = 42"
   ]
  },
  {
   "cell_type": "code",
   "execution_count": 313,
   "metadata": {},
   "outputs": [],
   "source": [
    "# Read in data: loop over all files\n",
    "path = '/Users/ahoi/nf-may2020/hh-2020-ds1-Project2-Kickstarter/data'\n",
    "filenames = glob.glob(path + \"/*.csv\")\n",
    "comlete_csv =[]\n",
    "\n",
    "for i in filenames:\n",
    "    comlete_csv.append(pd.read_csv(i))\n",
    "    \n",
    "df = pd.concat(comlete_csv, ignore_index = True)\n"
   ]
  },
  {
   "cell_type": "code",
   "execution_count": 314,
   "metadata": {},
   "outputs": [
    {
     "name": "stdout",
     "output_type": "stream",
     "text": [
      "<class 'pandas.core.frame.DataFrame'>\n",
      "RangeIndex: 209222 entries, 0 to 209221\n",
      "Data columns (total 37 columns):\n",
      "backers_count               209222 non-null int64\n",
      "blurb                       209214 non-null object\n",
      "category                    209222 non-null object\n",
      "converted_pledged_amount    209222 non-null int64\n",
      "country                     209222 non-null object\n",
      "created_at                  209222 non-null int64\n",
      "creator                     209222 non-null object\n",
      "currency                    209222 non-null object\n",
      "currency_symbol             209222 non-null object\n",
      "currency_trailing_code      209222 non-null bool\n",
      "current_currency            209222 non-null object\n",
      "deadline                    209222 non-null int64\n",
      "disable_communication       209222 non-null bool\n",
      "friends                     300 non-null object\n",
      "fx_rate                     209222 non-null float64\n",
      "goal                        209222 non-null float64\n",
      "id                          209222 non-null int64\n",
      "is_backing                  300 non-null object\n",
      "is_starrable                209222 non-null bool\n",
      "is_starred                  300 non-null object\n",
      "launched_at                 209222 non-null int64\n",
      "location                    208996 non-null object\n",
      "name                        209222 non-null object\n",
      "permissions                 300 non-null object\n",
      "photo                       209222 non-null object\n",
      "pledged                     209222 non-null float64\n",
      "profile                     209222 non-null object\n",
      "slug                        209222 non-null object\n",
      "source_url                  209222 non-null object\n",
      "spotlight                   209222 non-null bool\n",
      "staff_pick                  209222 non-null bool\n",
      "state                       209222 non-null object\n",
      "state_changed_at            209222 non-null int64\n",
      "static_usd_rate             209222 non-null float64\n",
      "urls                        209222 non-null object\n",
      "usd_pledged                 209222 non-null float64\n",
      "usd_type                    208742 non-null object\n",
      "dtypes: bool(5), float64(5), int64(7), object(20)\n",
      "memory usage: 52.1+ MB\n"
     ]
    }
   ],
   "source": [
    "df.info()"
   ]
  },
  {
   "cell_type": "code",
   "execution_count": 315,
   "metadata": {},
   "outputs": [
    {
     "data": {
      "text/html": [
       "<div>\n",
       "<style scoped>\n",
       "    .dataframe tbody tr th:only-of-type {\n",
       "        vertical-align: middle;\n",
       "    }\n",
       "\n",
       "    .dataframe tbody tr th {\n",
       "        vertical-align: top;\n",
       "    }\n",
       "\n",
       "    .dataframe thead th {\n",
       "        text-align: right;\n",
       "    }\n",
       "</style>\n",
       "<table border=\"1\" class=\"dataframe\">\n",
       "  <thead>\n",
       "    <tr style=\"text-align: right;\">\n",
       "      <th></th>\n",
       "      <th>backers_count</th>\n",
       "      <th>blurb</th>\n",
       "      <th>category</th>\n",
       "      <th>converted_pledged_amount</th>\n",
       "      <th>country</th>\n",
       "      <th>created_at</th>\n",
       "      <th>creator</th>\n",
       "      <th>currency</th>\n",
       "      <th>currency_symbol</th>\n",
       "      <th>currency_trailing_code</th>\n",
       "      <th>...</th>\n",
       "      <th>slug</th>\n",
       "      <th>source_url</th>\n",
       "      <th>spotlight</th>\n",
       "      <th>staff_pick</th>\n",
       "      <th>state</th>\n",
       "      <th>state_changed_at</th>\n",
       "      <th>static_usd_rate</th>\n",
       "      <th>urls</th>\n",
       "      <th>usd_pledged</th>\n",
       "      <th>usd_type</th>\n",
       "    </tr>\n",
       "  </thead>\n",
       "  <tbody>\n",
       "    <tr>\n",
       "      <th>0</th>\n",
       "      <td>315</td>\n",
       "      <td>Babalus Shoes</td>\n",
       "      <td>{\"id\":266,\"name\":\"Footwear\",\"slug\":\"fashion/fo...</td>\n",
       "      <td>28645</td>\n",
       "      <td>US</td>\n",
       "      <td>1541459205</td>\n",
       "      <td>{\"id\":2094277840,\"name\":\"Lucy Conroy\",\"slug\":\"...</td>\n",
       "      <td>USD</td>\n",
       "      <td>$</td>\n",
       "      <td>True</td>\n",
       "      <td>...</td>\n",
       "      <td>babalus-childrens-shoes</td>\n",
       "      <td>https://www.kickstarter.com/discover/categorie...</td>\n",
       "      <td>False</td>\n",
       "      <td>False</td>\n",
       "      <td>live</td>\n",
       "      <td>1548223375</td>\n",
       "      <td>1.0</td>\n",
       "      <td>{\"web\":{\"project\":\"https://www.kickstarter.com...</td>\n",
       "      <td>28645.0</td>\n",
       "      <td>international</td>\n",
       "    </tr>\n",
       "    <tr>\n",
       "      <th>1</th>\n",
       "      <td>47</td>\n",
       "      <td>A colorful Dia de los Muertos themed oracle de...</td>\n",
       "      <td>{\"id\":273,\"name\":\"Playing Cards\",\"slug\":\"games...</td>\n",
       "      <td>1950</td>\n",
       "      <td>US</td>\n",
       "      <td>1501684093</td>\n",
       "      <td>{\"id\":723886115,\"name\":\"Lisa Vollrath\",\"slug\":...</td>\n",
       "      <td>USD</td>\n",
       "      <td>$</td>\n",
       "      <td>True</td>\n",
       "      <td>...</td>\n",
       "      <td>the-ofrenda-oracle-deck</td>\n",
       "      <td>https://www.kickstarter.com/discover/categorie...</td>\n",
       "      <td>True</td>\n",
       "      <td>False</td>\n",
       "      <td>successful</td>\n",
       "      <td>1504976459</td>\n",
       "      <td>1.0</td>\n",
       "      <td>{\"web\":{\"project\":\"https://www.kickstarter.com...</td>\n",
       "      <td>1950.0</td>\n",
       "      <td>domestic</td>\n",
       "    </tr>\n",
       "  </tbody>\n",
       "</table>\n",
       "<p>2 rows × 37 columns</p>\n",
       "</div>"
      ],
      "text/plain": [
       "   backers_count                                              blurb  \\\n",
       "0            315                                      Babalus Shoes   \n",
       "1             47  A colorful Dia de los Muertos themed oracle de...   \n",
       "\n",
       "                                            category  \\\n",
       "0  {\"id\":266,\"name\":\"Footwear\",\"slug\":\"fashion/fo...   \n",
       "1  {\"id\":273,\"name\":\"Playing Cards\",\"slug\":\"games...   \n",
       "\n",
       "   converted_pledged_amount country  created_at  \\\n",
       "0                     28645      US  1541459205   \n",
       "1                      1950      US  1501684093   \n",
       "\n",
       "                                             creator currency currency_symbol  \\\n",
       "0  {\"id\":2094277840,\"name\":\"Lucy Conroy\",\"slug\":\"...      USD               $   \n",
       "1  {\"id\":723886115,\"name\":\"Lisa Vollrath\",\"slug\":...      USD               $   \n",
       "\n",
       "   currency_trailing_code  ...                     slug  \\\n",
       "0                    True  ...  babalus-childrens-shoes   \n",
       "1                    True  ...  the-ofrenda-oracle-deck   \n",
       "\n",
       "                                          source_url  spotlight staff_pick  \\\n",
       "0  https://www.kickstarter.com/discover/categorie...      False      False   \n",
       "1  https://www.kickstarter.com/discover/categorie...       True      False   \n",
       "\n",
       "        state  state_changed_at  static_usd_rate  \\\n",
       "0        live        1548223375              1.0   \n",
       "1  successful        1504976459              1.0   \n",
       "\n",
       "                                                urls  usd_pledged  \\\n",
       "0  {\"web\":{\"project\":\"https://www.kickstarter.com...      28645.0   \n",
       "1  {\"web\":{\"project\":\"https://www.kickstarter.com...       1950.0   \n",
       "\n",
       "        usd_type  \n",
       "0  international  \n",
       "1       domestic  \n",
       "\n",
       "[2 rows x 37 columns]"
      ]
     },
     "execution_count": 315,
     "metadata": {},
     "output_type": "execute_result"
    }
   ],
   "source": [
    "df.head(2)"
   ]
  },
  {
   "cell_type": "code",
   "execution_count": 316,
   "metadata": {},
   "outputs": [],
   "source": [
    "# clean data from empty spaces, line breaks, etc.\n",
    "dict_list1 = ['location','profile','creator']\n",
    "for names in dict_list1:\n",
    "    df[names] = df[names].str.replace(':null,',':None,')\n",
    "    df[names] = df[names].str.replace(':false,',':False,')\n",
    "    df[names] = df[names].str.replace(':true',':True')\n",
    "    df[names] = df[names].str.replace('\\n', '')\n",
    "    df[names] = df[names].str.replace('\\t', '')"
   ]
  },
  {
   "cell_type": "code",
   "execution_count": 317,
   "metadata": {},
   "outputs": [],
   "source": [
    "# get fom creator ids -> remaining parts are ignored\n",
    "# First separate creator elements\n",
    "new2 = df[\"creator\"].str.replace(\", \", \"_\").str.split(\",\", n = 8, expand = True)\n",
    "# now pick first column in new2 and split at :\n",
    "test = new2[0].str.split(\":\")\n",
    "# pick 2. column in test (where ids are written in)\n",
    "test2 = list(map(operator.itemgetter(1), test))\n",
    "# and make a new column in df with ids\n",
    "df[\"creator_id\"]=pd.Series(test2)\n",
    "# convert ids to numeric values\n",
    "df[\"creator_id\"] = pd.to_numeric(df[\"creator_id\"])"
   ]
  },
  {
   "cell_type": "code",
   "execution_count": 318,
   "metadata": {},
   "outputs": [],
   "source": [
    "# prepare profile data\n",
    "# First separate creator elements\n",
    "new  = df[\"profile\"].str.replace(',\" ', '_\" ')\n",
    "new  = df[\"profile\"].str.replace(',\"', ';;\"')\n",
    "new2 = new.str.split(\";;\", n = 16, expand = True)\n",
    "# now drop column 4:\n",
    "#new3 = new2.drop(4, axis =1)\n",
    "# change blurb to has or has no blurb\n",
    "new2[5][new2[5]!='\"blurb\":\"none\"'] = '\"blurb\":\"1\"' #0 if new3[5]== \"none\" else 1\n",
    "new2[5][new2[5]=='\"blurb\":\"none\"'] = '\"blurb\":\"0\"' #0 if new3[5]== \"none\" else 1\n",
    "# change link_text to has or has not\n",
    "#new3[10][new3[10]!='\"link_text\":\"none\"'] = '\"link_text\":\"1\"' #0 if new3[5]== \"none\" else 1\n",
    "#new3[10][new3[10]=='\"link_text\":\"none\"'] = '\"link_text\":\"0\"' #0 if new3[5]== \"none\" else 1\n",
    "\n",
    "new2[17]='\"dummy\":\"dummy\"}'\n",
    "# pick columns of interest: \n",
    "new2[\"profile\"]= new2[[0,1,2,3,5,17]].apply(lambda x: ','.join(x), axis=1)\n",
    "# write data in df\n",
    "df[\"profile_test\"] =new2[\"profile\"]"
   ]
  },
  {
   "cell_type": "code",
   "execution_count": 319,
   "metadata": {},
   "outputs": [
    {
     "data": {
      "text/plain": [
       "'{\"id\":3508024,\"project_id\":3508024,\"state\":\"inactive\",\"state_changed_at\":1541459205,\"blurb\":\"1\",\"dummy\":\"dummy\"}'"
      ]
     },
     "execution_count": 319,
     "metadata": {},
     "output_type": "execute_result"
    }
   ],
   "source": [
    "df[\"profile_test\"][0]"
   ]
  },
  {
   "cell_type": "code",
   "execution_count": 320,
   "metadata": {},
   "outputs": [
    {
     "data": {
      "text/plain": [
       "'{\"id\":3281282,\"project_id\":3281282,\"state\":\"active\",\"state_changed_at\":1523592275,\"name\":\"Secret 2.0: The World\\'s FIRST, REAL NO-SHOW SOCK by Sheec.\",\"blurb\":\"With over 1,000 backers on Kickstarter & Indiegogo, the SoleHugger Secret 2.0 is now fully available on Sheecs.com!\",\"background_color\":\"\",\"text_color\":\"\",\"link_background_color\":\"\",\"link_text_color\":\"\",\"link_text\":\"BUY NOW !\",\"link_url\":\"http://bit.ly/2y73R8J\",\"show_feature_image\":True,\"background_image_opacity\":0.8,\"feature_image_attributes\":{\"id\":21593580,\"image_urls\":{\"default\":\"https://ksr-ugc.imgix.net/assets/021/593/580/3794f72b493f964edfde4b8620011789_original.jpg?ixlib=rb-1.1.0&w=700&fit=max&v=1529077865&auto=format&frame=1&q=92&s=bb3a91cf05e42ff63f7c72ee59731821\",\"baseball_card\":\"https://ksr-ugc.imgix.net/assets/021/593/580/3794f72b493f964edfde4b8620011789_original.jpg?ixlib=rb-1.1.0&crop=faces%2Cedges&w=560&h=315&fit=crop&v=1529077865&auto=format&frame=1&q=92&s=a0e8b1ef7ab78689a909cc6eac86cb50\"}},\"should_show_feature_image_section\":True}'"
      ]
     },
     "execution_count": 320,
     "metadata": {},
     "output_type": "execute_result"
    }
   ],
   "source": [
    "#new3[new3[6].str.contains(\"Kickstarter & Indiegogo_the SoleHugger Secret 2.0\")]\n",
    "df.profile[119063]"
   ]
  },
  {
   "cell_type": "code",
   "execution_count": 321,
   "metadata": {},
   "outputs": [
    {
     "data": {
      "text/plain": [
       "0    {\"id\":3508024,\"project_id\":3508024,\"state\":\"in...\n",
       "1    {\"id\":3094785,\"project_id\":3094785,\"state\":\"ac...\n",
       "2    {\"id\":359847,\"project_id\":359847,\"state\":\"inac...\n",
       "3    {\"id\":2825329,\"project_id\":2825329,\"state\":\"in...\n",
       "4    {\"id\":417385,\"project_id\":417385,\"state\":\"inac...\n",
       "Name: profile, dtype: object"
      ]
     },
     "execution_count": 321,
     "metadata": {},
     "output_type": "execute_result"
    }
   ],
   "source": [
    "df.profile.head()"
   ]
  },
  {
   "cell_type": "code",
   "execution_count": 322,
   "metadata": {},
   "outputs": [
    {
     "name": "stderr",
     "output_type": "stream",
     "text": [
      "/opt/anaconda3/envs/nf/lib/python3.6/site-packages/ipykernel_launcher.py:6: SettingWithCopyWarning: \n",
      "A value is trying to be set on a copy of a slice from a DataFrame\n",
      "\n",
      "See the caveats in the documentation: http://pandas.pydata.org/pandas-docs/stable/indexing.html#indexing-view-versus-copy\n",
      "  \n"
     ]
    }
   ],
   "source": [
    "# prepare location data\n",
    "# dummy for NaN entries\n",
    "location_dummy= '{\"id\":\"\",\"name\":\"\",\"slug\":\"\",\"short_name\":\"\",\"displayable_name\":\"\",\"localized_name\":\"\",\\\n",
    "                \"country\":\"\",\"state\":\"\",\"type\":\"\",\"is_root\":None,\"urls\":{}}'\n",
    "#replace NaNs with dummy\n",
    "df.location[df.location.isnull()] = location_dummy"
   ]
  },
  {
   "cell_type": "code",
   "execution_count": 323,
   "metadata": {},
   "outputs": [
    {
     "name": "stdout",
     "output_type": "stream",
     "text": [
      "profile_test\n",
      "category\n",
      "location\n"
     ]
    }
   ],
   "source": [
    "# extraction of data dictonaries in 'category','location'\n",
    "dict_list = ['profile_test', 'category','location'] #, null false true\n",
    "\n",
    "for names in dict_list:\n",
    "    print(names)\n",
    "    new_name     = names+'new'\n",
    "    suffix       = names+'_'\n",
    "    df[new_name] = df[names].apply(eval)\n",
    "    test         = df[new_name].apply(pd.Series)\n",
    "    test         = test.add_prefix(suffix)\n",
    "    df           = pd.concat([df,test],axis=1)  \n",
    "    \n",
    "#df['categoryNew']= df.category.apply(eval)\n",
    "#test = df[\"categoryNew\"].apply(pd.Series)\n",
    "#test = test.add_prefix('category_')\n",
    "#df = pd.concat([df,test],axis=1)   "
   ]
  },
  {
   "cell_type": "code",
   "execution_count": 324,
   "metadata": {},
   "outputs": [
    {
     "data": {
      "text/html": [
       "<div>\n",
       "<style scoped>\n",
       "    .dataframe tbody tr th:only-of-type {\n",
       "        vertical-align: middle;\n",
       "    }\n",
       "\n",
       "    .dataframe tbody tr th {\n",
       "        vertical-align: top;\n",
       "    }\n",
       "\n",
       "    .dataframe thead th {\n",
       "        text-align: right;\n",
       "    }\n",
       "</style>\n",
       "<table border=\"1\" class=\"dataframe\">\n",
       "  <thead>\n",
       "    <tr style=\"text-align: right;\">\n",
       "      <th></th>\n",
       "      <th>backers_count</th>\n",
       "      <th>blurb</th>\n",
       "      <th>category</th>\n",
       "      <th>converted_pledged_amount</th>\n",
       "      <th>country</th>\n",
       "      <th>created_at</th>\n",
       "      <th>creator</th>\n",
       "      <th>currency</th>\n",
       "      <th>currency_symbol</th>\n",
       "      <th>currency_trailing_code</th>\n",
       "      <th>...</th>\n",
       "      <th>location_name</th>\n",
       "      <th>location_slug</th>\n",
       "      <th>location_short_name</th>\n",
       "      <th>location_displayable_name</th>\n",
       "      <th>location_localized_name</th>\n",
       "      <th>location_country</th>\n",
       "      <th>location_state</th>\n",
       "      <th>location_type</th>\n",
       "      <th>location_is_root</th>\n",
       "      <th>location_urls</th>\n",
       "    </tr>\n",
       "  </thead>\n",
       "  <tbody>\n",
       "    <tr>\n",
       "      <th>0</th>\n",
       "      <td>315</td>\n",
       "      <td>Babalus Shoes</td>\n",
       "      <td>{\"id\":266,\"name\":\"Footwear\",\"slug\":\"fashion/fo...</td>\n",
       "      <td>28645</td>\n",
       "      <td>US</td>\n",
       "      <td>1541459205</td>\n",
       "      <td>{\"id\":2094277840,\"name\":\"Lucy Conroy\",\"slug\":\"...</td>\n",
       "      <td>USD</td>\n",
       "      <td>$</td>\n",
       "      <td>True</td>\n",
       "      <td>...</td>\n",
       "      <td>Novato</td>\n",
       "      <td>novato-ca</td>\n",
       "      <td>Novato, CA</td>\n",
       "      <td>Novato, CA</td>\n",
       "      <td>Novato</td>\n",
       "      <td>US</td>\n",
       "      <td>CA</td>\n",
       "      <td>Town</td>\n",
       "      <td>False</td>\n",
       "      <td>{'web': {'discover': 'https://www.kickstarter....</td>\n",
       "    </tr>\n",
       "    <tr>\n",
       "      <th>1</th>\n",
       "      <td>47</td>\n",
       "      <td>A colorful Dia de los Muertos themed oracle de...</td>\n",
       "      <td>{\"id\":273,\"name\":\"Playing Cards\",\"slug\":\"games...</td>\n",
       "      <td>1950</td>\n",
       "      <td>US</td>\n",
       "      <td>1501684093</td>\n",
       "      <td>{\"id\":723886115,\"name\":\"Lisa Vollrath\",\"slug\":...</td>\n",
       "      <td>USD</td>\n",
       "      <td>$</td>\n",
       "      <td>True</td>\n",
       "      <td>...</td>\n",
       "      <td>Euless</td>\n",
       "      <td>euless-tx</td>\n",
       "      <td>Euless, TX</td>\n",
       "      <td>Euless, TX</td>\n",
       "      <td>Euless</td>\n",
       "      <td>US</td>\n",
       "      <td>TX</td>\n",
       "      <td>Town</td>\n",
       "      <td>False</td>\n",
       "      <td>{'web': {'discover': 'https://www.kickstarter....</td>\n",
       "    </tr>\n",
       "    <tr>\n",
       "      <th>2</th>\n",
       "      <td>271</td>\n",
       "      <td>Electra's long awaited, eclectic Debut Pop/Roc...</td>\n",
       "      <td>{\"id\":43,\"name\":\"Rock\",\"slug\":\"music/rock\",\"po...</td>\n",
       "      <td>22404</td>\n",
       "      <td>US</td>\n",
       "      <td>1348987533</td>\n",
       "      <td>{\"id\":323849677,\"name\":\"Electra\",\"is_registere...</td>\n",
       "      <td>USD</td>\n",
       "      <td>$</td>\n",
       "      <td>True</td>\n",
       "      <td>...</td>\n",
       "      <td>Hollywood</td>\n",
       "      <td>hollywood-los-angeles-ca</td>\n",
       "      <td>Hollywood, CA</td>\n",
       "      <td>Hollywood, Los Angeles, CA</td>\n",
       "      <td>Hollywood</td>\n",
       "      <td>US</td>\n",
       "      <td>CA</td>\n",
       "      <td>Suburb</td>\n",
       "      <td>False</td>\n",
       "      <td>{'web': {'discover': 'https://www.kickstarter....</td>\n",
       "    </tr>\n",
       "    <tr>\n",
       "      <th>3</th>\n",
       "      <td>3</td>\n",
       "      <td>The Mist of Tribunal is a turn-based card game...</td>\n",
       "      <td>{\"id\":273,\"name\":\"Playing Cards\",\"slug\":\"games...</td>\n",
       "      <td>165</td>\n",
       "      <td>GB</td>\n",
       "      <td>1483780271</td>\n",
       "      <td>{\"id\":196281496,\"name\":\"Artur Ordijanc (delete...</td>\n",
       "      <td>GBP</td>\n",
       "      <td>£</td>\n",
       "      <td>False</td>\n",
       "      <td>...</td>\n",
       "      <td>Kaunas</td>\n",
       "      <td>kaunas-kaunas-lt</td>\n",
       "      <td>Kaunas, Lithuania</td>\n",
       "      <td>Kaunas, Lithuania</td>\n",
       "      <td>Kaunas</td>\n",
       "      <td>LT</td>\n",
       "      <td>Kaunas County</td>\n",
       "      <td>Town</td>\n",
       "      <td>False</td>\n",
       "      <td>{'web': {'discover': 'https://www.kickstarter....</td>\n",
       "    </tr>\n",
       "    <tr>\n",
       "      <th>4</th>\n",
       "      <td>3</td>\n",
       "      <td>Livng with a brain impairment, what its like t...</td>\n",
       "      <td>{\"id\":48,\"name\":\"Nonfiction\",\"slug\":\"publishin...</td>\n",
       "      <td>2820</td>\n",
       "      <td>US</td>\n",
       "      <td>1354817071</td>\n",
       "      <td>{\"id\":1178460181,\"name\":\"Dawn Johnston\",\"is_re...</td>\n",
       "      <td>USD</td>\n",
       "      <td>$</td>\n",
       "      <td>True</td>\n",
       "      <td>...</td>\n",
       "      <td>Traverse City</td>\n",
       "      <td>traverse-city-mi</td>\n",
       "      <td>Traverse City, MI</td>\n",
       "      <td>Traverse City, MI</td>\n",
       "      <td>Traverse City</td>\n",
       "      <td>US</td>\n",
       "      <td>MI</td>\n",
       "      <td>Town</td>\n",
       "      <td>False</td>\n",
       "      <td>{'web': {'discover': 'https://www.kickstarter....</td>\n",
       "    </tr>\n",
       "  </tbody>\n",
       "</table>\n",
       "<p>5 rows × 66 columns</p>\n",
       "</div>"
      ],
      "text/plain": [
       "   backers_count                                              blurb  \\\n",
       "0            315                                      Babalus Shoes   \n",
       "1             47  A colorful Dia de los Muertos themed oracle de...   \n",
       "2            271  Electra's long awaited, eclectic Debut Pop/Roc...   \n",
       "3              3  The Mist of Tribunal is a turn-based card game...   \n",
       "4              3  Livng with a brain impairment, what its like t...   \n",
       "\n",
       "                                            category  \\\n",
       "0  {\"id\":266,\"name\":\"Footwear\",\"slug\":\"fashion/fo...   \n",
       "1  {\"id\":273,\"name\":\"Playing Cards\",\"slug\":\"games...   \n",
       "2  {\"id\":43,\"name\":\"Rock\",\"slug\":\"music/rock\",\"po...   \n",
       "3  {\"id\":273,\"name\":\"Playing Cards\",\"slug\":\"games...   \n",
       "4  {\"id\":48,\"name\":\"Nonfiction\",\"slug\":\"publishin...   \n",
       "\n",
       "   converted_pledged_amount country  created_at  \\\n",
       "0                     28645      US  1541459205   \n",
       "1                      1950      US  1501684093   \n",
       "2                     22404      US  1348987533   \n",
       "3                       165      GB  1483780271   \n",
       "4                      2820      US  1354817071   \n",
       "\n",
       "                                             creator currency currency_symbol  \\\n",
       "0  {\"id\":2094277840,\"name\":\"Lucy Conroy\",\"slug\":\"...      USD               $   \n",
       "1  {\"id\":723886115,\"name\":\"Lisa Vollrath\",\"slug\":...      USD               $   \n",
       "2  {\"id\":323849677,\"name\":\"Electra\",\"is_registere...      USD               $   \n",
       "3  {\"id\":196281496,\"name\":\"Artur Ordijanc (delete...      GBP               £   \n",
       "4  {\"id\":1178460181,\"name\":\"Dawn Johnston\",\"is_re...      USD               $   \n",
       "\n",
       "   currency_trailing_code  ...  location_name             location_slug  \\\n",
       "0                    True  ...         Novato                 novato-ca   \n",
       "1                    True  ...         Euless                 euless-tx   \n",
       "2                    True  ...      Hollywood  hollywood-los-angeles-ca   \n",
       "3                   False  ...         Kaunas          kaunas-kaunas-lt   \n",
       "4                    True  ...  Traverse City          traverse-city-mi   \n",
       "\n",
       "   location_short_name   location_displayable_name  location_localized_name  \\\n",
       "0           Novato, CA                  Novato, CA                   Novato   \n",
       "1           Euless, TX                  Euless, TX                   Euless   \n",
       "2        Hollywood, CA  Hollywood, Los Angeles, CA                Hollywood   \n",
       "3    Kaunas, Lithuania           Kaunas, Lithuania                   Kaunas   \n",
       "4    Traverse City, MI           Traverse City, MI            Traverse City   \n",
       "\n",
       "   location_country  location_state location_type  location_is_root  \\\n",
       "0                US              CA          Town             False   \n",
       "1                US              TX          Town             False   \n",
       "2                US              CA        Suburb             False   \n",
       "3                LT   Kaunas County          Town             False   \n",
       "4                US              MI          Town             False   \n",
       "\n",
       "                                       location_urls  \n",
       "0  {'web': {'discover': 'https://www.kickstarter....  \n",
       "1  {'web': {'discover': 'https://www.kickstarter....  \n",
       "2  {'web': {'discover': 'https://www.kickstarter....  \n",
       "3  {'web': {'discover': 'https://www.kickstarter....  \n",
       "4  {'web': {'discover': 'https://www.kickstarter....  \n",
       "\n",
       "[5 rows x 66 columns]"
      ]
     },
     "execution_count": 324,
     "metadata": {},
     "output_type": "execute_result"
    }
   ],
   "source": [
    "df.head()"
   ]
  },
  {
   "cell_type": "markdown",
   "metadata": {},
   "source": [
    "## General Overview"
   ]
  },
  {
   "cell_type": "code",
   "execution_count": 325,
   "metadata": {},
   "outputs": [],
   "source": [
    "# Copy the DataFrame to keep the original data \n",
    "df2 = pd.DataFrame.copy(df)"
   ]
  },
  {
   "cell_type": "code",
   "execution_count": 326,
   "metadata": {},
   "outputs": [
    {
     "name": "stdout",
     "output_type": "stream",
     "text": [
      "<class 'pandas.core.frame.DataFrame'>\n",
      "RangeIndex: 209222 entries, 0 to 209221\n",
      "Data columns (total 66 columns):\n",
      "backers_count                    209222 non-null int64\n",
      "blurb                            209214 non-null object\n",
      "category                         209222 non-null object\n",
      "converted_pledged_amount         209222 non-null int64\n",
      "country                          209222 non-null object\n",
      "created_at                       209222 non-null int64\n",
      "creator                          209222 non-null object\n",
      "currency                         209222 non-null object\n",
      "currency_symbol                  209222 non-null object\n",
      "currency_trailing_code           209222 non-null bool\n",
      "current_currency                 209222 non-null object\n",
      "deadline                         209222 non-null int64\n",
      "disable_communication            209222 non-null bool\n",
      "friends                          300 non-null object\n",
      "fx_rate                          209222 non-null float64\n",
      "goal                             209222 non-null float64\n",
      "id                               209222 non-null int64\n",
      "is_backing                       300 non-null object\n",
      "is_starrable                     209222 non-null bool\n",
      "is_starred                       300 non-null object\n",
      "launched_at                      209222 non-null int64\n",
      "location                         209222 non-null object\n",
      "name                             209222 non-null object\n",
      "permissions                      300 non-null object\n",
      "photo                            209222 non-null object\n",
      "pledged                          209222 non-null float64\n",
      "profile                          209222 non-null object\n",
      "slug                             209222 non-null object\n",
      "source_url                       209222 non-null object\n",
      "spotlight                        209222 non-null bool\n",
      "staff_pick                       209222 non-null bool\n",
      "state                            209222 non-null object\n",
      "state_changed_at                 209222 non-null int64\n",
      "static_usd_rate                  209222 non-null float64\n",
      "urls                             209222 non-null object\n",
      "usd_pledged                      209222 non-null float64\n",
      "usd_type                         208742 non-null object\n",
      "creator_id                       209222 non-null int64\n",
      "profile_test                     209222 non-null object\n",
      "profile_testnew                  209222 non-null object\n",
      "profile_test_id                  209222 non-null int64\n",
      "profile_test_project_id          209222 non-null int64\n",
      "profile_test_state               209222 non-null object\n",
      "profile_test_state_changed_at    209222 non-null int64\n",
      "profile_test_blurb               209222 non-null object\n",
      "profile_test_dummy               209222 non-null object\n",
      "categorynew                      209222 non-null object\n",
      "category_id                      209222 non-null int64\n",
      "category_name                    209222 non-null object\n",
      "category_slug                    209222 non-null object\n",
      "category_position                209222 non-null int64\n",
      "category_parent_id               200181 non-null float64\n",
      "category_color                   209222 non-null int64\n",
      "category_urls                    209222 non-null object\n",
      "locationnew                      209222 non-null object\n",
      "location_id                      209222 non-null object\n",
      "location_name                    209222 non-null object\n",
      "location_slug                    208725 non-null object\n",
      "location_short_name              209222 non-null object\n",
      "location_displayable_name        209222 non-null object\n",
      "location_localized_name          209222 non-null object\n",
      "location_country                 209222 non-null object\n",
      "location_state                   209159 non-null object\n",
      "location_type                    209222 non-null object\n",
      "location_is_root                 208996 non-null object\n",
      "location_urls                    209222 non-null object\n",
      "dtypes: bool(5), float64(6), int64(14), object(41)\n",
      "memory usage: 98.4+ MB\n"
     ]
    }
   ],
   "source": [
    "df2.info()"
   ]
  },
  {
   "cell_type": "markdown",
   "metadata": {},
   "source": [
    "### drop unimportant columns"
   ]
  },
  {
   "cell_type": "code",
   "execution_count": 327,
   "metadata": {
    "code_folding": [],
    "scrolled": true
   },
   "outputs": [],
   "source": [
    "#drop first columns, which have no explanatory content at the first view\n",
    "df2.drop([\"category\", \"creator\", \"location\", \"profile\", \"slug\", \"profile_test\",\n",
    "         \"profile_testnew\", \"profile_test_state_changed_at\", \"profile_test_blurb\", \n",
    "         \"profile_test_dummy\", \"categorynew\", \"category_id\", \"category_urls\", \n",
    "         \"locationnew\", \"location_id\", \"location_slug\", \"location_short_name\", \"location_displayable_name\",\n",
    "         \"location_state\", \"location_is_root\", \"location_urls\", 'photo','friends',\n",
    "         'permissions','currency_symbol', 'source_url', \"urls\"\n",
    "         ],axis=1, inplace=True)"
   ]
  },
  {
   "cell_type": "code",
   "execution_count": 328,
   "metadata": {},
   "outputs": [
    {
     "data": {
      "text/plain": [
       "Index(['backers_count', 'blurb', 'converted_pledged_amount', 'country',\n",
       "       'created_at', 'currency', 'currency_trailing_code', 'current_currency',\n",
       "       'deadline', 'disable_communication', 'fx_rate', 'goal', 'id',\n",
       "       'is_backing', 'is_starrable', 'is_starred', 'launched_at', 'name',\n",
       "       'pledged', 'spotlight', 'staff_pick', 'state', 'state_changed_at',\n",
       "       'static_usd_rate', 'usd_pledged', 'usd_type', 'creator_id',\n",
       "       'profile_test_id', 'profile_test_project_id', 'profile_test_state',\n",
       "       'category_name', 'category_slug', 'category_position',\n",
       "       'category_parent_id', 'category_color', 'location_name',\n",
       "       'location_localized_name', 'location_country', 'location_type'],\n",
       "      dtype='object')"
      ]
     },
     "execution_count": 328,
     "metadata": {},
     "output_type": "execute_result"
    }
   ],
   "source": [
    "df2.columns"
   ]
  },
  {
   "cell_type": "markdown",
   "metadata": {},
   "source": [
    "# Data Cleaning"
   ]
  },
  {
   "cell_type": "markdown",
   "metadata": {},
   "source": [
    "## Missing data"
   ]
  },
  {
   "cell_type": "code",
   "execution_count": 329,
   "metadata": {
    "scrolled": false
   },
   "outputs": [
    {
     "data": {
      "text/html": [
       "<div>\n",
       "<style scoped>\n",
       "    .dataframe tbody tr th:only-of-type {\n",
       "        vertical-align: middle;\n",
       "    }\n",
       "\n",
       "    .dataframe tbody tr th {\n",
       "        vertical-align: top;\n",
       "    }\n",
       "\n",
       "    .dataframe thead th {\n",
       "        text-align: right;\n",
       "    }\n",
       "</style>\n",
       "<table border=\"1\" class=\"dataframe\">\n",
       "  <thead>\n",
       "    <tr style=\"text-align: right;\">\n",
       "      <th></th>\n",
       "      <th>Number</th>\n",
       "    </tr>\n",
       "  </thead>\n",
       "  <tbody>\n",
       "    <tr>\n",
       "      <th>blurb</th>\n",
       "      <td>8</td>\n",
       "    </tr>\n",
       "    <tr>\n",
       "      <th>is_backing</th>\n",
       "      <td>208922</td>\n",
       "    </tr>\n",
       "    <tr>\n",
       "      <th>is_starred</th>\n",
       "      <td>208922</td>\n",
       "    </tr>\n",
       "    <tr>\n",
       "      <th>usd_type</th>\n",
       "      <td>480</td>\n",
       "    </tr>\n",
       "    <tr>\n",
       "      <th>category_parent_id</th>\n",
       "      <td>9041</td>\n",
       "    </tr>\n",
       "  </tbody>\n",
       "</table>\n",
       "</div>"
      ],
      "text/plain": [
       "                    Number\n",
       "blurb                    8\n",
       "is_backing          208922\n",
       "is_starred          208922\n",
       "usd_type               480\n",
       "category_parent_id    9041"
      ]
     },
     "execution_count": 329,
     "metadata": {},
     "output_type": "execute_result"
    }
   ],
   "source": [
    "missing = pd.DataFrame(df2.isnull().sum(),columns=['Number'])\n",
    "missing[missing.Number!=0]"
   ]
  },
  {
   "cell_type": "code",
   "execution_count": 330,
   "metadata": {},
   "outputs": [
    {
     "data": {
      "text/plain": [
       "False    298\n",
       "True       2\n",
       "Name: is_starred, dtype: int64"
      ]
     },
     "execution_count": 330,
     "metadata": {},
     "output_type": "execute_result"
    }
   ],
   "source": [
    "df2[\"is_starred\"].value_counts()"
   ]
  },
  {
   "cell_type": "code",
   "execution_count": 331,
   "metadata": {},
   "outputs": [
    {
     "data": {
      "text/plain": [
       "international    104508\n",
       "domestic         104234\n",
       "Name: usd_type, dtype: int64"
      ]
     },
     "execution_count": 331,
     "metadata": {},
     "output_type": "execute_result"
    }
   ],
   "source": [
    "df2[\"usd_type\"].value_counts()"
   ]
  },
  {
   "cell_type": "code",
   "execution_count": 332,
   "metadata": {},
   "outputs": [
    {
     "data": {
      "text/plain": [
       "11.0    27402\n",
       "14.0    26529\n",
       "16.0    20772\n",
       "18.0    19899\n",
       "1.0     19628\n",
       "10.0    15676\n",
       "12.0    13940\n",
       "9.0     11870\n",
       "7.0      8636\n",
       "3.0      8430\n",
       "15.0     7475\n",
       "17.0     6299\n",
       "26.0     5962\n",
       "13.0     5098\n",
       "6.0      2565\n",
       "Name: category_parent_id, dtype: int64"
      ]
     },
     "execution_count": 332,
     "metadata": {},
     "output_type": "execute_result"
    }
   ],
   "source": [
    "df2[\"category_parent_id\"].value_counts()"
   ]
  },
  {
   "cell_type": "code",
   "execution_count": 333,
   "metadata": {},
   "outputs": [],
   "source": [
    "df2.drop([\"is_starred\", \"is_backing\"], axis= 1, inplace=True)"
   ]
  },
  {
   "cell_type": "markdown",
   "metadata": {},
   "source": [
    "- what are wo doing with \"blurb\"? There are only 8 NaN but we can not make a average since \"blurb\" is an object\n",
    "- drop \"is_backing\" and \"is_starred\" because there to much missing values\n",
    "    - in \"is_backing\" there are 300 False entries \n",
    "    - in \"is_starred\" there are 298 False entries and 2 True entries \n",
    "- don´t drop usd_type maybe we finde an indicator wether the project is international or domestic\n",
    "- bevore we drop category_parent_id we take a deeper loock on this feature "
   ]
  },
  {
   "cell_type": "markdown",
   "metadata": {},
   "source": [
    "## prepare data"
   ]
  },
  {
   "cell_type": "markdown",
   "metadata": {},
   "source": [
    "### \"state\" our variabel we want to predict"
   ]
  },
  {
   "cell_type": "code",
   "execution_count": 334,
   "metadata": {},
   "outputs": [
    {
     "data": {
      "text/plain": [
       "(192664, 37)"
      ]
     },
     "execution_count": 334,
     "metadata": {},
     "output_type": "execute_result"
    }
   ],
   "source": [
    "# delete all projects that don't have the status \"failed\" or \"successful\"\n",
    "\n",
    "df2 = df2[df2.state!='canceled']\n",
    "df2 = df2[df2.state!='live']\n",
    "df2 = df2[df2.state!='suspended']\n",
    "df2.shape"
   ]
  },
  {
   "cell_type": "code",
   "execution_count": 335,
   "metadata": {
    "scrolled": true
   },
   "outputs": [
    {
     "data": {
      "text/plain": [
       "successful    117465\n",
       "failed         75199\n",
       "Name: state, dtype: int64"
      ]
     },
     "execution_count": 335,
     "metadata": {},
     "output_type": "execute_result"
    }
   ],
   "source": [
    "df2[\"state\"].value_counts()"
   ]
  },
  {
   "cell_type": "markdown",
   "metadata": {},
   "source": [
    "We have 192664 data points left with 37 features. \n",
    "\n",
    "117465 of them are successful and 75199 are failed."
   ]
  },
  {
   "cell_type": "markdown",
   "metadata": {},
   "source": [
    "### \"blurb\" count lenght of the string?"
   ]
  },
  {
   "cell_type": "code",
   "execution_count": 336,
   "metadata": {},
   "outputs": [
    {
     "name": "stderr",
     "output_type": "stream",
     "text": [
      "/opt/anaconda3/envs/nf/lib/python3.6/site-packages/ipykernel_launcher.py:2: UserWarning: Boolean Series key will be reindexed to match DataFrame index.\n",
      "  \n"
     ]
    },
    {
     "data": {
      "text/html": [
       "<div>\n",
       "<style scoped>\n",
       "    .dataframe tbody tr th:only-of-type {\n",
       "        vertical-align: middle;\n",
       "    }\n",
       "\n",
       "    .dataframe tbody tr th {\n",
       "        vertical-align: top;\n",
       "    }\n",
       "\n",
       "    .dataframe thead th {\n",
       "        text-align: right;\n",
       "    }\n",
       "</style>\n",
       "<table border=\"1\" class=\"dataframe\">\n",
       "  <thead>\n",
       "    <tr style=\"text-align: right;\">\n",
       "      <th></th>\n",
       "      <th>backers_count</th>\n",
       "      <th>blurb</th>\n",
       "      <th>converted_pledged_amount</th>\n",
       "      <th>country</th>\n",
       "      <th>created_at</th>\n",
       "      <th>currency</th>\n",
       "      <th>currency_trailing_code</th>\n",
       "      <th>current_currency</th>\n",
       "      <th>deadline</th>\n",
       "      <th>disable_communication</th>\n",
       "      <th>...</th>\n",
       "      <th>profile_test_state</th>\n",
       "      <th>category_name</th>\n",
       "      <th>category_slug</th>\n",
       "      <th>category_position</th>\n",
       "      <th>category_parent_id</th>\n",
       "      <th>category_color</th>\n",
       "      <th>location_name</th>\n",
       "      <th>location_localized_name</th>\n",
       "      <th>location_country</th>\n",
       "      <th>location_type</th>\n",
       "    </tr>\n",
       "  </thead>\n",
       "  <tbody>\n",
       "    <tr>\n",
       "      <th>65168</th>\n",
       "      <td>39</td>\n",
       "      <td>NaN</td>\n",
       "      <td>8675</td>\n",
       "      <td>DE</td>\n",
       "      <td>1504364375</td>\n",
       "      <td>EUR</td>\n",
       "      <td>False</td>\n",
       "      <td>USD</td>\n",
       "      <td>1507625188</td>\n",
       "      <td>False</td>\n",
       "      <td>...</td>\n",
       "      <td>inactive</td>\n",
       "      <td>Ready-to-wear</td>\n",
       "      <td>fashion/ready-to-wear</td>\n",
       "      <td>8</td>\n",
       "      <td>9.0</td>\n",
       "      <td>16752598</td>\n",
       "      <td>Munich</td>\n",
       "      <td>Munich</td>\n",
       "      <td>DE</td>\n",
       "      <td>Town</td>\n",
       "    </tr>\n",
       "    <tr>\n",
       "      <th>108662</th>\n",
       "      <td>0</td>\n",
       "      <td>NaN</td>\n",
       "      <td>0</td>\n",
       "      <td>US</td>\n",
       "      <td>1509679461</td>\n",
       "      <td>USD</td>\n",
       "      <td>True</td>\n",
       "      <td>USD</td>\n",
       "      <td>1515800048</td>\n",
       "      <td>False</td>\n",
       "      <td>...</td>\n",
       "      <td>inactive</td>\n",
       "      <td>Digital Art</td>\n",
       "      <td>art/digital art</td>\n",
       "      <td>3</td>\n",
       "      <td>1.0</td>\n",
       "      <td>16760235</td>\n",
       "      <td>Los Angeles</td>\n",
       "      <td>Los Angeles</td>\n",
       "      <td>US</td>\n",
       "      <td>Town</td>\n",
       "    </tr>\n",
       "  </tbody>\n",
       "</table>\n",
       "<p>2 rows × 37 columns</p>\n",
       "</div>"
      ],
      "text/plain": [
       "        backers_count blurb  converted_pledged_amount country  created_at  \\\n",
       "65168              39   NaN                      8675      DE  1504364375   \n",
       "108662              0   NaN                         0      US  1509679461   \n",
       "\n",
       "       currency  currency_trailing_code current_currency    deadline  \\\n",
       "65168       EUR                   False              USD  1507625188   \n",
       "108662      USD                    True              USD  1515800048   \n",
       "\n",
       "        disable_communication  ...  profile_test_state  category_name  \\\n",
       "65168                   False  ...            inactive  Ready-to-wear   \n",
       "108662                  False  ...            inactive    Digital Art   \n",
       "\n",
       "                category_slug  category_position  category_parent_id  \\\n",
       "65168   fashion/ready-to-wear                  8                 9.0   \n",
       "108662        art/digital art                  3                 1.0   \n",
       "\n",
       "       category_color  location_name  location_localized_name  \\\n",
       "65168        16752598         Munich                   Munich   \n",
       "108662       16760235    Los Angeles              Los Angeles   \n",
       "\n",
       "        location_country location_type  \n",
       "65168                 DE          Town  \n",
       "108662                US          Town  \n",
       "\n",
       "[2 rows x 37 columns]"
      ]
     },
     "execution_count": 336,
     "metadata": {},
     "output_type": "execute_result"
    }
   ],
   "source": [
    "# What we are doing with \"blurb\"? There are 2 entries of missing data \n",
    "df2[df[\"blurb\"].isnull()]"
   ]
  },
  {
   "cell_type": "markdown",
   "metadata": {},
   "source": [
    "-> create a new feature that specifies the length of the name. "
   ]
  },
  {
   "cell_type": "code",
   "execution_count": 337,
   "metadata": {},
   "outputs": [
    {
     "data": {
      "text/plain": [
       "count    192662.000000\n",
       "mean        112.431767\n",
       "std          26.573717\n",
       "min           1.000000\n",
       "25%         101.000000\n",
       "50%         124.000000\n",
       "75%         132.000000\n",
       "max         196.000000\n",
       "Name: blurb_length, dtype: float64"
      ]
     },
     "execution_count": 337,
     "metadata": {},
     "output_type": "execute_result"
    }
   ],
   "source": [
    "# check the dircribtion of this new feature \n",
    "df2[\"blurb_length\"] = df2.blurb.str.len()\n",
    "df2[\"blurb_length\"].describe()"
   ]
  },
  {
   "cell_type": "code",
   "execution_count": 338,
   "metadata": {},
   "outputs": [
    {
     "data": {
      "text/plain": [
       "1    125.0\n",
       "2    108.0\n",
       "3    133.0\n",
       "4    121.0\n",
       "5    134.0\n",
       "Name: blurb_length, dtype: float64"
      ]
     },
     "execution_count": 338,
     "metadata": {},
     "output_type": "execute_result"
    }
   ],
   "source": [
    "df2[\"blurb_length\"].head(5)"
   ]
  },
  {
   "cell_type": "code",
   "execution_count": 339,
   "metadata": {
    "scrolled": true
   },
   "outputs": [
    {
     "name": "stderr",
     "output_type": "stream",
     "text": [
      "/opt/anaconda3/envs/nf/lib/python3.6/site-packages/ipykernel_launcher.py:2: SettingWithCopyWarning: \n",
      "A value is trying to be set on a copy of a slice from a DataFrame\n",
      "\n",
      "See the caveats in the documentation: http://pandas.pydata.org/pandas-docs/stable/indexing.html#indexing-view-versus-copy\n",
      "  \n"
     ]
    }
   ],
   "source": [
    "#The two entries that are missing are set to a lenght of zero\n",
    "df2[\"blurb_length\"][df2[\"blurb_length\"].isnull()] = 0"
   ]
  },
  {
   "cell_type": "code",
   "execution_count": 340,
   "metadata": {},
   "outputs": [],
   "source": [
    "# drop the column \"blurb\", because it's not longer necessary\n",
    "df2.drop([\"blurb\"], inplace= True, axis=1)"
   ]
  },
  {
   "cell_type": "markdown",
   "metadata": {},
   "source": [
    "### \"name\""
   ]
  },
  {
   "cell_type": "code",
   "execution_count": 341,
   "metadata": {
    "scrolled": true
   },
   "outputs": [
    {
     "data": {
      "text/plain": [
       "1                              The Ofrenda Oracle Deck\n",
       "2    Record Electra's Debut Album (Pop, Rock, Class...\n",
       "3                   The Mist of Tribunal - A Card Game\n",
       "4             Help change the face of Brain Impairment\n",
       "5                      Annapolis Chamber Music Project\n",
       "Name: name, dtype: object"
      ]
     },
     "execution_count": 341,
     "metadata": {},
     "output_type": "execute_result"
    }
   ],
   "source": [
    "df2[\"name\"].head()"
   ]
  },
  {
   "cell_type": "code",
   "execution_count": 342,
   "metadata": {},
   "outputs": [
    {
     "data": {
      "text/plain": [
       "count    192664.000000\n",
       "mean         35.148377\n",
       "std          15.695316\n",
       "min           1.000000\n",
       "25%          22.000000\n",
       "50%          35.000000\n",
       "75%          49.000000\n",
       "max          85.000000\n",
       "Name: name_length, dtype: float64"
      ]
     },
     "execution_count": 342,
     "metadata": {},
     "output_type": "execute_result"
    }
   ],
   "source": [
    "# like \"blurb\" create a new feature with the length of the name \n",
    "df2[\"name_length\"] = df2[\"name\"].str.len()\n",
    "df2[\"name_length\"].describe()"
   ]
  },
  {
   "cell_type": "code",
   "execution_count": 343,
   "metadata": {},
   "outputs": [],
   "source": [
    "#drop the column \"name\"\n",
    "df2.drop([\"name\"], inplace= True, axis=1)"
   ]
  },
  {
   "cell_type": "markdown",
   "metadata": {},
   "source": [
    "### \"country\""
   ]
  },
  {
   "cell_type": "code",
   "execution_count": 344,
   "metadata": {
    "scrolled": false
   },
   "outputs": [
    {
     "data": {
      "text/plain": [
       "US    137788\n",
       "GB     21235\n",
       "CA      8896\n",
       "AU      4383\n",
       "DE      3048\n",
       "FR      2377\n",
       "IT      2063\n",
       "MX      2038\n",
       "ES      1697\n",
       "NL      1649\n",
       "SE      1281\n",
       "HK       953\n",
       "NZ       848\n",
       "DK       839\n",
       "SG       624\n",
       "CH       597\n",
       "IE       575\n",
       "BE       496\n",
       "NO       453\n",
       "AT       439\n",
       "JP       330\n",
       "LU        55\n",
       "Name: country, dtype: int64"
      ]
     },
     "execution_count": 344,
     "metadata": {},
     "output_type": "execute_result"
    }
   ],
   "source": [
    "df2[\"country\"].value_counts()"
   ]
  },
  {
   "cell_type": "markdown",
   "metadata": {},
   "source": [
    "there are 22 countries in which the projects are started. The most of them in the United States. Create a new Column with a dummy Variable, if the project has started in the US 1 = yes or 0=no "
   ]
  },
  {
   "cell_type": "code",
   "execution_count": 345,
   "metadata": {},
   "outputs": [
    {
     "data": {
      "text/html": [
       "<div>\n",
       "<style scoped>\n",
       "    .dataframe tbody tr th:only-of-type {\n",
       "        vertical-align: middle;\n",
       "    }\n",
       "\n",
       "    .dataframe tbody tr th {\n",
       "        vertical-align: top;\n",
       "    }\n",
       "\n",
       "    .dataframe thead th {\n",
       "        text-align: right;\n",
       "    }\n",
       "</style>\n",
       "<table border=\"1\" class=\"dataframe\">\n",
       "  <thead>\n",
       "    <tr style=\"text-align: right;\">\n",
       "      <th></th>\n",
       "      <th>AT</th>\n",
       "      <th>AU</th>\n",
       "      <th>BE</th>\n",
       "      <th>CA</th>\n",
       "      <th>CH</th>\n",
       "      <th>DE</th>\n",
       "      <th>DK</th>\n",
       "      <th>ES</th>\n",
       "      <th>FR</th>\n",
       "      <th>GB</th>\n",
       "      <th>...</th>\n",
       "      <th>IT</th>\n",
       "      <th>JP</th>\n",
       "      <th>LU</th>\n",
       "      <th>MX</th>\n",
       "      <th>NL</th>\n",
       "      <th>NO</th>\n",
       "      <th>NZ</th>\n",
       "      <th>SE</th>\n",
       "      <th>SG</th>\n",
       "      <th>US</th>\n",
       "    </tr>\n",
       "  </thead>\n",
       "  <tbody>\n",
       "    <tr>\n",
       "      <th>1</th>\n",
       "      <td>0</td>\n",
       "      <td>0</td>\n",
       "      <td>0</td>\n",
       "      <td>0</td>\n",
       "      <td>0</td>\n",
       "      <td>0</td>\n",
       "      <td>0</td>\n",
       "      <td>0</td>\n",
       "      <td>0</td>\n",
       "      <td>0</td>\n",
       "      <td>...</td>\n",
       "      <td>0</td>\n",
       "      <td>0</td>\n",
       "      <td>0</td>\n",
       "      <td>0</td>\n",
       "      <td>0</td>\n",
       "      <td>0</td>\n",
       "      <td>0</td>\n",
       "      <td>0</td>\n",
       "      <td>0</td>\n",
       "      <td>1</td>\n",
       "    </tr>\n",
       "    <tr>\n",
       "      <th>2</th>\n",
       "      <td>0</td>\n",
       "      <td>0</td>\n",
       "      <td>0</td>\n",
       "      <td>0</td>\n",
       "      <td>0</td>\n",
       "      <td>0</td>\n",
       "      <td>0</td>\n",
       "      <td>0</td>\n",
       "      <td>0</td>\n",
       "      <td>0</td>\n",
       "      <td>...</td>\n",
       "      <td>0</td>\n",
       "      <td>0</td>\n",
       "      <td>0</td>\n",
       "      <td>0</td>\n",
       "      <td>0</td>\n",
       "      <td>0</td>\n",
       "      <td>0</td>\n",
       "      <td>0</td>\n",
       "      <td>0</td>\n",
       "      <td>1</td>\n",
       "    </tr>\n",
       "    <tr>\n",
       "      <th>3</th>\n",
       "      <td>0</td>\n",
       "      <td>0</td>\n",
       "      <td>0</td>\n",
       "      <td>0</td>\n",
       "      <td>0</td>\n",
       "      <td>0</td>\n",
       "      <td>0</td>\n",
       "      <td>0</td>\n",
       "      <td>0</td>\n",
       "      <td>1</td>\n",
       "      <td>...</td>\n",
       "      <td>0</td>\n",
       "      <td>0</td>\n",
       "      <td>0</td>\n",
       "      <td>0</td>\n",
       "      <td>0</td>\n",
       "      <td>0</td>\n",
       "      <td>0</td>\n",
       "      <td>0</td>\n",
       "      <td>0</td>\n",
       "      <td>0</td>\n",
       "    </tr>\n",
       "    <tr>\n",
       "      <th>4</th>\n",
       "      <td>0</td>\n",
       "      <td>0</td>\n",
       "      <td>0</td>\n",
       "      <td>0</td>\n",
       "      <td>0</td>\n",
       "      <td>0</td>\n",
       "      <td>0</td>\n",
       "      <td>0</td>\n",
       "      <td>0</td>\n",
       "      <td>0</td>\n",
       "      <td>...</td>\n",
       "      <td>0</td>\n",
       "      <td>0</td>\n",
       "      <td>0</td>\n",
       "      <td>0</td>\n",
       "      <td>0</td>\n",
       "      <td>0</td>\n",
       "      <td>0</td>\n",
       "      <td>0</td>\n",
       "      <td>0</td>\n",
       "      <td>1</td>\n",
       "    </tr>\n",
       "    <tr>\n",
       "      <th>5</th>\n",
       "      <td>0</td>\n",
       "      <td>0</td>\n",
       "      <td>0</td>\n",
       "      <td>0</td>\n",
       "      <td>0</td>\n",
       "      <td>0</td>\n",
       "      <td>0</td>\n",
       "      <td>0</td>\n",
       "      <td>0</td>\n",
       "      <td>0</td>\n",
       "      <td>...</td>\n",
       "      <td>0</td>\n",
       "      <td>0</td>\n",
       "      <td>0</td>\n",
       "      <td>0</td>\n",
       "      <td>0</td>\n",
       "      <td>0</td>\n",
       "      <td>0</td>\n",
       "      <td>0</td>\n",
       "      <td>0</td>\n",
       "      <td>1</td>\n",
       "    </tr>\n",
       "  </tbody>\n",
       "</table>\n",
       "<p>5 rows × 22 columns</p>\n",
       "</div>"
      ],
      "text/plain": [
       "   AT  AU  BE  CA  CH  DE  DK  ES  FR  GB  ...  IT  JP  LU  MX  NL  NO  NZ  \\\n",
       "1   0   0   0   0   0   0   0   0   0   0  ...   0   0   0   0   0   0   0   \n",
       "2   0   0   0   0   0   0   0   0   0   0  ...   0   0   0   0   0   0   0   \n",
       "3   0   0   0   0   0   0   0   0   0   1  ...   0   0   0   0   0   0   0   \n",
       "4   0   0   0   0   0   0   0   0   0   0  ...   0   0   0   0   0   0   0   \n",
       "5   0   0   0   0   0   0   0   0   0   0  ...   0   0   0   0   0   0   0   \n",
       "\n",
       "   SE  SG  US  \n",
       "1   0   0   1  \n",
       "2   0   0   1  \n",
       "3   0   0   0  \n",
       "4   0   0   1  \n",
       "5   0   0   1  \n",
       "\n",
       "[5 rows x 22 columns]"
      ]
     },
     "execution_count": 345,
     "metadata": {},
     "output_type": "execute_result"
    }
   ],
   "source": [
    "# create dummie variables from column \"country\"\n",
    "dummies_country = pd.get_dummies(df2[\"country\"])\n",
    "dummies_country.head()"
   ]
  },
  {
   "cell_type": "code",
   "execution_count": 346,
   "metadata": {},
   "outputs": [
    {
     "data": {
      "text/html": [
       "<div>\n",
       "<style scoped>\n",
       "    .dataframe tbody tr th:only-of-type {\n",
       "        vertical-align: middle;\n",
       "    }\n",
       "\n",
       "    .dataframe tbody tr th {\n",
       "        vertical-align: top;\n",
       "    }\n",
       "\n",
       "    .dataframe thead th {\n",
       "        text-align: right;\n",
       "    }\n",
       "</style>\n",
       "<table border=\"1\" class=\"dataframe\">\n",
       "  <thead>\n",
       "    <tr style=\"text-align: right;\">\n",
       "      <th></th>\n",
       "      <th>backers_count</th>\n",
       "      <th>converted_pledged_amount</th>\n",
       "      <th>country</th>\n",
       "      <th>created_at</th>\n",
       "      <th>currency</th>\n",
       "      <th>currency_trailing_code</th>\n",
       "      <th>current_currency</th>\n",
       "      <th>deadline</th>\n",
       "      <th>disable_communication</th>\n",
       "      <th>fx_rate</th>\n",
       "      <th>...</th>\n",
       "      <th>category_position</th>\n",
       "      <th>category_parent_id</th>\n",
       "      <th>category_color</th>\n",
       "      <th>location_name</th>\n",
       "      <th>location_localized_name</th>\n",
       "      <th>location_country</th>\n",
       "      <th>location_type</th>\n",
       "      <th>blurb_length</th>\n",
       "      <th>name_length</th>\n",
       "      <th>country_US</th>\n",
       "    </tr>\n",
       "  </thead>\n",
       "  <tbody>\n",
       "    <tr>\n",
       "      <th>1</th>\n",
       "      <td>47</td>\n",
       "      <td>1950</td>\n",
       "      <td>US</td>\n",
       "      <td>1501684093</td>\n",
       "      <td>USD</td>\n",
       "      <td>True</td>\n",
       "      <td>USD</td>\n",
       "      <td>1504976459</td>\n",
       "      <td>False</td>\n",
       "      <td>1.0</td>\n",
       "      <td>...</td>\n",
       "      <td>4</td>\n",
       "      <td>12.0</td>\n",
       "      <td>51627</td>\n",
       "      <td>Euless</td>\n",
       "      <td>Euless</td>\n",
       "      <td>US</td>\n",
       "      <td>Town</td>\n",
       "      <td>125.0</td>\n",
       "      <td>23</td>\n",
       "      <td>1</td>\n",
       "    </tr>\n",
       "  </tbody>\n",
       "</table>\n",
       "<p>1 rows × 38 columns</p>\n",
       "</div>"
      ],
      "text/plain": [
       "   backers_count  converted_pledged_amount country  created_at currency  \\\n",
       "1             47                      1950      US  1501684093      USD   \n",
       "\n",
       "   currency_trailing_code current_currency    deadline  disable_communication  \\\n",
       "1                    True              USD  1504976459                  False   \n",
       "\n",
       "   fx_rate  ...  category_position  category_parent_id  category_color  \\\n",
       "1      1.0  ...                  4                12.0           51627   \n",
       "\n",
       "   location_name  location_localized_name  location_country  location_type  \\\n",
       "1         Euless                   Euless                US           Town   \n",
       "\n",
       "  blurb_length  name_length  country_US  \n",
       "1        125.0           23           1  \n",
       "\n",
       "[1 rows x 38 columns]"
      ]
     },
     "execution_count": 346,
     "metadata": {},
     "output_type": "execute_result"
    }
   ],
   "source": [
    "# put dummie variable \"US\" (if the Country USA? yes=1, no=0)in our dataframe\n",
    "df2[\"country_US\"] = dummies_country[\"US\"]\n",
    "df2.head(1)"
   ]
  },
  {
   "cell_type": "markdown",
   "metadata": {},
   "source": [
    "### \"created_at\"/ \"deadline\"/ \"launched_at\""
   ]
  },
  {
   "cell_type": "code",
   "execution_count": 347,
   "metadata": {},
   "outputs": [
    {
     "data": {
      "text/plain": [
       "1    1504976459\n",
       "Name: state_changed_at, dtype: int64"
      ]
     },
     "execution_count": 347,
     "metadata": {},
     "output_type": "execute_result"
    }
   ],
   "source": [
    "# all feature that have a time specification\n",
    "df2[\"created_at\"].head(1)\n",
    "df2[\"deadline\"].head()\n",
    "df2[\"launched_at\"].head(1)\n",
    "df2[\"state_changed_at\"].head(1)"
   ]
  },
  {
   "cell_type": "code",
   "execution_count": 348,
   "metadata": {
    "scrolled": true
   },
   "outputs": [
    {
     "data": {
      "text/plain": [
       "1    30.000000\n",
       "2    30.000000\n",
       "3    59.958333\n",
       "4    30.000000\n",
       "5    30.000000\n",
       "Name: duration, dtype: float64"
      ]
     },
     "execution_count": 348,
     "metadata": {},
     "output_type": "execute_result"
    }
   ],
   "source": [
    "# create a new feature that shows the time between the start and the end of the project\n",
    "df2[\"duration\"] = df2[\"deadline\"] -df2[\"launched_at\"]\n",
    "df2[\"duration\"] =df2[\"duration\"] / (60*60*24)\n",
    "df2[\"duration\"].head()"
   ]
  },
  {
   "cell_type": "code",
   "execution_count": 349,
   "metadata": {},
   "outputs": [
    {
     "data": {
      "text/plain": [
       "1      8.106088\n",
       "2    224.928958\n",
       "3      5.383160\n",
       "4      4.102500\n",
       "5    159.368009\n",
       "Name: preparation, dtype: float64"
      ]
     },
     "execution_count": 349,
     "metadata": {},
     "output_type": "execute_result"
    }
   ],
   "source": [
    "# create a new feature that shows the time between the creating and the starting of the project\n",
    "df2[\"preparation\"] = df2[\"launched_at\"] - df2[\"created_at\"]\n",
    "df2[\"preparation\"] = df2[\"preparation\"] / (60*60*24)\n",
    "df2[\"preparation\"].head()"
   ]
  },
  {
   "cell_type": "code",
   "execution_count": 350,
   "metadata": {},
   "outputs": [
    {
     "data": {
      "text/plain": [
       "1    30.000000\n",
       "2    30.000000\n",
       "3    59.958333\n",
       "4    30.000000\n",
       "5    30.000000\n",
       "Name: act_duration, dtype: float64"
      ]
     },
     "execution_count": 350,
     "metadata": {},
     "output_type": "execute_result"
    }
   ],
   "source": [
    "# create a new feature that shows the time between the start and the real end of the project\n",
    "df2[\"act_duration\"] =df2[\"state_changed_at\"] - df2[\"launched_at\"]\n",
    "df2[\"act_duration\"] = df2[\"act_duration\"] / (60*60*24)\n",
    "df2[\"act_duration\"].head()"
   ]
  },
  {
   "cell_type": "code",
   "execution_count": 351,
   "metadata": {},
   "outputs": [],
   "source": [
    "# drop all features that ar not longer necessary as the new features have been created\n",
    "df2.drop([\"created_at\", \"deadline\", \"launched_at\", \"state_changed_at\"], inplace= True, axis=1)"
   ]
  },
  {
   "cell_type": "markdown",
   "metadata": {},
   "source": [
    "### what is fx_rate ?"
   ]
  },
  {
   "cell_type": "code",
   "execution_count": 352,
   "metadata": {},
   "outputs": [
    {
     "data": {
      "text/plain": [
       "1    1.000000\n",
       "2    1.000000\n",
       "3    1.308394\n",
       "4    1.000000\n",
       "5    1.000000\n",
       "Name: fx_rate, dtype: float64"
      ]
     },
     "execution_count": 352,
     "metadata": {},
     "output_type": "execute_result"
    }
   ],
   "source": [
    "# what is fx_rate ?\n",
    "df2[\"fx_rate\"].head()"
   ]
  },
  {
   "cell_type": "code",
   "execution_count": 353,
   "metadata": {},
   "outputs": [],
   "source": [
    "# we have found no connection an no explonation for the variable fx_rate, that's why we drop this column\n",
    "df2.drop([\"fx_rate\"], inplace= True, axis=1)"
   ]
  },
  {
   "cell_type": "markdown",
   "metadata": {},
   "source": [
    "### goal"
   ]
  },
  {
   "cell_type": "code",
   "execution_count": 354,
   "metadata": {
    "scrolled": true
   },
   "outputs": [],
   "source": [
    "# convert \"goal\" in USD \n",
    "df2['USD_goal'] = df2[\"goal\"]*df2[\"static_usd_rate\"]"
   ]
  },
  {
   "cell_type": "code",
   "execution_count": 355,
   "metadata": {},
   "outputs": [],
   "source": [
    "# drop goal \n",
    "df2.drop([\"goal\"], inplace= True, axis=1)"
   ]
  },
  {
   "cell_type": "markdown",
   "metadata": {},
   "source": [
    "### \"id\""
   ]
  },
  {
   "cell_type": "code",
   "execution_count": 356,
   "metadata": {
    "scrolled": true
   },
   "outputs": [
    {
     "data": {
      "text/plain": [
       "1    928751314\n",
       "Name: id, dtype: int64"
      ]
     },
     "execution_count": 356,
     "metadata": {},
     "output_type": "execute_result"
    }
   ],
   "source": [
    "df2[\"id\"].head(1)"
   ]
  },
  {
   "cell_type": "code",
   "execution_count": 357,
   "metadata": {},
   "outputs": [],
   "source": [
    "# count double entires in the column \"id\" and save the results in a new column\n",
    "df2[\"count_id\"] = df2.groupby(\"id\")[\"id\"].transform('count')"
   ]
  },
  {
   "cell_type": "code",
   "execution_count": 358,
   "metadata": {},
   "outputs": [
    {
     "data": {
      "text/plain": [
       "1    145294\n",
       "2     47370\n",
       "Name: count_id, dtype: int64"
      ]
     },
     "execution_count": 358,
     "metadata": {},
     "output_type": "execute_result"
    }
   ],
   "source": [
    "df2[\"count_id\"].value_counts()"
   ]
  },
  {
   "cell_type": "code",
   "execution_count": 359,
   "metadata": {},
   "outputs": [],
   "source": [
    "# now drop the column \"id\"\n",
    "df2.drop([\"id\"], inplace= True, axis=1)"
   ]
  },
  {
   "cell_type": "markdown",
   "metadata": {},
   "source": [
    "### \"is_starrable\""
   ]
  },
  {
   "cell_type": "code",
   "execution_count": 360,
   "metadata": {
    "scrolled": true
   },
   "outputs": [
    {
     "data": {
      "text/plain": [
       "False    192664\n",
       "Name: is_starrable, dtype: int64"
      ]
     },
     "execution_count": 360,
     "metadata": {},
     "output_type": "execute_result"
    }
   ],
   "source": [
    "df2[\"is_starrable\"].value_counts()"
   ]
  },
  {
   "cell_type": "code",
   "execution_count": 361,
   "metadata": {},
   "outputs": [],
   "source": [
    "# drop this variable, because all entries are \"False\" the column \"is_starrable\" has no content for our model\n",
    "df2.drop([\"is_starrable\"], inplace= True, axis=1)"
   ]
  },
  {
   "cell_type": "markdown",
   "metadata": {},
   "source": [
    "### \"pledged\" and \"usd_pledged\""
   ]
  },
  {
   "cell_type": "code",
   "execution_count": 362,
   "metadata": {},
   "outputs": [
    {
     "data": {
      "text/plain": [
       "1      1950.0\n",
       "2     22404.0\n",
       "3       136.0\n",
       "4      2820.0\n",
       "5      3725.0\n",
       "6      3890.0\n",
       "7       660.0\n",
       "8       375.0\n",
       "9      1954.0\n",
       "10        0.0\n",
       "Name: pledged, dtype: float64"
      ]
     },
     "execution_count": 362,
     "metadata": {},
     "output_type": "execute_result"
    }
   ],
   "source": [
    "# take a look on the the difference between the varaibles \"pledged\" and \"usd_pledged\"\n",
    "df2[\"pledged\"].head(10)"
   ]
  },
  {
   "cell_type": "code",
   "execution_count": 363,
   "metadata": {
    "scrolled": true
   },
   "outputs": [
    {
     "data": {
      "text/plain": [
       "1      1950.000000\n",
       "2     22404.000000\n",
       "3       165.384934\n",
       "4      2820.000000\n",
       "5      3725.000000\n",
       "6      3890.000000\n",
       "7       660.000000\n",
       "8       529.786729\n",
       "9      2516.160602\n",
       "10        0.000000\n",
       "Name: usd_pledged, dtype: float64"
      ]
     },
     "execution_count": 363,
     "metadata": {},
     "output_type": "execute_result"
    }
   ],
   "source": [
    "df2[\"usd_pledged\"].head(10)"
   ]
  },
  {
   "cell_type": "code",
   "execution_count": 364,
   "metadata": {},
   "outputs": [
    {
     "data": {
      "text/plain": [
       "1     1.000000\n",
       "2     1.000000\n",
       "3     1.216066\n",
       "4     1.000000\n",
       "5     1.000000\n",
       "6     1.000000\n",
       "7     1.000000\n",
       "8     1.412765\n",
       "9     1.287697\n",
       "10    1.000000\n",
       "Name: static_usd_rate, dtype: float64"
      ]
     },
     "execution_count": 364,
     "metadata": {},
     "output_type": "execute_result"
    }
   ],
   "source": [
    "# pledged * static_usd_rate = usd_pledged\n",
    "df2[\"static_usd_rate\"].head(10)"
   ]
  },
  {
   "cell_type": "code",
   "execution_count": 365,
   "metadata": {},
   "outputs": [],
   "source": [
    "# drop \"pledged\" because we have \"usd_pledged\" which is \"pledged\" convert in USD \n",
    "df2.drop([\"pledged\"], inplace= True, axis=1)"
   ]
  },
  {
   "cell_type": "markdown",
   "metadata": {},
   "source": [
    "### \"spotlight\""
   ]
  },
  {
   "cell_type": "code",
   "execution_count": 366,
   "metadata": {},
   "outputs": [
    {
     "data": {
      "text/plain": [
       "True     117465\n",
       "False     75199\n",
       "Name: spotlight, dtype: int64"
      ]
     },
     "execution_count": 366,
     "metadata": {},
     "output_type": "execute_result"
    }
   ],
   "source": [
    "df2[\"spotlight\"].value_counts()"
   ]
  },
  {
   "cell_type": "code",
   "execution_count": 367,
   "metadata": {},
   "outputs": [],
   "source": [
    "# drop because only the successful projects can use the spotlight function \n",
    "df2.drop([\"spotlight\"], inplace= True, axis=1)"
   ]
  },
  {
   "cell_type": "markdown",
   "metadata": {},
   "source": [
    "### \"staff_pick\""
   ]
  },
  {
   "cell_type": "code",
   "execution_count": 368,
   "metadata": {},
   "outputs": [
    {
     "data": {
      "text/plain": [
       "False    166671\n",
       "True      25993\n",
       "Name: staff_pick, dtype: int64"
      ]
     },
     "execution_count": 368,
     "metadata": {},
     "output_type": "execute_result"
    }
   ],
   "source": [
    "df2[\"staff_pick\"].value_counts()"
   ]
  },
  {
   "cell_type": "markdown",
   "metadata": {},
   "source": [
    "### \"creator_id\""
   ]
  },
  {
   "cell_type": "code",
   "execution_count": 369,
   "metadata": {
    "scrolled": true
   },
   "outputs": [],
   "source": [
    "# count double entires in the column \"creator_id\" and save the reults in a new column\n",
    "df2[\"count_creator_id\"] = df2.groupby(\"creator_id\")[\"creator_id\"].transform('count')"
   ]
  },
  {
   "cell_type": "code",
   "execution_count": 370,
   "metadata": {
    "scrolled": true
   },
   "outputs": [
    {
     "data": {
      "text/plain": [
       "1     117387\n",
       "2      46008\n",
       "3       9723\n",
       "4       5868\n",
       "5       2975\n",
       "6       2256\n",
       "7       1372\n",
       "8       1192\n",
       "9        909\n",
       "10       570\n",
       "11       473\n",
       "13       364\n",
       "14       322\n",
       "12       288\n",
       "15       285\n",
       "16       272\n",
       "19       247\n",
       "18       234\n",
       "25       175\n",
       "20       160\n",
       "22       132\n",
       "17       119\n",
       "28       112\n",
       "27       108\n",
       "23        92\n",
       "21        84\n",
       "39        78\n",
       "75        75\n",
       "34        68\n",
       "32        64\n",
       "30        60\n",
       "60        60\n",
       "59        59\n",
       "55        55\n",
       "53        53\n",
       "26        52\n",
       "52        52\n",
       "51        51\n",
       "45        45\n",
       "40        40\n",
       "37        37\n",
       "33        33\n",
       "31        31\n",
       "24        24\n",
       "Name: count_creator_id, dtype: int64"
      ]
     },
     "execution_count": 370,
     "metadata": {},
     "output_type": "execute_result"
    }
   ],
   "source": [
    "df2[\"count_creator_id\"].value_counts()"
   ]
  },
  {
   "cell_type": "markdown",
   "metadata": {},
   "source": [
    "### \"profile_test_project_id\""
   ]
  },
  {
   "cell_type": "code",
   "execution_count": 371,
   "metadata": {},
   "outputs": [],
   "source": [
    "# count double entires in the column \"count_profile_id\" and save the reults in a new column\n",
    "df2[\"count_profile_id\"] = df2.groupby(\"profile_test_project_id\")[\"profile_test_project_id\"].transform('count')"
   ]
  },
  {
   "cell_type": "code",
   "execution_count": 372,
   "metadata": {},
   "outputs": [
    {
     "data": {
      "text/plain": [
       "1    145294\n",
       "2     47370\n",
       "Name: count_profile_id, dtype: int64"
      ]
     },
     "execution_count": 372,
     "metadata": {},
     "output_type": "execute_result"
    }
   ],
   "source": [
    "df2[\"count_profile_id\"].value_counts()"
   ]
  },
  {
   "cell_type": "code",
   "execution_count": 373,
   "metadata": {},
   "outputs": [],
   "source": [
    "# same results like the column id, that's why drop the column \n",
    "df2.drop([\"profile_test_project_id\", \"count_profile_id\"], inplace= True, axis=1)"
   ]
  },
  {
   "cell_type": "markdown",
   "metadata": {},
   "source": [
    "### profile_test_state"
   ]
  },
  {
   "cell_type": "code",
   "execution_count": 374,
   "metadata": {},
   "outputs": [
    {
     "data": {
      "text/plain": [
       "inactive    155264\n",
       "active       37400\n",
       "Name: profile_test_state, dtype: int64"
      ]
     },
     "execution_count": 374,
     "metadata": {},
     "output_type": "execute_result"
    }
   ],
   "source": [
    "df2[\"profile_test_state\"].value_counts()"
   ]
  },
  {
   "cell_type": "markdown",
   "metadata": {},
   "source": [
    "### \"category_name\""
   ]
  },
  {
   "cell_type": "code",
   "execution_count": 375,
   "metadata": {},
   "outputs": [
    {
     "data": {
      "text/plain": [
       "1      Playing Cards\n",
       "2               Rock\n",
       "3      Playing Cards\n",
       "4         Nonfiction\n",
       "5    Classical Music\n",
       "Name: category_name, dtype: object"
      ]
     },
     "execution_count": 375,
     "metadata": {},
     "output_type": "execute_result"
    }
   ],
   "source": [
    "df2[\"category_name\"].head()"
   ]
  },
  {
   "cell_type": "code",
   "execution_count": 376,
   "metadata": {},
   "outputs": [
    {
     "data": {
      "text/plain": [
       "159"
      ]
     },
     "execution_count": 376,
     "metadata": {},
     "output_type": "execute_result"
    }
   ],
   "source": [
    "len(df2[\"category_name\"].value_counts())"
   ]
  },
  {
   "cell_type": "markdown",
   "metadata": {},
   "source": [
    "### \"category_slug\""
   ]
  },
  {
   "cell_type": "code",
   "execution_count": 377,
   "metadata": {
    "scrolled": true
   },
   "outputs": [
    {
     "data": {
      "text/plain": [
       "169"
      ]
     },
     "execution_count": 377,
     "metadata": {},
     "output_type": "execute_result"
    }
   ],
   "source": [
    "len(df2[\"category_slug\"].value_counts())"
   ]
  },
  {
   "cell_type": "code",
   "execution_count": 378,
   "metadata": {},
   "outputs": [
    {
     "data": {
      "text/plain": [
       "1    games/playing cards\n",
       "Name: category_slug, dtype: object"
      ]
     },
     "execution_count": 378,
     "metadata": {},
     "output_type": "execute_result"
    }
   ],
   "source": [
    "df2[\"category_slug\"].head(1)"
   ]
  },
  {
   "cell_type": "code",
   "execution_count": 379,
   "metadata": {},
   "outputs": [],
   "source": [
    "# create a new feature with the parent category\n",
    "df2[\"parent_category\"], df2[\"category\"] = df2[\"category_slug\"].str.split('/', 1).str"
   ]
  },
  {
   "cell_type": "code",
   "execution_count": 380,
   "metadata": {},
   "outputs": [
    {
     "data": {
      "text/plain": [
       "music           25920\n",
       "film & video    25653\n",
       "technology      19476\n",
       "art             19217\n",
       "publishing      18690\n",
       "food            14948\n",
       "games           12452\n",
       "fashion         10764\n",
       "comics           8190\n",
       "design           7680\n",
       "photography      7390\n",
       "crafts           6549\n",
       "theater          6478\n",
       "journalism       5338\n",
       "dance            3919\n",
       "Name: parent_category, dtype: int64"
      ]
     },
     "execution_count": 380,
     "metadata": {},
     "output_type": "execute_result"
    }
   ],
   "source": [
    "df2[\"parent_category\"].value_counts()"
   ]
  },
  {
   "cell_type": "code",
   "execution_count": 381,
   "metadata": {},
   "outputs": [
    {
     "data": {
      "text/plain": [
       "144"
      ]
     },
     "execution_count": 381,
     "metadata": {},
     "output_type": "execute_result"
    }
   ],
   "source": [
    "len(df2[\"category\"].value_counts())"
   ]
  },
  {
   "cell_type": "code",
   "execution_count": 382,
   "metadata": {},
   "outputs": [],
   "source": [
    "# drop \"category\" because category_name have more contant\n",
    "df2.drop([\"category_slug\", \"category\"], inplace = True, axis=1 )"
   ]
  },
  {
   "cell_type": "markdown",
   "metadata": {},
   "source": [
    "### \"Category_position\" and \"category_parent_id\""
   ]
  },
  {
   "cell_type": "code",
   "execution_count": 383,
   "metadata": {
    "scrolled": true
   },
   "outputs": [
    {
     "data": {
      "text/plain": [
       "5     21489\n",
       "3     20897\n",
       "4     20145\n",
       "2     16881\n",
       "6     14675\n",
       "7     13845\n",
       "1     12937\n",
       "8     11412\n",
       "9     11177\n",
       "10    10225\n",
       "14     6753\n",
       "11     6515\n",
       "15     4677\n",
       "12     4455\n",
       "13     4247\n",
       "17     3567\n",
       "16     3303\n",
       "18     2997\n",
       "19     2467\n",
       "Name: category_position, dtype: int64"
      ]
     },
     "execution_count": 383,
     "metadata": {},
     "output_type": "execute_result"
    }
   ],
   "source": [
    "df2[\"category_position\"].value_counts()"
   ]
  },
  {
   "cell_type": "code",
   "execution_count": 384,
   "metadata": {},
   "outputs": [
    {
     "data": {
      "text/plain": [
       "11.0    25411\n",
       "14.0    25199\n",
       "16.0    19147\n",
       "18.0    18397\n",
       "1.0     18381\n",
       "10.0    14437\n",
       "12.0    12398\n",
       "9.0     10591\n",
       "3.0      7837\n",
       "7.0      7489\n",
       "15.0     6759\n",
       "17.0     5920\n",
       "26.0     5353\n",
       "13.0     4624\n",
       "6.0      2445\n",
       "Name: category_parent_id, dtype: int64"
      ]
     },
     "execution_count": 384,
     "metadata": {},
     "output_type": "execute_result"
    }
   ],
   "source": [
    "df2[\"category_parent_id\"].value_counts()"
   ]
  },
  {
   "cell_type": "markdown",
   "metadata": {},
   "source": [
    "### \"location name\", \"location_country\" and \"location_localized_name\""
   ]
  },
  {
   "cell_type": "code",
   "execution_count": 385,
   "metadata": {},
   "outputs": [
    {
     "data": {
      "text/plain": [
       "12343"
      ]
     },
     "execution_count": 385,
     "metadata": {},
     "output_type": "execute_result"
    }
   ],
   "source": [
    "len(df2[\"location_name\"].value_counts())"
   ]
  },
  {
   "cell_type": "code",
   "execution_count": 386,
   "metadata": {},
   "outputs": [
    {
     "data": {
      "text/plain": [
       "1           Euless\n",
       "2        Hollywood\n",
       "3           Kaunas\n",
       "4    Traverse City\n",
       "5        Annapolis\n",
       "Name: location_name, dtype: object"
      ]
     },
     "execution_count": 386,
     "metadata": {},
     "output_type": "execute_result"
    }
   ],
   "source": [
    "df2[\"location_name\"].head()"
   ]
  },
  {
   "cell_type": "code",
   "execution_count": 387,
   "metadata": {},
   "outputs": [
    {
     "data": {
      "text/plain": [
       "1           Euless\n",
       "2        Hollywood\n",
       "3           Kaunas\n",
       "4    Traverse City\n",
       "5        Annapolis\n",
       "Name: location_localized_name, dtype: object"
      ]
     },
     "execution_count": 387,
     "metadata": {},
     "output_type": "execute_result"
    }
   ],
   "source": [
    "df2[\"location_localized_name\"].head()"
   ]
  },
  {
   "cell_type": "code",
   "execution_count": 388,
   "metadata": {},
   "outputs": [
    {
     "data": {
      "text/plain": [
       "0"
      ]
     },
     "execution_count": 388,
     "metadata": {},
     "output_type": "execute_result"
    }
   ],
   "source": [
    "len(df2[df2[\"location_name\"] != df2[\"location_localized_name\"]])"
   ]
  },
  {
   "cell_type": "code",
   "execution_count": 389,
   "metadata": {},
   "outputs": [],
   "source": [
    "# there are no difference betweeen \"location_name\" and \"location_localized_name\", that´s why we drop one of them\n",
    "df2.drop([\"location_localized_name\"], inplace= True, axis = 1)"
   ]
  },
  {
   "cell_type": "code",
   "execution_count": 390,
   "metadata": {
    "scrolled": true
   },
   "outputs": [
    {
     "data": {
      "text/plain": [
       "US    133194\n",
       "GB     20553\n",
       "CA      8659\n",
       "AU      4186\n",
       "DE      2974\n",
       "FR      2450\n",
       "MX      2219\n",
       "IT      2172\n",
       "ES      1771\n",
       "NL      1534\n",
       "SE      1273\n",
       "HK       946\n",
       "NZ       871\n",
       "DK       825\n",
       "JP       692\n",
       "SG       608\n",
       "CH       601\n",
       "IE       580\n",
       "NO       455\n",
       "BE       451\n",
       "AT       440\n",
       "CN       342\n",
       "         215\n",
       "IN       193\n",
       "PL       158\n",
       "UA       152\n",
       "KR       150\n",
       "PR       138\n",
       "TH       135\n",
       "IL       125\n",
       "       ...  \n",
       "NC         2\n",
       "SS         2\n",
       "AX         2\n",
       "DJ         2\n",
       "SX         2\n",
       "FM         2\n",
       "KW         2\n",
       "SO         2\n",
       "AL         2\n",
       "TC         2\n",
       "AZ         1\n",
       "GQ         1\n",
       "VA         1\n",
       "MR         1\n",
       "LC         1\n",
       "KN         1\n",
       "GI         1\n",
       "KI         1\n",
       "TL         1\n",
       "GA         1\n",
       "LS         1\n",
       "BJ         1\n",
       "SC         1\n",
       "SZ         1\n",
       "SD         1\n",
       "TJ         1\n",
       "QA         1\n",
       "CV         1\n",
       "MQ         1\n",
       "SA         1\n",
       "Name: location_country, Length: 196, dtype: int64"
      ]
     },
     "execution_count": 390,
     "metadata": {},
     "output_type": "execute_result"
    }
   ],
   "source": [
    "df2[\"location_country\"].value_counts()"
   ]
  },
  {
   "cell_type": "code",
   "execution_count": 391,
   "metadata": {},
   "outputs": [
    {
     "data": {
      "text/html": [
       "<div>\n",
       "<style scoped>\n",
       "    .dataframe tbody tr th:only-of-type {\n",
       "        vertical-align: middle;\n",
       "    }\n",
       "\n",
       "    .dataframe tbody tr th {\n",
       "        vertical-align: top;\n",
       "    }\n",
       "\n",
       "    .dataframe thead th {\n",
       "        text-align: right;\n",
       "    }\n",
       "</style>\n",
       "<table border=\"1\" class=\"dataframe\">\n",
       "  <thead>\n",
       "    <tr style=\"text-align: right;\">\n",
       "      <th></th>\n",
       "      <th>Number</th>\n",
       "    </tr>\n",
       "  </thead>\n",
       "  <tbody>\n",
       "    <tr>\n",
       "      <th>usd_type</th>\n",
       "      <td>38</td>\n",
       "    </tr>\n",
       "    <tr>\n",
       "      <th>category_parent_id</th>\n",
       "      <td>8276</td>\n",
       "    </tr>\n",
       "  </tbody>\n",
       "</table>\n",
       "</div>"
      ],
      "text/plain": [
       "                    Number\n",
       "usd_type                38\n",
       "category_parent_id    8276"
      ]
     },
     "execution_count": 391,
     "metadata": {},
     "output_type": "execute_result"
    }
   ],
   "source": [
    "# After deleting so many rows and columns, let's take another look at the missing data\n",
    "missing = pd.DataFrame(df2.isnull().sum(),columns=['Number'])\n",
    "missing[missing.Number!=0]"
   ]
  },
  {
   "cell_type": "code",
   "execution_count": 392,
   "metadata": {},
   "outputs": [],
   "source": [
    "\n",
    "df2.drop([\"category_parent_id\"], axis=1, inplace = True)"
   ]
  },
  {
   "cell_type": "code",
   "execution_count": 393,
   "metadata": {},
   "outputs": [],
   "source": [
    "df2.drop([\n",
    "    \"converted_pledged_amount\", \"current_currency\",\n",
    "    \"disable_communication\",\"static_usd_rate\", \n",
    "    \"creator_id\",\n",
    "    \"profile_test_id\",\n",
    "    \"profile_test_state\", \"category_color\", \"location_name\"],\n",
    "    axis=1, inplace=True)"
   ]
  },
  {
   "cell_type": "code",
   "execution_count": 394,
   "metadata": {},
   "outputs": [
    {
     "data": {
      "text/plain": [
       "backers_count               3206\n",
       "country                       22\n",
       "currency                      14\n",
       "currency_trailing_code         2\n",
       "staff_pick                     2\n",
       "state                          2\n",
       "usd_pledged                75218\n",
       "usd_type                       2\n",
       "category_name                159\n",
       "category_position             19\n",
       "location_country             196\n",
       "location_type                 10\n",
       "blurb_length                 153\n",
       "name_length                   85\n",
       "country_US                     2\n",
       "duration                   47963\n",
       "preparation               160540\n",
       "act_duration               50102\n",
       "USD_goal                   46164\n",
       "count_id                       2\n",
       "count_creator_id              44\n",
       "parent_category               15\n",
       "dtype: int64"
      ]
     },
     "execution_count": 394,
     "metadata": {},
     "output_type": "execute_result"
    }
   ],
   "source": [
    "df2.nunique()"
   ]
  },
  {
   "cell_type": "markdown",
   "metadata": {},
   "source": [
    "# Data Exploration"
   ]
  },
  {
   "cell_type": "markdown",
   "metadata": {},
   "source": [
    "## Train- Test Split"
   ]
  },
  {
   "cell_type": "code",
   "execution_count": 395,
   "metadata": {},
   "outputs": [
    {
     "name": "stdout",
     "output_type": "stream",
     "text": [
      "(192664, 21)\n",
      "(192664,)\n"
     ]
    }
   ],
   "source": [
    "X = df2.drop(\"state\", axis=1)\n",
    "y = df2[\"state\"]\n",
    "print(X.shape)\n",
    "print(y.shape)"
   ]
  },
  {
   "cell_type": "code",
   "execution_count": 396,
   "metadata": {},
   "outputs": [],
   "source": [
    "X_train, X_test, y_train, y_test = train_test_split(X, y, test_size=0.25, random_state=42)"
   ]
  },
  {
   "cell_type": "code",
   "execution_count": 397,
   "metadata": {},
   "outputs": [],
   "source": [
    "train_data = X_train.join(y_train)"
   ]
  },
  {
   "cell_type": "markdown",
   "metadata": {},
   "source": [
    "## successful"
   ]
  },
  {
   "cell_type": "code",
   "execution_count": 398,
   "metadata": {
    "scrolled": true
   },
   "outputs": [
    {
     "data": {
      "image/png": "[encoded data removed]",
      "text/plain": [
       "<Figure size 432x288 with 1 Axes>"
      ]
     },
     "metadata": {},
     "output_type": "display_data"
    }
   ],
   "source": [
    "ax = sns.countplot(x=\"state\", data=train_data)\n",
    "plt.savefig('figures/bar_successful.png')"
   ]
  },
  {
   "cell_type": "markdown",
   "metadata": {},
   "source": [
    "## USD-Goal"
   ]
  },
  {
   "cell_type": "code",
   "execution_count": 399,
   "metadata": {},
   "outputs": [
    {
     "data": {
      "text/plain": [
       "count    1.926640e+05\n",
       "mean     3.778767e+04\n",
       "std      1.065709e+06\n",
       "min      1.000000e-02\n",
       "25%      1.500000e+03\n",
       "50%      5.000000e+03\n",
       "75%      1.244704e+04\n",
       "max      1.523501e+08\n",
       "Name: USD_goal, dtype: float64"
      ]
     },
     "execution_count": 399,
     "metadata": {},
     "output_type": "execute_result"
    }
   ],
   "source": [
    "df2[\"USD_goal\"].describe()"
   ]
  },
  {
   "cell_type": "code",
   "execution_count": 400,
   "metadata": {
    "scrolled": false
   },
   "outputs": [
    {
     "data": {
      "image/png": "[encoded data removed]",
      "text/plain": [
       "<Figure size 720x576 with 1 Axes>"
      ]
     },
     "metadata": {},
     "output_type": "display_data"
    }
   ],
   "source": [
    "plt.figure(figsize=(10,8))\n",
    "ax= sns.boxplot(x=\"state\", y= \"USD_goal\", data= train_data, palette=sns.xkcd_palette(['green','blue']))\n",
    "ax.set(ylim=(0, 30000));\n",
    "\n",
    "ax.set_xlabel(\"State\",fontsize=20);\n",
    "ax.set_ylabel(\"Goal (USD)\",fontsize=20);\n",
    "ax.set_title(\"Boxplot for Goal divided by status \",fontsize=20);\n",
    "plt.xticks(fontsize= 18)\n",
    "plt.yticks(fontsize= 18)\n",
    "plt.savefig('figures/boxplot_USD_goal(median)_state1.png')"
   ]
  },
  {
   "cell_type": "code",
   "execution_count": 401,
   "metadata": {},
   "outputs": [
    {
     "data": {
      "text/plain": [
       "state\n",
       "failed        7213.27935\n",
       "successful    3500.00000\n",
       "Name: USD_goal, dtype: float64"
      ]
     },
     "execution_count": 401,
     "metadata": {},
     "output_type": "execute_result"
    }
   ],
   "source": [
    "train_data.groupby(\"state\")[\"USD_goal\"].median()"
   ]
  },
  {
   "cell_type": "code",
   "execution_count": 402,
   "metadata": {
    "scrolled": false
   },
   "outputs": [
    {
     "data": {
      "image/png": "[encoded data removed]",
      "text/plain": [
       "<Figure size 432x288 with 1 Axes>"
      ]
     },
     "metadata": {},
     "output_type": "display_data"
    }
   ],
   "source": [
    "sns.barplot(x=\"state\", y=\"USD_goal\", data=train_data, estimator=median)\n",
    "plt.savefig('figures/bar_USD_goal(median)_state.png')"
   ]
  },
  {
   "cell_type": "code",
   "execution_count": 403,
   "metadata": {},
   "outputs": [],
   "source": [
    "#plt.figure(figsize=(12,5))\n",
    "#ax= sns.barplot(x=SucCountry.index, y= SucCountry, palette='pastel')\n",
    "#ax.ylabel(\"Goal (in USD)\", fontsize = 12)\n",
    "#ax.xlabel(\"Category\", fontsize = 12)\n",
    "#ax.set_xlabel(\"Country\",fontsize=14);\n",
    "#ax.set_ylabel(\"Percent successful\",fontsize=14);\n",
    "#ax.set_title(\"Percent of successful projects per country\",fontsize=14);\n",
    "#plt.yticks(fontsize= 19)\n",
    "#plt.yticks(fontsize= 19)\n",
    "#plt.savefig('figures/Country_succes_inPercent.png')"
   ]
  },
  {
   "cell_type": "markdown",
   "metadata": {
    "code_folding": []
   },
   "source": [
    "## country"
   ]
  },
  {
   "cell_type": "code",
   "execution_count": 404,
   "metadata": {},
   "outputs": [
    {
     "data": {
      "image/png": "[encoded data removed]",
      "text/plain": [
       "<Figure size 432x288 with 1 Axes>"
      ]
     },
     "metadata": {},
     "output_type": "display_data"
    }
   ],
   "source": [
    "sns.countplot(x=\"country\", data=train_data, hue=\"state\", order=train_data[\"country\"].value_counts().iloc[:5].index)\n",
    "plt.savefig('figures/countplot_top_five_countrys.png')"
   ]
  },
  {
   "cell_type": "code",
   "execution_count": 405,
   "metadata": {
    "scrolled": true
   },
   "outputs": [
    {
     "data": {
      "image/png": "[encoded data removed]",
      "text/plain": [
       "<Figure size 432x288 with 1 Axes>"
      ]
     },
     "metadata": {},
     "output_type": "display_data"
    }
   ],
   "source": [
    "sns.countplot(x=\"country\", data=train_data, hue=\"state\", order=train_data[\"country\"].value_counts().iloc[2:9].index)\n",
    "plt.savefig('figures/countplot_top_countrys_without_USandGB.png')"
   ]
  },
  {
   "cell_type": "code",
   "execution_count": 406,
   "metadata": {
    "scrolled": false
   },
   "outputs": [
    {
     "data": {
      "text/plain": [
       "<matplotlib.axes._subplots.AxesSubplot at 0x7fa874d0fcc0>"
      ]
     },
     "execution_count": 406,
     "metadata": {},
     "output_type": "execute_result"
    },
    {
     "data": {
      "image/png": "[encoded data removed]",
      "text/plain": [
       "<Figure size 432x288 with 1 Axes>"
      ]
     },
     "metadata": {},
     "output_type": "display_data"
    }
   ],
   "source": [
    "sns.countplot(x=\"country\", data=train_data[train_data[\"state\"]==\"successful\"], order=train_data[\"country\"].value_counts().iloc[:5].index)"
   ]
  },
  {
   "cell_type": "code",
   "execution_count": 407,
   "metadata": {
    "scrolled": false
   },
   "outputs": [
    {
     "data": {
      "image/png": "[encoded data removed]",
      "text/plain": [
       "<Figure size 432x288 with 1 Axes>"
      ]
     },
     "metadata": {},
     "output_type": "display_data"
    }
   ],
   "source": [
    "sns.countplot(x=\"country_US\", data=train_data)\n",
    "plt.savefig('figures/barplot_country_US.png')"
   ]
  },
  {
   "cell_type": "code",
   "execution_count": 408,
   "metadata": {
    "scrolled": true
   },
   "outputs": [
    {
     "data": {
      "image/png": "[encoded data removed]",
      "text/plain": [
       "<Figure size 432x288 with 1 Axes>"
      ]
     },
     "metadata": {},
     "output_type": "display_data"
    }
   ],
   "source": [
    "sns.countplot(x=\"state\", data=train_data, hue=\"country_US\")\n",
    "plt.savefig('figures/barplot_country_US_state.png')"
   ]
  },
  {
   "cell_type": "markdown",
   "metadata": {},
   "source": [
    "## \"creator ID\""
   ]
  },
  {
   "cell_type": "code",
   "execution_count": null,
   "metadata": {},
   "outputs": [],
   "source": []
  },
  {
   "cell_type": "code",
   "execution_count": 409,
   "metadata": {
    "scrolled": false
   },
   "outputs": [
    {
     "data": {
      "text/plain": [
       "1     88051\n",
       "2     34494\n",
       "3      7264\n",
       "4      4384\n",
       "5      2241\n",
       "6      1700\n",
       "7      1027\n",
       "8       908\n",
       "9       675\n",
       "10      442\n",
       "11      351\n",
       "13      279\n",
       "14      249\n",
       "12      216\n",
       "15      209\n",
       "16      207\n",
       "18      174\n",
       "19      171\n",
       "25      129\n",
       "20      128\n",
       "17       97\n",
       "22       96\n",
       "28       86\n",
       "27       82\n",
       "21       65\n",
       "23       61\n",
       "39       58\n",
       "75       54\n",
       "30       54\n",
       "32       50\n",
       "34       48\n",
       "26       47\n",
       "51       42\n",
       "52       42\n",
       "59       42\n",
       "55       41\n",
       "60       41\n",
       "53       38\n",
       "45       30\n",
       "37       29\n",
       "31       28\n",
       "33       28\n",
       "40       27\n",
       "24       13\n",
       "Name: count_creator_id, dtype: int64"
      ]
     },
     "execution_count": 409,
     "metadata": {},
     "output_type": "execute_result"
    }
   ],
   "source": [
    "train_data[\"count_creator_id\"].value_counts()\n"
   ]
  },
  {
   "cell_type": "code",
   "execution_count": 410,
   "metadata": {
    "scrolled": true
   },
   "outputs": [
    {
     "data": {
      "text/plain": [
       "<matplotlib.axes._subplots.AxesSubplot at 0x7fa8718ccc50>"
      ]
     },
     "execution_count": 410,
     "metadata": {},
     "output_type": "execute_result"
    },
    {
     "data": {
      "image/png": "[encoded data removed]",
      "text/plain": [
       "<Figure size 432x288 with 1 Axes>"
      ]
     },
     "metadata": {},
     "output_type": "display_data"
    }
   ],
   "source": [
    "sns.countplot(x=\"count_creator_id\", data=train_data)\n"
   ]
  },
  {
   "cell_type": "code",
   "execution_count": 411,
   "metadata": {},
   "outputs": [
    {
     "data": {
      "text/plain": [
       "<matplotlib.axes._subplots.AxesSubplot at 0x7fa87cc7a7f0>"
      ]
     },
     "execution_count": 411,
     "metadata": {},
     "output_type": "execute_result"
    },
    {
     "data": {
      "image/png": "[encoded data removed]",
      "text/plain": [
       "<Figure size 432x288 with 1 Axes>"
      ]
     },
     "metadata": {},
     "output_type": "display_data"
    }
   ],
   "source": [
    "sns.countplot(x=\"state\", data=train_data, hue=\"count_id\")"
   ]
  },
  {
   "cell_type": "markdown",
   "metadata": {},
   "source": [
    "## \"category\""
   ]
  },
  {
   "cell_type": "code",
   "execution_count": 412,
   "metadata": {},
   "outputs": [],
   "source": [
    "train_data[\"help_count\"]=1"
   ]
  },
  {
   "cell_type": "code",
   "execution_count": 413,
   "metadata": {},
   "outputs": [],
   "source": [
    "category_successfull = train_data[train_data[\"state\"]== \"successful\"].groupby(\"parent_category\")[\"help_count\"].sum()\n",
    "#category_successfull"
   ]
  },
  {
   "cell_type": "code",
   "execution_count": 414,
   "metadata": {},
   "outputs": [],
   "source": [
    "category_count = train_data.groupby(\"parent_category\")[\"help_count\"].sum()\n",
    "#category_count"
   ]
  },
  {
   "cell_type": "code",
   "execution_count": 415,
   "metadata": {},
   "outputs": [],
   "source": [
    "relationship = (category_successfull/category_count)*100\n",
    "relationship.sort_values(ascending=False, inplace=True)\n",
    "# relationship"
   ]
  },
  {
   "cell_type": "code",
   "execution_count": 416,
   "metadata": {},
   "outputs": [
    {
     "data": {
      "image/png": "[encoded data removed]",
      "text/plain": [
       "<Figure size 1584x504 with 1 Axes>"
      ]
     },
     "metadata": {},
     "output_type": "display_data"
    }
   ],
   "source": [
    "plt.figure(figsize=(22,7))\n",
    "ax = sns.barplot(x=relationship.index ,y =relationship.values)\n",
    "ax.set_xlabel(\"Category\",fontsize=20);\n",
    "ax.set_ylabel(\"Percent successful\",fontsize=20);\n",
    "ax.set_title(\"Percent of successful projects per Category\",fontsize=20);\n",
    "plt.xticks(fontsize= 19)\n",
    "plt.yticks(fontsize= 19)\n",
    "plt.savefig('figures/Percent of successful projects per Category.png')\n"
   ]
  },
  {
   "cell_type": "code",
   "execution_count": 417,
   "metadata": {
    "scrolled": false
   },
   "outputs": [
    {
     "data": {
      "image/png": "[encoded data removed]",
      "text/plain": [
       "<Figure size 1584x504 with 1 Axes>"
      ]
     },
     "metadata": {},
     "output_type": "display_data"
    }
   ],
   "source": [
    "plt.figure(figsize=(22,7))\n",
    "ax = sns.barplot(x=\"parent_category\",y=\"USD_goal\", estimator=median, hue= \"state\", data=train_data)\n",
    "ax.set_xlabel(\"Category\",fontsize=22);\n",
    "ax.set_ylabel(\"median Goal (USD)\",fontsize=22);\n",
    "ax.set_title(\"median Goal (USD) per Category divided by status\",fontsize=22)\n",
    "plt.xticks(fontsize= 20, rotation=20)\n",
    "plt.yticks(fontsize= 20)\n",
    "plt.legend(fontsize= 20)\n",
    "plt.savefig('figures/median Goal (USD) per Category divided by status.png')\n"
   ]
  },
  {
   "cell_type": "markdown",
   "metadata": {},
   "source": [
    "## \"backers count\""
   ]
  },
  {
   "cell_type": "code",
   "execution_count": 418,
   "metadata": {},
   "outputs": [
    {
     "data": {
      "image/png": "[encoded data removed]",
      "text/plain": [
       "<Figure size 432x288 with 1 Axes>"
      ]
     },
     "metadata": {},
     "output_type": "display_data"
    }
   ],
   "source": [
    "sns.barplot(x=\"country\",y=\"backers_count\", estimator= median,data=train_data, order=train_data[\"country\"].value_counts().iloc[:7].index)\n",
    "plt.savefig('figures/barplot_backerscount(median)_sorted_by_the top_7_countries.png')"
   ]
  },
  {
   "cell_type": "markdown",
   "metadata": {},
   "source": [
    "## staff-pick"
   ]
  },
  {
   "cell_type": "code",
   "execution_count": 419,
   "metadata": {},
   "outputs": [
    {
     "data": {
      "image/png": "[encoded data removed]",
      "text/plain": [
       "<Figure size 432x288 with 1 Axes>"
      ]
     },
     "metadata": {},
     "output_type": "display_data"
    }
   ],
   "source": [
    "sns.countplot(hue=\"state\", data=train_data, x=\"staff_pick\")\n",
    "plt.savefig('figures/barplot_staff-pick_state.png')"
   ]
  },
  {
   "cell_type": "code",
   "execution_count": null,
   "metadata": {},
   "outputs": [],
   "source": []
  },
  {
   "cell_type": "markdown",
   "metadata": {},
   "source": [
    "## Duration"
   ]
  },
  {
   "cell_type": "code",
   "execution_count": 420,
   "metadata": {},
   "outputs": [
    {
     "data": {
      "image/png": "[encoded data removed]",
      "text/plain": [
       "<Figure size 360x576 with 1 Axes>"
      ]
     },
     "metadata": {},
     "output_type": "display_data"
    }
   ],
   "source": [
    "plt.figure(figsize=(5,8))\n",
    "ax=sns.boxplot(y= \"duration\", x=\"state\", data= train_data, showfliers=False)"
   ]
  },
  {
   "cell_type": "code",
   "execution_count": 421,
   "metadata": {},
   "outputs": [
    {
     "data": {
      "text/plain": [
       "<matplotlib.axes._subplots.AxesSubplot at 0x7fa7980096a0>"
      ]
     },
     "execution_count": 421,
     "metadata": {},
     "output_type": "execute_result"
    },
    {
     "data": {
      "image/png": "[encoded data removed]",
      "text/plain": [
       "<Figure size 432x288 with 1 Axes>"
      ]
     },
     "metadata": {},
     "output_type": "display_data"
    }
   ],
   "source": [
    "sns.scatterplot(x=\"duration\", y=\"state\",\n",
    "                #hue=\"clarity\", size=\"depth\",\n",
    "                #palette=\"ch:r=-.2,d=.3_r\",\n",
    "                #hue_order=clarity_ranking,\n",
    "                #sizes=(1, 8), linewidth=0,\n",
    "                data=train_data)"
   ]
  },
  {
   "cell_type": "markdown",
   "metadata": {},
   "source": [
    "## blurb length"
   ]
  },
  {
   "cell_type": "code",
   "execution_count": 422,
   "metadata": {
    "scrolled": true
   },
   "outputs": [
    {
     "data": {
      "image/png": "[encoded data removed]",
      "text/plain": [
       "<Figure size 432x288 with 1 Axes>"
      ]
     },
     "metadata": {},
     "output_type": "display_data"
    }
   ],
   "source": [
    "ax = sns.barplot(x= \"state\", y =\"blurb_length\", estimator= median, data=train_data)"
   ]
  },
  {
   "cell_type": "code",
   "execution_count": 423,
   "metadata": {},
   "outputs": [
    {
     "data": {
      "text/plain": [
       "<matplotlib.axes._subplots.AxesSubplot at 0x7fa844d344e0>"
      ]
     },
     "execution_count": 423,
     "metadata": {},
     "output_type": "execute_result"
    },
    {
     "data": {
      "image/png": "[encoded data removed]",
      "text/plain": [
       "<Figure size 432x288 with 1 Axes>"
      ]
     },
     "metadata": {},
     "output_type": "display_data"
    }
   ],
   "source": [
    "sns.distplot(train_data[\"blurb_length\"],color=\"b\",hist=True)\n"
   ]
  },
  {
   "cell_type": "markdown",
   "metadata": {},
   "source": [
    "## name length "
   ]
  },
  {
   "cell_type": "code",
   "execution_count": 424,
   "metadata": {},
   "outputs": [
    {
     "data": {
      "image/png": "[encoded data removed]",
      "text/plain": [
       "<Figure size 432x288 with 1 Axes>"
      ]
     },
     "metadata": {},
     "output_type": "display_data"
    }
   ],
   "source": [
    "ax = sns.barplot(x= \"state\", y =\"name_length\", estimator= median, data=train_data)"
   ]
  },
  {
   "cell_type": "code",
   "execution_count": 425,
   "metadata": {},
   "outputs": [],
   "source": [
    "df_test = train_data[train_data[\"name_length\"]<30]"
   ]
  },
  {
   "cell_type": "code",
   "execution_count": 426,
   "metadata": {
    "scrolled": true
   },
   "outputs": [
    {
     "data": {
      "image/png": "[encoded data removed]",
      "text/plain": [
       "<Figure size 432x288 with 1 Axes>"
      ]
     },
     "metadata": {},
     "output_type": "display_data"
    }
   ],
   "source": [
    "ax = sns.barplot(x= \"state\", y =\"name_length\", data=df_test)"
   ]
  },
  {
   "cell_type": "markdown",
   "metadata": {},
   "source": [
    "## correlation matrix"
   ]
  },
  {
   "cell_type": "code",
   "execution_count": 427,
   "metadata": {},
   "outputs": [
    {
     "data": {
      "image/png": "[encoded data removed]",
      "text/plain": [
       "<Figure size 720x720 with 2 Axes>"
      ]
     },
     "metadata": {},
     "output_type": "display_data"
    }
   ],
   "source": [
    "plt.figure(figsize=(10,10))\n",
    "ax=sns.heatmap(train_data.corr().round(2),cmap=\"coolwarm\",annot=True)\n",
    "plt.savefig('figures/correlations_matrix.png')"
   ]
  },
  {
   "cell_type": "markdown",
   "metadata": {},
   "source": [
    "# Predictive Modeling"
   ]
  },
  {
   "cell_type": "code",
   "execution_count": 428,
   "metadata": {
    "scrolled": true
   },
   "outputs": [
    {
     "data": {
      "text/plain": [
       "Index(['backers_count', 'country', 'currency', 'currency_trailing_code',\n",
       "       'staff_pick', 'state', 'usd_pledged', 'usd_type', 'category_name',\n",
       "       'category_position', 'location_country', 'location_type',\n",
       "       'blurb_length', 'name_length', 'country_US', 'duration', 'preparation',\n",
       "       'act_duration', 'USD_goal', 'count_id', 'count_creator_id',\n",
       "       'parent_category'],\n",
       "      dtype='object')"
      ]
     },
     "execution_count": 428,
     "metadata": {},
     "output_type": "execute_result"
    }
   ],
   "source": [
    "df2.columns"
   ]
  },
  {
   "cell_type": "code",
   "execution_count": 429,
   "metadata": {
    "scrolled": true
   },
   "outputs": [
    {
     "data": {
      "text/plain": [
       "['staff_pick',\n",
       " 'blurb_length',\n",
       " 'name_length',\n",
       " 'country_US',\n",
       " 'duration',\n",
       " 'USD_goal',\n",
       " 'count_creator_id']"
      ]
     },
     "execution_count": 429,
     "metadata": {},
     "output_type": "execute_result"
    }
   ],
   "source": [
    "num_features = list(df2.columns[df2.dtypes!=object])\n",
    "num_features.remove(\"backers_count\")\n",
    "num_features.remove(\"usd_pledged\")\n",
    "num_features.remove(\"category_position\")\n",
    "num_features.remove(\"preparation\")\n",
    "num_features.remove(\"currency_trailing_code\")\n",
    "num_features.remove(\"count_id\")\n",
    "num_features.remove(\"act_duration\")\n",
    "num_features"
   ]
  },
  {
   "cell_type": "code",
   "execution_count": 430,
   "metadata": {},
   "outputs": [
    {
     "data": {
      "text/plain": [
       "['country',\n",
       " 'currency',\n",
       " 'usd_type',\n",
       " 'location_country',\n",
       " 'location_type',\n",
       " 'parent_category']"
      ]
     },
     "execution_count": 430,
     "metadata": {},
     "output_type": "execute_result"
    }
   ],
   "source": [
    "cat_features = list(df2.columns[df2.dtypes==object])\n",
    "cat_features.remove(\"state\")\n",
    "cat_features.remove(\"category_name\")\n",
    "cat_features"
   ]
  },
  {
   "cell_type": "markdown",
   "metadata": {},
   "source": [
    "## built the Pipeline"
   ]
  },
  {
   "cell_type": "code",
   "execution_count": 431,
   "metadata": {},
   "outputs": [],
   "source": [
    "# Pipline for numerical features\n",
    "num_pipeline = Pipeline([\n",
    "    ('imputer_num', SimpleImputer(strategy='median')),\n",
    "    ('std_scaler', StandardScaler())])\n",
    "\n",
    "# Pipeline for categorical features \n",
    "cat_pipeline = Pipeline([\n",
    "    ('imputer_cat', SimpleImputer(strategy='constant', fill_value='missing')),\n",
    "    ('1hot', OneHotEncoder(handle_unknown='ignore'))])"
   ]
  },
  {
   "cell_type": "code",
   "execution_count": 432,
   "metadata": {},
   "outputs": [],
   "source": [
    "# Complete pipeline\n",
    "preprocessor = ColumnTransformer([\n",
    "                                ('num', num_pipeline, num_features),\n",
    "                                ('cat', cat_pipeline, cat_features)])"
   ]
  },
  {
   "cell_type": "markdown",
   "metadata": {},
   "source": [
    "## Logistic Regression"
   ]
  },
  {
   "cell_type": "code",
   "execution_count": 433,
   "metadata": {},
   "outputs": [],
   "source": [
    "pipe_logreg = Pipeline([\n",
    "    ('preprocessor', preprocessor),\n",
    "    ('logreg', LogisticRegression(max_iter=1000))\n",
    "])"
   ]
  },
  {
   "cell_type": "code",
   "execution_count": 434,
   "metadata": {},
   "outputs": [],
   "source": [
    "# Making predictions on the training set using cross validation as well as calculating the probabilities \n",
    "y_train_predicted_log = cross_val_predict(pipe_logreg, X_train, y_train, cv=5)"
   ]
  },
  {
   "cell_type": "code",
   "execution_count": 435,
   "metadata": {
    "scrolled": true
   },
   "outputs": [
    {
     "name": "stdout",
     "output_type": "stream",
     "text": [
      "Accuracy: 0.75\n",
      "              precision    recall  f1-score   support\n",
      "\n",
      "      failed       0.72      0.60      0.65     56545\n",
      "  successful       0.77      0.85      0.81     87953\n",
      "\n",
      "    accuracy                           0.75    144498\n",
      "   macro avg       0.74      0.73      0.73    144498\n",
      "weighted avg       0.75      0.75      0.75    144498\n",
      "\n"
     ]
    }
   ],
   "source": [
    "print(\"Accuracy: {:.2f}\".format(accuracy_score(y_train, y_train_predicted_log)))\n",
    "print(classification_report(y_train, y_train_predicted_log))"
   ]
  },
  {
   "cell_type": "markdown",
   "metadata": {},
   "source": [
    "### GridSearch"
   ]
  },
  {
   "cell_type": "code",
   "execution_count": 436,
   "metadata": {},
   "outputs": [],
   "source": [
    "param_logreg = {'logreg__penalty':('l1','l2'),\n",
    "                'logreg__C': [0.01, 0.1, 1, 10, 100]\n",
    "               }\n",
    "\n",
    "grid_logreg = GridSearchCV(pipe_logreg, param_grid=param_logreg, cv=3, scoring='accuracy', \n",
    "                           verbose=5, n_jobs=-1)"
   ]
  },
  {
   "cell_type": "code",
   "execution_count": 437,
   "metadata": {
    "scrolled": true
   },
   "outputs": [
    {
     "name": "stdout",
     "output_type": "stream",
     "text": [
      "Fitting 3 folds for each of 10 candidates, totalling 30 fits\n"
     ]
    },
    {
     "name": "stderr",
     "output_type": "stream",
     "text": [
      "[Parallel(n_jobs=-1)]: Using backend LokyBackend with 4 concurrent workers.\n",
      "[Parallel(n_jobs=-1)]: Done  10 tasks      | elapsed:    9.2s\n",
      "[Parallel(n_jobs=-1)]: Done  30 out of  30 | elapsed:   37.4s remaining:    0.0s\n",
      "[Parallel(n_jobs=-1)]: Done  30 out of  30 | elapsed:   37.4s finished\n"
     ]
    },
    {
     "data": {
      "text/plain": [
       "GridSearchCV(cv=3, error_score=nan,\n",
       "             estimator=Pipeline(memory=None,\n",
       "                                steps=[('preprocessor',\n",
       "                                        ColumnTransformer(n_jobs=None,\n",
       "                                                          remainder='drop',\n",
       "                                                          sparse_threshold=0.3,\n",
       "                                                          transformer_weights=None,\n",
       "                                                          transformers=[('num',\n",
       "                                                                         Pipeline(memory=None,\n",
       "                                                                                  steps=[('imputer_num',\n",
       "                                                                                          SimpleImputer(add_indicator=False,\n",
       "                                                                                                        copy=True,\n",
       "                                                                                                        fill_value=None,\n",
       "                                                                                                        missing_values=nan,\n",
       "                                                                                                        strategy='median',\n",
       "                                                                                                        verbose=...\n",
       "                                                           l1_ratio=None,\n",
       "                                                           max_iter=1000,\n",
       "                                                           multi_class='auto',\n",
       "                                                           n_jobs=None,\n",
       "                                                           penalty='l2',\n",
       "                                                           random_state=None,\n",
       "                                                           solver='lbfgs',\n",
       "                                                           tol=0.0001,\n",
       "                                                           verbose=0,\n",
       "                                                           warm_start=False))],\n",
       "                                verbose=False),\n",
       "             iid='deprecated', n_jobs=-1,\n",
       "             param_grid={'logreg__C': [0.01, 0.1, 1, 10, 100],\n",
       "                         'logreg__penalty': ('l1', 'l2')},\n",
       "             pre_dispatch='2*n_jobs', refit=True, return_train_score=False,\n",
       "             scoring='accuracy', verbose=5)"
      ]
     },
     "execution_count": 437,
     "metadata": {},
     "output_type": "execute_result"
    }
   ],
   "source": [
    "grid_logreg.fit(X_train, y_train)"
   ]
  },
  {
   "cell_type": "code",
   "execution_count": 438,
   "metadata": {
    "scrolled": true
   },
   "outputs": [
    {
     "name": "stdout",
     "output_type": "stream",
     "text": [
      "Best score:\n",
      "0.75\n",
      "Best parameters:\n",
      "{'logreg__C': 10, 'logreg__penalty': 'l2'}\n"
     ]
    }
   ],
   "source": [
    "# Show best parameters\n",
    "print('Best score:\\n{:.2f}'.format(grid_logreg.best_score_))\n",
    "print(\"Best parameters:\\n{}\".format(grid_logreg.best_params_))"
   ]
  },
  {
   "cell_type": "markdown",
   "metadata": {},
   "source": [
    "best score and best parameter bevore we remove \"currency_trailing_code\", \"count_id\", \"preparation\", \"act_duration\", \"category_name\"\n",
    "Best score:\n",
    "0.86\n",
    "Best parameters:\n",
    "{'logreg__C': 10, 'logreg__penalty': 'l2'}"
   ]
  },
  {
   "cell_type": "code",
   "execution_count": 439,
   "metadata": {},
   "outputs": [],
   "source": [
    "# Save best model as best_model\n",
    "best_model = grid_logreg.best_estimator_['logreg']"
   ]
  },
  {
   "cell_type": "markdown",
   "metadata": {},
   "source": [
    "## Random Forest"
   ]
  },
  {
   "cell_type": "code",
   "execution_count": 440,
   "metadata": {},
   "outputs": [],
   "source": [
    "pipe_R_forest= Pipeline([('preprocessor', preprocessor),\n",
    "                         ('classifier', RandomForestClassifier(n_estimators=70))])"
   ]
  },
  {
   "cell_type": "code",
   "execution_count": 441,
   "metadata": {},
   "outputs": [],
   "source": [
    "# Making predictions on the training set using cross validation as well as calculating the probabilities \n",
    "y_train_predicted_R_forest = cross_val_predict(pipe_R_forest, X_train, y_train, cv=5)"
   ]
  },
  {
   "cell_type": "code",
   "execution_count": 442,
   "metadata": {
    "scrolled": true
   },
   "outputs": [
    {
     "name": "stdout",
     "output_type": "stream",
     "text": [
      "Accuracy: 0.79\n",
      "              precision    recall  f1-score   support\n",
      "\n",
      "      failed       0.75      0.70      0.72     56545\n",
      "  successful       0.82      0.85      0.83     87953\n",
      "\n",
      "    accuracy                           0.79    144498\n",
      "   macro avg       0.78      0.77      0.78    144498\n",
      "weighted avg       0.79      0.79      0.79    144498\n",
      "\n"
     ]
    }
   ],
   "source": [
    "print(\"Accuracy: {:.2f}\".format(accuracy_score(y_train, y_train_predicted_R_forest)))\n",
    "print(classification_report(y_train, y_train_predicted_R_forest))"
   ]
  },
  {
   "cell_type": "markdown",
   "metadata": {},
   "source": [
    "### GridSearch"
   ]
  },
  {
   "cell_type": "code",
   "execution_count": 443,
   "metadata": {},
   "outputs": [],
   "source": [
    "samples_1 = int(round(len(X_train) / 100))\n",
    "samples_10 = int(round(len(X_train) / 10))\n",
    "samples_25 = int(round(len(X_train)/4))\n",
    "\n",
    "param_R_forest = {'classifier__bootstrap': [True, False],\n",
    "                'classifier__max_depth': [ 2, 3, 4],\n",
    "                'classifier__n_estimators': [samples_1, samples_10, samples_25]}\n",
    "\n",
    "\n",
    "\n",
    "grid_R_forest = GridSearchCV(pipe_R_forest, param_grid=param_R_forest, cv=3, scoring='accuracy', \n",
    "                             verbose=5, n_jobs=-1)"
   ]
  },
  {
   "cell_type": "code",
   "execution_count": 444,
   "metadata": {
    "scrolled": true
   },
   "outputs": [
    {
     "name": "stdout",
     "output_type": "stream",
     "text": [
      "Fitting 3 folds for each of 18 candidates, totalling 54 fits\n"
     ]
    },
    {
     "name": "stderr",
     "output_type": "stream",
     "text": [
      "[Parallel(n_jobs=-1)]: Using backend LokyBackend with 4 concurrent workers.\n",
      "[Parallel(n_jobs=-1)]: Done  10 tasks      | elapsed: 15.9min\n",
      "[Parallel(n_jobs=-1)]: Done  54 out of  54 | elapsed: 119.0min finished\n"
     ]
    },
    {
     "data": {
      "text/plain": [
       "GridSearchCV(cv=3, error_score=nan,\n",
       "             estimator=Pipeline(memory=None,\n",
       "                                steps=[('preprocessor',\n",
       "                                        ColumnTransformer(n_jobs=None,\n",
       "                                                          remainder='drop',\n",
       "                                                          sparse_threshold=0.3,\n",
       "                                                          transformer_weights=None,\n",
       "                                                          transformers=[('num',\n",
       "                                                                         Pipeline(memory=None,\n",
       "                                                                                  steps=[('imputer_num',\n",
       "                                                                                          SimpleImputer(add_indicator=False,\n",
       "                                                                                                        copy=True,\n",
       "                                                                                                        fill_value=None,\n",
       "                                                                                                        missing_values=nan,\n",
       "                                                                                                        strategy='median',\n",
       "                                                                                                        verbose=...\n",
       "                                                               n_estimators=70,\n",
       "                                                               n_jobs=None,\n",
       "                                                               oob_score=False,\n",
       "                                                               random_state=None,\n",
       "                                                               verbose=0,\n",
       "                                                               warm_start=False))],\n",
       "                                verbose=False),\n",
       "             iid='deprecated', n_jobs=-1,\n",
       "             param_grid={'classifier__bootstrap': [True, False],\n",
       "                         'classifier__max_depth': [2, 3, 4],\n",
       "                         'classifier__n_estimators': [1445, 14450, 36124]},\n",
       "             pre_dispatch='2*n_jobs', refit=True, return_train_score=False,\n",
       "             scoring='accuracy', verbose=5)"
      ]
     },
     "execution_count": 444,
     "metadata": {},
     "output_type": "execute_result"
    }
   ],
   "source": [
    "grid_R_forest.fit(X_train, y_train)"
   ]
  },
  {
   "cell_type": "code",
   "execution_count": 445,
   "metadata": {
    "scrolled": true
   },
   "outputs": [
    {
     "name": "stdout",
     "output_type": "stream",
     "text": [
      "Best score:\n",
      "0.66\n",
      "Best parameters:\n",
      "{'classifier__bootstrap': True, 'classifier__max_depth': 4, 'classifier__n_estimators': 1445}\n"
     ]
    }
   ],
   "source": [
    "# Show best parameters\n",
    "print('Best score:\\n{:.2f}'.format(grid_R_forest.best_score_))\n",
    "print(\"Best parameters:\\n{}\".format(grid_R_forest.best_params_))"
   ]
  },
  {
   "cell_type": "markdown",
   "metadata": {},
   "source": [
    "best score and best parameter bevore we remove \"currency_trailing_code\", \"count_id\", \"preparation\", \"act_duration\", \"category_name\"\n",
    "Best score:\n",
    "0.69\n",
    "Best parameters:\n",
    "{'classifier__bootstrap': False, 'classifier__max_depth': 4, 'classifier__n_estimators': 1445}"
   ]
  },
  {
   "cell_type": "code",
   "execution_count": 446,
   "metadata": {},
   "outputs": [],
   "source": [
    "best_model2 = grid_R_forest.best_estimator_[\"classifier\"]"
   ]
  },
  {
   "cell_type": "markdown",
   "metadata": {},
   "source": [
    "## AdaBoostClassifier"
   ]
  },
  {
   "cell_type": "code",
   "execution_count": 447,
   "metadata": {},
   "outputs": [],
   "source": [
    "pipe_AdaBoost= Pipeline([('preprocessor', preprocessor),\n",
    "                         ('AdaBoost', AdaBoostClassifier(random_state=Rseed, base_estimator=DecisionTreeClassifier()))])"
   ]
  },
  {
   "cell_type": "code",
   "execution_count": 448,
   "metadata": {},
   "outputs": [],
   "source": [
    "# Making predictions on the training set using cross validation as well as calculating the probabilities \n",
    "y_train_predicted_AdaBoost = cross_val_predict(pipe_AdaBoost, X_train, y_train, cv=5)"
   ]
  },
  {
   "cell_type": "code",
   "execution_count": 449,
   "metadata": {
    "scrolled": true
   },
   "outputs": [
    {
     "name": "stdout",
     "output_type": "stream",
     "text": [
      "Accuracy: 0.76\n",
      "              precision    recall  f1-score   support\n",
      "\n",
      "      failed       0.70      0.67      0.68     56545\n",
      "  successful       0.79      0.82      0.81     87953\n",
      "\n",
      "    accuracy                           0.76    144498\n",
      "   macro avg       0.75      0.74      0.75    144498\n",
      "weighted avg       0.76      0.76      0.76    144498\n",
      "\n"
     ]
    }
   ],
   "source": [
    "print(\"Accuracy: {:.2f}\".format(accuracy_score(y_train, y_train_predicted_AdaBoost)))\n",
    "print(classification_report(y_train, y_train_predicted_AdaBoost))"
   ]
  },
  {
   "cell_type": "markdown",
   "metadata": {},
   "source": [
    "### GridSearch"
   ]
  },
  {
   "cell_type": "code",
   "execution_count": 450,
   "metadata": {
    "scrolled": true
   },
   "outputs": [
    {
     "name": "stdout",
     "output_type": "stream",
     "text": [
      "Fitting 3 folds for each of 12 candidates, totalling 36 fits\n"
     ]
    },
    {
     "name": "stderr",
     "output_type": "stream",
     "text": [
      "[Parallel(n_jobs=-1)]: Using backend LokyBackend with 4 concurrent workers.\n",
      "[Parallel(n_jobs=-1)]: Done  10 tasks      | elapsed:  1.8min\n",
      "[Parallel(n_jobs=-1)]: Done  36 out of  36 | elapsed:  6.2min finished\n"
     ]
    }
   ],
   "source": [
    "param_AdaBoost = {'AdaBoost__n_estimators':[50, 120],                \n",
    "                  'AdaBoost__learning_rate':[0.25, 0.5, 0.75],               \n",
    "                  'AdaBoost__base_estimator__min_samples_split' : np.arange(2, 4, 2),               \n",
    "                  'AdaBoost__base_estimator__max_depth' : np.arange(2, 4, 1)}\n",
    "\n",
    "\n",
    "\n",
    "grid_AdaBoost = GridSearchCV(pipe_AdaBoost, param_grid=param_AdaBoost, cv=3, scoring='accuracy', \n",
    "                            verbose=5, n_jobs=-1).fit(X_train, y_train)"
   ]
  },
  {
   "cell_type": "code",
   "execution_count": 451,
   "metadata": {
    "scrolled": true
   },
   "outputs": [
    {
     "name": "stdout",
     "output_type": "stream",
     "text": [
      "Best score:\n",
      "0.80\n",
      "Best parameters:\n",
      "{'AdaBoost__base_estimator__max_depth': 3, 'AdaBoost__base_estimator__min_samples_split': 2, 'AdaBoost__learning_rate': 0.75, 'AdaBoost__n_estimators': 120}\n"
     ]
    }
   ],
   "source": [
    "# Show best parameters\n",
    "print('Best score:\\n{:.2f}'.format(grid_AdaBoost.best_score_))\n",
    "print(\"Best parameters:\\n{}\".format(grid_AdaBoost.best_params_))"
   ]
  },
  {
   "cell_type": "markdown",
   "metadata": {},
   "source": [
    "best score and best parameter bevore we remove \"currency_trailing_code\", \"count_id\", \"preparation\", \"act_duration\", \"category_name\"\n",
    "\n",
    "Best score:\n",
    "0.87\n",
    "Best parameters:\n",
    "{'AdaBoost__base_estimator__max_depth': 3, 'AdaBoost__base_estimator__min_samples_split': 2, 'AdaBoost__learning_rate': 0.25, 'AdaBoost__n_estimators': 120}"
   ]
  },
  {
   "cell_type": "code",
   "execution_count": 452,
   "metadata": {},
   "outputs": [],
   "source": [
    "# Save best model as best_model\n",
    "best_model3 = grid_AdaBoost.best_estimator_['AdaBoost']"
   ]
  },
  {
   "cell_type": "markdown",
   "metadata": {},
   "source": [
    "## Support Vector Machine "
   ]
  },
  {
   "cell_type": "code",
   "execution_count": 453,
   "metadata": {},
   "outputs": [],
   "source": [
    "pipe_SVM= Pipeline([('preprocessor', preprocessor),\n",
    "                         ('SVC', SVC(kernel='linear', C=1))])"
   ]
  },
  {
   "cell_type": "code",
   "execution_count": 454,
   "metadata": {},
   "outputs": [],
   "source": [
    "# Making predictions on the training set using cross validation as well as calculating the probabilities \n",
    "y_train_predicted_SVM = cross_val_predict(pipe_SVM, X_train, y_train, cv=5)"
   ]
  },
  {
   "cell_type": "code",
   "execution_count": 455,
   "metadata": {},
   "outputs": [
    {
     "name": "stdout",
     "output_type": "stream",
     "text": [
      "Accuracy: 0.75\n",
      "              precision    recall  f1-score   support\n",
      "\n",
      "      failed       0.72      0.58      0.64     56545\n",
      "  successful       0.76      0.86      0.80     87953\n",
      "\n",
      "    accuracy                           0.75    144498\n",
      "   macro avg       0.74      0.72      0.72    144498\n",
      "weighted avg       0.74      0.75      0.74    144498\n",
      "\n"
     ]
    }
   ],
   "source": [
    "print(\"Accuracy: {:.2f}\".format(accuracy_score(y_train, y_train_predicted_SVM)))\n",
    "print(classification_report(y_train, y_train_predicted_SVM))"
   ]
  },
  {
   "cell_type": "markdown",
   "metadata": {},
   "source": [
    "### Grid Search"
   ]
  },
  {
   "cell_type": "code",
   "execution_count": 456,
   "metadata": {},
   "outputs": [],
   "source": [
    "param_SVM = {'SVC__C': [5, 10, 15],\n",
    "           'SVC__gamma': [0.0001, 0.0005, 0.001]}"
   ]
  },
  {
   "cell_type": "code",
   "execution_count": 457,
   "metadata": {},
   "outputs": [],
   "source": [
    "grid_SVM = GridSearchCV(pipe_SVM, param_grid=param_SVM, cv=3, scoring='accuracy', \n",
    "                            verbose=5, n_jobs=-1).fit(X_train, y_train)"
   ]
  },
  {
   "cell_type": "code",
   "execution_count": 458,
   "metadata": {},
   "outputs": [],
   "source": [
    "# Show best parameters\n",
    "\n",
    "print('Best score:\\n{:.2f}'.format(grid_SVM.best_score_))\n",
    "print(\"Best parameters:\\n{}\".format(grid_SVM.best_params_))"
   ]
  },
  {
   "cell_type": "code",
   "execution_count": 473,
   "metadata": {},
   "outputs": [
    {
     "ename": "NameError",
     "evalue": "name 'grid_SVM' is not defined",
     "output_type": "error",
     "traceback": [
      "\u001b[0;31m---------------------------------------------------------------------------\u001b[0m",
      "\u001b[0;31mNameError\u001b[0m                                 Traceback (most recent call last)",
      "\u001b[0;32m<ipython-input-473-e1bd1fc6506c>\u001b[0m in \u001b[0;36m<module>\u001b[0;34m\u001b[0m\n\u001b[1;32m      1\u001b[0m \u001b[0;31m# Save best model as best_model4\u001b[0m\u001b[0;34m\u001b[0m\u001b[0;34m\u001b[0m\u001b[0;34m\u001b[0m\u001b[0m\n\u001b[0;32m----> 2\u001b[0;31m \u001b[0mbest_model4\u001b[0m \u001b[0;34m=\u001b[0m \u001b[0mgrid_SVM\u001b[0m\u001b[0;34m.\u001b[0m\u001b[0mbest_estimator_\u001b[0m\u001b[0;34m[\u001b[0m\u001b[0;34m'SVM'\u001b[0m\u001b[0;34m]\u001b[0m\u001b[0;34m\u001b[0m\u001b[0;34m\u001b[0m\u001b[0m\n\u001b[0m",
      "\u001b[0;31mNameError\u001b[0m: name 'grid_SVM' is not defined"
     ]
    }
   ],
   "source": [
    "# Save best model as best_model4\n",
    "best_model4 = grid_SVM.best_estimator_['SVM']"
   ]
  },
  {
   "cell_type": "markdown",
   "metadata": {},
   "source": [
    "## Final Evaluation"
   ]
  },
  {
   "cell_type": "code",
   "execution_count": 460,
   "metadata": {},
   "outputs": [],
   "source": [
    "# Preparing the test set \n",
    "preprocessor.fit(X_train)\n",
    "X_test_preprocessed = preprocessor.transform(X_test)"
   ]
  },
  {
   "cell_type": "code",
   "execution_count": 461,
   "metadata": {
    "scrolled": true
   },
   "outputs": [
    {
     "data": {
      "text/plain": [
       "<48166x263 sparse matrix of type '<class 'numpy.float64'>'\n",
       "\twith 626150 stored elements in Compressed Sparse Row format>"
      ]
     },
     "execution_count": 461,
     "metadata": {},
     "output_type": "execute_result"
    }
   ],
   "source": [
    "X_test_preprocessed"
   ]
  },
  {
   "cell_type": "code",
   "execution_count": 462,
   "metadata": {},
   "outputs": [
    {
     "data": {
      "text/plain": [
       "Index(['backers_count', 'country', 'currency', 'currency_trailing_code',\n",
       "       'staff_pick', 'usd_pledged', 'usd_type', 'category_name',\n",
       "       'category_position', 'location_country', 'location_type',\n",
       "       'blurb_length', 'name_length', 'country_US', 'duration', 'preparation',\n",
       "       'act_duration', 'USD_goal', 'count_id', 'count_creator_id',\n",
       "       'parent_category'],\n",
       "      dtype='object')"
      ]
     },
     "execution_count": 462,
     "metadata": {},
     "output_type": "execute_result"
    }
   ],
   "source": [
    "X_test.columns"
   ]
  },
  {
   "cell_type": "code",
   "execution_count": 474,
   "metadata": {
    "scrolled": false
   },
   "outputs": [
    {
     "name": "stdout",
     "output_type": "stream",
     "text": [
      "Logistic Regression\n",
      "----------\n",
      "Accuracy: 0.76\n",
      "              precision    recall  f1-score   support\n",
      "\n",
      "      failed       0.72      0.60      0.66     18654\n",
      "  successful       0.77      0.85      0.81     29512\n",
      "\n",
      "    accuracy                           0.76     48166\n",
      "   macro avg       0.75      0.73      0.74     48166\n",
      "weighted avg       0.75      0.76      0.75     48166\n",
      "\n",
      "\n",
      "Random Forest\n",
      "----------\n",
      "Accuracy: 0.66\n",
      "              precision    recall  f1-score   support\n",
      "\n",
      "      failed       0.94      0.14      0.25     18654\n",
      "  successful       0.65      0.99      0.78     29512\n",
      "\n",
      "    accuracy                           0.66     48166\n",
      "   macro avg       0.79      0.57      0.52     48166\n",
      "weighted avg       0.76      0.66      0.58     48166\n",
      "\n",
      "\n",
      "AdaBoost Classifier\n",
      "----------\n",
      "Accuracy: 0.80\n",
      "              precision    recall  f1-score   support\n",
      "\n",
      "      failed       0.77      0.70      0.73     18654\n",
      "  successful       0.82      0.87      0.84     29512\n",
      "\n",
      "    accuracy                           0.80     48166\n",
      "   macro avg       0.79      0.78      0.79     48166\n",
      "weighted avg       0.80      0.80      0.80     48166\n",
      "\n",
      "\n",
      "Support Vector Mschine\n",
      "----------\n"
     ]
    },
    {
     "ename": "NameError",
     "evalue": "name 'y_test_predicted_SVM' is not defined",
     "output_type": "error",
     "traceback": [
      "\u001b[0;31m---------------------------------------------------------------------------\u001b[0m",
      "\u001b[0;31mNameError\u001b[0m                                 Traceback (most recent call last)",
      "\u001b[0;32m<ipython-input-474-88d118c07c3a>\u001b[0m in \u001b[0;36m<module>\u001b[0;34m\u001b[0m\n\u001b[1;32m     18\u001b[0m \u001b[0;34m\u001b[0m\u001b[0m\n\u001b[1;32m     19\u001b[0m \u001b[0mprint\u001b[0m\u001b[0;34m(\u001b[0m\u001b[0;34m\"\\nSupport Vector Mschine\\n----------\"\u001b[0m\u001b[0;34m)\u001b[0m\u001b[0;34m\u001b[0m\u001b[0;34m\u001b[0m\u001b[0m\n\u001b[0;32m---> 20\u001b[0;31m \u001b[0mprint\u001b[0m\u001b[0;34m(\u001b[0m\u001b[0;34m\"Accuracy: {:.2f}\"\u001b[0m\u001b[0;34m.\u001b[0m\u001b[0mformat\u001b[0m\u001b[0;34m(\u001b[0m\u001b[0maccuracy_score\u001b[0m\u001b[0;34m(\u001b[0m\u001b[0my_test\u001b[0m\u001b[0;34m,\u001b[0m \u001b[0my_test_predicted_SVM\u001b[0m\u001b[0;34m)\u001b[0m\u001b[0;34m)\u001b[0m\u001b[0;34m)\u001b[0m\u001b[0;34m\u001b[0m\u001b[0;34m\u001b[0m\u001b[0m\n\u001b[0m\u001b[1;32m     21\u001b[0m \u001b[0mprint\u001b[0m\u001b[0;34m(\u001b[0m\u001b[0mclassification_report\u001b[0m\u001b[0;34m(\u001b[0m\u001b[0my_test\u001b[0m\u001b[0;34m,\u001b[0m \u001b[0my_test_predicted_SVM\u001b[0m\u001b[0;34m)\u001b[0m\u001b[0;34m)\u001b[0m\u001b[0;34m\u001b[0m\u001b[0;34m\u001b[0m\u001b[0m\n",
      "\u001b[0;31mNameError\u001b[0m: name 'y_test_predicted_SVM' is not defined"
     ]
    }
   ],
   "source": [
    "# Calculating the accuracy, recall and precision for the test set with the optimized model\n",
    "y_test_predicted_logreg = best_model.predict(X_test_preprocessed)\n",
    "y_test_predicted_R_forest = best_model2.predict(X_test_preprocessed)\n",
    "y_test_predicted_AdaBoost = best_model3.predict(X_test_preprocessed)\n",
    "#y_test_predict_SVM = best_model4.predict(X_test_preprocessed)\n",
    "\n",
    "print(\"Logistic Regression\\n----------\")\n",
    "print(\"Accuracy: {:.2f}\".format(accuracy_score(y_test, y_test_predicted_logreg)))\n",
    "print(classification_report(y_test, y_test_predicted_logreg))\n",
    "\n",
    "print(\"\\nRandom Forest\\n----------\")\n",
    "print(\"Accuracy: {:.2f}\".format(accuracy_score(y_test, y_test_predicted_R_forest)))\n",
    "print(classification_report(y_test, y_test_predicted_R_forest))\n",
    "\n",
    "print(\"\\nAdaBoost Classifier\\n----------\")\n",
    "print(\"Accuracy: {:.2f}\".format(accuracy_score(y_test, y_test_predicted_AdaBoost)))\n",
    "print(classification_report(y_test, y_test_predicted_AdaBoost))\n",
    "\n",
    "print(\"\\nSupport Vector Mschine\\n----------\")\n",
    "print(\"Accuracy: {:.2f}\".format(accuracy_score(y_test, y_test_predicted_SVM)))\n",
    "print(classification_report(y_test, y_test_predicted_SVM))"
   ]
  },
  {
   "cell_type": "markdown",
   "metadata": {},
   "source": [
    "# Data Visualization"
   ]
  },
  {
   "cell_type": "code",
   "execution_count": 464,
   "metadata": {},
   "outputs": [],
   "source": [
    "onehot_columns = list(pipe_AdaBoost.named_steps[\"preprocessor\"].named_transformers_['cat'].named_steps['1hot'].get_feature_names(input_features=cat_features))\n",
    "numeric_features_listasd = list(num_features)\n",
    "numeric_features_listasd.extend(onehot_columns)"
   ]
  },
  {
   "cell_type": "code",
   "execution_count": 465,
   "metadata": {},
   "outputs": [],
   "source": [
    "def feature_plot(importances, X_train, y_train):\n",
    "    \n",
    "    # Display the five most important features\n",
    "    indices = list(np.argsort(importances)[::-1])\n",
    "    #print(indices[:10])\n",
    "    #columns = X_train.columns.values[indices[:9]]\n",
    "    columns = []\n",
    "    for col in indices[:10]:\n",
    "        columns.append(numeric_features_listasd[col])\n",
    "    values = importances[indices][:10]\n",
    "\n",
    "    # Creat the plot\n",
    "    fig = plt.figure(figsize = (13,6))\n",
    "    plt.title(\"Normalized Weights for First Nine Most Predictive Features\", fontsize = 16)\n",
    "    plt.bar(np.arange(10), values, width = 0.6, align=\"center\", color = '#00A000', \\\n",
    "          label = \"Feature Weight\")\n",
    "    plt.bar(np.arange(10) - 0.3, np.cumsum(values), width = 0.2, align = \"center\", color = '#00A0A0', \\\n",
    "          label = \"Cumulative Feature Weight\")\n",
    "    plt.xticks(np.arange(9), columns)\n",
    "    plt.xlim((-0.5, 8.5))\n",
    "    plt.ylabel(\"Weight\", fontsize = 12)\n",
    "    plt.xlabel(\"Feature\", fontsize = 12)\n",
    "    plt.xticks(rotation=45)\n",
    "    \n",
    "    plt.legend(loc = 'upper center')\n",
    "    plt.tight_layout()\n",
    "    plt.show() "
   ]
  },
  {
   "cell_type": "markdown",
   "metadata": {},
   "source": [
    "## Feature Importance "
   ]
  },
  {
   "cell_type": "markdown",
   "metadata": {},
   "source": [
    "### Logistic Regression"
   ]
  },
  {
   "cell_type": "code",
   "execution_count": 466,
   "metadata": {
    "scrolled": false
   },
   "outputs": [
    {
     "data": {
      "image/png": "[encoded data removed]",
      "text/plain": [
       "<Figure size 936x432 with 1 Axes>"
      ]
     },
     "metadata": {},
     "output_type": "display_data"
    }
   ],
   "source": [
    "imp = abs(best_model.coef_[0])\n",
    "feature_importance = (imp / imp.sum())\n",
    "\n",
    "importances = feature_importance\n",
    "# Plot\n",
    "feature_plot(importances, numeric_features_listasd, y_train)"
   ]
  },
  {
   "cell_type": "markdown",
   "metadata": {},
   "source": [
    "### Random Forest"
   ]
  },
  {
   "cell_type": "code",
   "execution_count": 467,
   "metadata": {
    "scrolled": false
   },
   "outputs": [
    {
     "data": {
      "image/png": "[encoded data removed]",
      "text/plain": [
       "<Figure size 936x432 with 1 Axes>"
      ]
     },
     "metadata": {},
     "output_type": "display_data"
    }
   ],
   "source": [
    "importances = best_model2.feature_importances_\n",
    "# Plot\n",
    "feature_plot(importances, X_test_preprocessed, y_train)"
   ]
  },
  {
   "cell_type": "markdown",
   "metadata": {},
   "source": [
    "### AdaBoost Classifier"
   ]
  },
  {
   "cell_type": "code",
   "execution_count": 468,
   "metadata": {},
   "outputs": [
    {
     "data": {
      "image/png": "[encoded data removed]",
      "text/plain": [
       "<Figure size 936x432 with 1 Axes>"
      ]
     },
     "metadata": {},
     "output_type": "display_data"
    }
   ],
   "source": [
    "importances = best_model3.feature_importances_\n",
    "# Plot\n",
    "feature_plot(importances, X_test_preprocessed, y_train)"
   ]
  },
  {
   "cell_type": "markdown",
   "metadata": {},
   "source": [
    "## Confusion Matrix for our best Model "
   ]
  },
  {
   "cell_type": "code",
   "execution_count": 469,
   "metadata": {
    "code_folding": []
   },
   "outputs": [
    {
     "data": {
      "image/png": "[encoded data removed]",
      "text/plain": [
       "<Figure size 432x288 with 2 Axes>"
      ]
     },
     "metadata": {},
     "output_type": "display_data"
    }
   ],
   "source": [
    "#Visualizing the confusion matrix for each classifier\n",
    "from sklearn.metrics import confusion_matrix\n",
    "\n",
    "for i,model in enumerate([best_model3]):\n",
    "    cm = confusion_matrix(y_test, y_test_predicted_AdaBoost)\n",
    "    cm = cm.astype('float') / cm.sum(axis=1)[:, np.newaxis] # normalize the data\n",
    "\n",
    "    # view with a heatmap\n",
    "    plt.figure(i)\n",
    "    sns.heatmap(cm, annot=True, annot_kws={\"size\":30}, \n",
    "            cmap='Blues', square=True, fmt='.3f')\n",
    "    plt.ylabel('True label')\n",
    "    plt.xlabel('Predicted label')\n",
    "    plt.title('Confusion matrix for:\\n{}'.format(model.__class__.__name__));"
   ]
  },
  {
   "cell_type": "markdown",
   "metadata": {},
   "source": [
    "# Future Work "
   ]
  },
  {
   "cell_type": "code",
   "execution_count": null,
   "metadata": {},
   "outputs": [],
   "source": []
  }
 ],
 "metadata": {
  "kernelspec": {
   "display_name": "Python [conda env:nf] *",
   "language": "python",
   "name": "conda-env-nf-py"
  },
  "language_info": {
   "codemirror_mode": {
    "name": "ipython",
    "version": 3
   },
   "file_extension": ".py",
   "mimetype": "text/x-python",
   "name": "python",
   "nbconvert_exporter": "python",
   "pygments_lexer": "ipython3",
   "version": "3.6.10"
  },
  "toc": {
   "base_numbering": 1,
   "nav_menu": {},
   "number_sections": true,
   "sideBar": true,
   "skip_h1_title": false,
   "title_cell": "Table of Contents",
   "title_sidebar": "Contents",
   "toc_cell": false,
   "toc_position": {
    "height": "calc(100% - 180px)",
    "left": "10px",
    "top": "150px",
    "width": "260px"
   },
   "toc_section_display": true,
   "toc_window_display": true
  }
 },
 "nbformat": 4,
 "nbformat_minor": 4
}
